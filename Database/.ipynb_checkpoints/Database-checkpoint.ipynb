{
 "cells": [
  {
   "cell_type": "markdown",
   "metadata": {},
   "source": [
    "    Char\n",
    "        name char(100)\n",
    "        name --> 100 characters(fixed)\n",
    "        simran --> 6 char\n",
    "        100 - 6 = 94\n",
    "    \n",
    "    Varchar \n",
    "        name varchar(100)\n",
    "        name --> 100 (variable)\n",
    "        simran --> 6 char \n",
    "        100 - 6 = 94 (free to use)"
   ]
  },
  {
   "cell_type": "markdown",
   "metadata": {},
   "source": [
    "### Aggregate Functions\n",
    "\n",
    "    1. min\n",
    "    2. max\n",
    "    3. sum\n",
    "    4. avg\n",
    "    5. count --> count number of values or rows which are not null"
   ]
  },
  {
   "cell_type": "markdown",
   "metadata": {},
   "source": [
    "    student --> id  link fees --> sid"
   ]
  },
  {
   "cell_type": "markdown",
   "metadata": {},
   "source": [
    "    categorial data --> groups\n",
    "    \n",
    "        groups --> courses \n",
    "        groups --> course_status\n",
    "        \n",
    "        group by --> condition --> having"
   ]
  },
  {
   "cell_type": "markdown",
   "metadata": {},
   "source": [
    "### JOINS\n",
    "    \n",
    "    We use joins to merge the 2 tables and get data from it\n",
    "\n",
    "    left_table join_type right_table\n",
    "    1. inner\n",
    "        common data \n",
    "        left_table --> 3 columns\n",
    "        right_table --> 4 columns \n",
    "        you need to decide the column on which basis you want to find intersection(common)\n",
    "        select columns from t1 inner join t2 on join_condition;\n",
    "        \n",
    "    2. outer\n",
    "        all data\n",
    "        \n",
    "    3. left \n",
    "        whole data of left_table but common data of both the table\n",
    "        \n",
    "    4. right\n",
    "        whole data of right_table but common data of both the table"
   ]
  },
  {
   "cell_type": "markdown",
   "metadata": {},
   "source": [
    "    pattern matching --> like\n",
    "    _ --> one character\n",
    "    % --> zero or more character"
   ]
  },
  {
   "cell_type": "code",
   "execution_count": null,
   "metadata": {},
   "outputs": [],
   "source": []
  }
 ],
 "metadata": {
  "kernelspec": {
   "display_name": "Python 3",
   "language": "python",
   "name": "python3"
  },
  "language_info": {
   "codemirror_mode": {
    "name": "ipython",
    "version": 3
   },
   "file_extension": ".py",
   "mimetype": "text/x-python",
   "name": "python",
   "nbconvert_exporter": "python",
   "pygments_lexer": "ipython3",
   "version": "3.8.5"
  }
 },
 "nbformat": 4,
 "nbformat_minor": 4
}
