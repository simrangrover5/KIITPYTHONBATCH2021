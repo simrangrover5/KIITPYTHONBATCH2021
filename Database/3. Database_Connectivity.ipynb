{
 "cells": [
  {
   "cell_type": "markdown",
   "metadata": {},
   "source": [
    "## Doubts???"
   ]
  },
  {
   "cell_type": "markdown",
   "metadata": {},
   "source": [
    "    grant all privileges on kiitbatch.* to 'kitbatch'@'hostname'\n",
    "                            dbname.tablename username@hostname\n",
    "                            * --> all table \n",
    "                        \n",
    "    grant select, insert on kiitbatch.student to 'kitbatch'@'hostname';\n",
    "                 "
   ]
  },
  {
   "cell_type": "markdown",
   "metadata": {},
   "source": [
    "    module --> .py file\n",
    "    packages --> folder"
   ]
  },
  {
   "cell_type": "code",
   "execution_count": 1,
   "metadata": {},
   "outputs": [
    {
     "name": "stdout",
     "output_type": "stream",
     "text": [
      "Writing one.py\n"
     ]
    }
   ],
   "source": [
    "%%writefile one.py\n",
    "\n",
    "\n",
    "def func():\n",
    "    print(\"hello world\")"
   ]
  },
  {
   "cell_type": "code",
   "execution_count": 2,
   "metadata": {},
   "outputs": [],
   "source": [
    "from one import func"
   ]
  },
  {
   "cell_type": "code",
   "execution_count": 4,
   "metadata": {},
   "outputs": [],
   "source": [
    "### it finds one.py file in PWD"
   ]
  },
  {
   "cell_type": "code",
   "execution_count": 3,
   "metadata": {},
   "outputs": [
    {
     "name": "stdout",
     "output_type": "stream",
     "text": [
      "hello world\n"
     ]
    }
   ],
   "source": [
    "func()"
   ]
  },
  {
   "cell_type": "code",
   "execution_count": null,
   "metadata": {},
   "outputs": [],
   "source": [
    "import random \n",
    "import time\n",
    "import getpass"
   ]
  },
  {
   "cell_type": "code",
   "execution_count": 5,
   "metadata": {},
   "outputs": [],
   "source": [
    "import sys"
   ]
  },
  {
   "cell_type": "code",
   "execution_count": 6,
   "metadata": {},
   "outputs": [
    {
     "data": {
      "text/plain": [
       "['C:\\\\batches\\\\online_batch\\\\KITBatch3pm\\\\Database',\n",
       " 'C:\\\\Anaconda\\\\python38.zip',\n",
       " 'C:\\\\Anaconda\\\\DLLs',\n",
       " 'C:\\\\Anaconda\\\\lib',\n",
       " 'C:\\\\Anaconda',\n",
       " '',\n",
       " 'C:\\\\Anaconda\\\\lib\\\\site-packages',\n",
       " 'C:\\\\Anaconda\\\\lib\\\\site-packages\\\\win32',\n",
       " 'C:\\\\Anaconda\\\\lib\\\\site-packages\\\\win32\\\\lib',\n",
       " 'C:\\\\Anaconda\\\\lib\\\\site-packages\\\\Pythonwin',\n",
       " 'C:\\\\Anaconda\\\\lib\\\\site-packages\\\\IPython\\\\extensions',\n",
       " 'C:\\\\Users\\\\Simran Grover\\\\.ipython']"
      ]
     },
     "execution_count": 6,
     "metadata": {},
     "output_type": "execute_result"
    }
   ],
   "source": [
    "sys.path"
   ]
  },
  {
   "cell_type": "code",
   "execution_count": null,
   "metadata": {},
   "outputs": [],
   "source": [
    "## sys.path shows us the paths from where it imports library or package"
   ]
  },
  {
   "cell_type": "markdown",
   "metadata": {},
   "source": [
    "    library --> install \n",
    "    \n",
    "    to install any module\n",
    "    \n",
    "    pip install module_name (powershell/jupyter-notebook)\n",
    "    \n",
    "    \n",
    "    pip --> pypi.org (install)\n",
    "    \n",
    "    \n",
    "    pypi --> python package index"
   ]
  },
  {
   "cell_type": "code",
   "execution_count": 7,
   "metadata": {},
   "outputs": [
    {
     "name": "stdout",
     "output_type": "stream",
     "text": [
      "Requirement already satisfied: pymysql in c:\\anaconda\\lib\\site-packages (1.0.2)\n"
     ]
    }
   ],
   "source": [
    "!pip install pymysql"
   ]
  },
  {
   "cell_type": "markdown",
   "metadata": {},
   "source": [
    "    pymysql --> interface or module through which you will connect with py --> db"
   ]
  },
  {
   "cell_type": "code",
   "execution_count": 8,
   "metadata": {},
   "outputs": [],
   "source": [
    "import pymysql as sql"
   ]
  },
  {
   "cell_type": "code",
   "execution_count": 9,
   "metadata": {},
   "outputs": [],
   "source": [
    "db = sql.connect(host=\"localhost\", port=3306, user=\"root\", password=\"\")\n",
    "# connection \n",
    "# db --> object"
   ]
  },
  {
   "cell_type": "code",
   "execution_count": 10,
   "metadata": {},
   "outputs": [
    {
     "data": {
      "text/plain": [
       "<pymysql.connections.Connection at 0x2c9e9c7d1c0>"
      ]
     },
     "execution_count": 10,
     "metadata": {},
     "output_type": "execute_result"
    }
   ],
   "source": [
    "db"
   ]
  },
  {
   "cell_type": "code",
   "execution_count": 12,
   "metadata": {},
   "outputs": [],
   "source": [
    "cursor = db.cursor()\n",
    "# cursor is used to execute the commands"
   ]
  },
  {
   "cell_type": "code",
   "execution_count": 13,
   "metadata": {},
   "outputs": [
    {
     "data": {
      "text/plain": [
       "0"
      ]
     },
     "execution_count": 13,
     "metadata": {},
     "output_type": "execute_result"
    }
   ],
   "source": [
    "cursor.execute(\"use kiitbatch\")"
   ]
  },
  {
   "cell_type": "code",
   "execution_count": 16,
   "metadata": {},
   "outputs": [
    {
     "data": {
      "text/plain": [
       "9"
      ]
     },
     "execution_count": 16,
     "metadata": {},
     "output_type": "execute_result"
    }
   ],
   "source": [
    "cursor.execute(\"select * from student\")\n",
    "# 9 --> got 9 rows "
   ]
  },
  {
   "cell_type": "code",
   "execution_count": 15,
   "metadata": {},
   "outputs": [
    {
     "data": {
      "text/plain": [
       "((1, 'ritik', 'python', 21),\n",
       " (2, 'manish', 'python', 22),\n",
       " (3, 'surbhi', 'ds', 23),\n",
       " (4, 'sonam', 'aws', 21),\n",
       " (5, 'aman', 'azure', 30),\n",
       " (6, 'ashish', 'aws', 31),\n",
       " (7, 'mani', 'ds', 28),\n",
       " (8, 'hari', 'ds', None),\n",
       " (9, 'shubh', 'azure', 22))"
      ]
     },
     "execution_count": 15,
     "metadata": {},
     "output_type": "execute_result"
    }
   ],
   "source": [
    "cursor.fetchall()  # all data"
   ]
  },
  {
   "cell_type": "code",
   "execution_count": 17,
   "metadata": {},
   "outputs": [
    {
     "data": {
      "text/plain": [
       "(1, 'ritik', 'python', 21)"
      ]
     },
     "execution_count": 17,
     "metadata": {},
     "output_type": "execute_result"
    }
   ],
   "source": [
    "cursor.fetchone()  # return only first row"
   ]
  },
  {
   "cell_type": "code",
   "execution_count": 18,
   "metadata": {},
   "outputs": [],
   "source": [
    "db.close()"
   ]
  },
  {
   "cell_type": "code",
   "execution_count": 20,
   "metadata": {},
   "outputs": [
    {
     "name": "stdout",
     "output_type": "stream",
     "text": [
      "\n",
      " SELECT QUERY --> select * from student\n",
      "1\t|\tritik\t|\tpython\t|\t21\n",
      "2\t|\tmanish\t|\tpython\t|\t22\n",
      "3\t|\tsurbhi\t|\tds\t|\t23\n",
      "4\t|\tsonam\t|\taws\t|\t21\n",
      "5\t|\taman\t|\tazure\t|\t30\n",
      "6\t|\tashish\t|\taws\t|\t31\n",
      "7\t|\tmani\t|\tds\t|\t28\n",
      "8\t|\thari\t|\tds\t|\tNone\n",
      "9\t|\tshubh\t|\tazure\t|\t22\n"
     ]
    }
   ],
   "source": [
    "db = sql.connect(host=\"localhost\", port=3306, user=\"root\", password=\"\", database=\"kiitbatch\")\n",
    "cursor = db.cursor()\n",
    "query = input(\"\\n SELECT QUERY --> \")\n",
    "cursor.execute(query)\n",
    "data = cursor.fetchall()\n",
    "for i in data:\n",
    "    print(*i, sep=\"\\t|\\t\")"
   ]
  },
  {
   "cell_type": "code",
   "execution_count": 21,
   "metadata": {},
   "outputs": [],
   "source": [
    "db.close()"
   ]
  },
  {
   "cell_type": "code",
   "execution_count": 23,
   "metadata": {},
   "outputs": [
    {
     "name": "stdout",
     "output_type": "stream",
     "text": [
      "\n"
     ]
    },
    {
     "data": {
      "text/plain": [
       "False"
      ]
     },
     "execution_count": 23,
     "metadata": {},
     "output_type": "execute_result"
    }
   ],
   "source": [
    "bool(input())"
   ]
  },
  {
   "cell_type": "code",
   "execution_count": 24,
   "metadata": {},
   "outputs": [],
   "source": [
    "### alter table student modify column id int auto_increment"
   ]
  },
  {
   "cell_type": "code",
   "execution_count": 25,
   "metadata": {},
   "outputs": [
    {
     "name": "stdout",
     "output_type": "stream",
     "text": [
      "\n",
      " Enter any key to continue --> k\n",
      "\n",
      " ID --> 10\n",
      "\n",
      " NAME --> simran\n",
      "\n",
      " COURSE --> python\n",
      "\n",
      " AGE --> 20\n",
      "\n",
      " DATA SUCCESSFULLY ADDED....\n",
      "\n",
      " Enter any key to continue --> \n"
     ]
    }
   ],
   "source": [
    "# insert query or insert data in student table\n",
    "db = sql.connect(host=\"localhost\", port=3306, user=\"root\", password=\"\", database=\"kiitbatch\")\n",
    "cursor = db.cursor()\n",
    "while input(\"\\n Enter any key to continue --> \"):\n",
    "    id_ = int(input(\"\\n ID --> \"))\n",
    "    name = input(\"\\n NAME --> \")\n",
    "    course = input(\"\\n COURSE --> \")\n",
    "    age = int(input(\"\\n AGE --> \"))\n",
    "    cmd = f\"insert into student values({id_}, '{name}', '{course}', {age})\"\n",
    "    cursor.execute(cmd)\n",
    "    print(\"\\n DATA SUCCESSFULLY ADDED....\")"
   ]
  },
  {
   "cell_type": "code",
   "execution_count": 26,
   "metadata": {},
   "outputs": [
    {
     "name": "stdout",
     "output_type": "stream",
     "text": [
      "\n",
      " Enter any key to continue --> k\n",
      "\n",
      " ID --> 10\n",
      "\n",
      " NAME --> simran\n",
      "\n",
      " COURSE --> python\n",
      "\n",
      " AGE --> 20\n",
      "\n",
      " DATA SUCCESSFULLY ADDED....\n",
      "\n",
      " Enter any key to continue --> \n"
     ]
    }
   ],
   "source": [
    "# insert query or insert data in student table\n",
    "db = sql.connect(host=\"localhost\", port=3306, user=\"root\", password=\"\", database=\"kiitbatch\")\n",
    "cursor = db.cursor()\n",
    "while input(\"\\n Enter any key to continue --> \"):\n",
    "    id_ = int(input(\"\\n ID --> \"))\n",
    "    name = input(\"\\n NAME --> \")\n",
    "    course = input(\"\\n COURSE --> \")\n",
    "    age = int(input(\"\\n AGE --> \"))\n",
    "    cmd = f\"insert into student values({id_}, '{name}', '{course}', {age})\"\n",
    "    cursor.execute(cmd)\n",
    "    db.commit()  # to save data or changes permanently \n",
    "    print(\"\\n DATA SUCCESSFULLY ADDED....\")"
   ]
  },
  {
   "cell_type": "markdown",
   "metadata": {},
   "source": [
    "#### Database used in top 10 IT companies "
   ]
  },
  {
   "cell_type": "markdown",
   "metadata": {},
   "source": [
    "### Sqlite3\n",
    "\n",
    "    Small database --> files\n",
    "    \n",
    "    db file --> data store\n",
    "    \n",
    "    \n",
    "    while connecting with the sqlite database we need a module named as sqlite3\n",
    "    \n",
    "    if the db file exists then it connect with it else it creates the file and then connect\n",
    "    with it"
   ]
  },
  {
   "cell_type": "code",
   "execution_count": 28,
   "metadata": {},
   "outputs": [],
   "source": [
    "import sqlite3 as sql"
   ]
  },
  {
   "cell_type": "code",
   "execution_count": 29,
   "metadata": {},
   "outputs": [
    {
     "name": "stdout",
     "output_type": "stream",
     "text": [
      " Volume in drive C is Windows\n",
      " Volume Serial Number is E08D-DAD9\n",
      "\n",
      " Directory of C:\\batches\\online_batch\\KITBatch3pm\\Database\n",
      "\n",
      "16-07-2021  20:43    <DIR>          .\n",
      "16-07-2021  20:43    <DIR>          ..\n",
      "16-07-2021  19:27    <DIR>          .ipynb_checkpoints\n",
      "16-07-2021  20:02    <DIR>          __pycache__\n",
      "16-07-2021  20:43            11,718 3. Database_Connectivity.ipynb\n",
      "15-07-2021  21:13             2,678 Database.ipynb\n",
      "14-07-2021  21:05             7,131 Database_Theory.ipynb\n",
      "16-07-2021  20:01                43 one.py\n",
      "14-07-2021  21:05             6,509 query1.txt\n",
      "15-07-2021  21:05            34,460 query2.txt\n",
      "               6 File(s)         62,539 bytes\n",
      "               4 Dir(s)  37,600,575,488 bytes free\n"
     ]
    }
   ],
   "source": [
    "ls"
   ]
  },
  {
   "cell_type": "code",
   "execution_count": 30,
   "metadata": {},
   "outputs": [],
   "source": [
    "db = sql.connect('employee.db')\n"
   ]
  },
  {
   "cell_type": "code",
   "execution_count": 31,
   "metadata": {},
   "outputs": [
    {
     "data": {
      "text/plain": [
       "<sqlite3.Connection at 0x2c9e9c724e0>"
      ]
     },
     "execution_count": 31,
     "metadata": {},
     "output_type": "execute_result"
    }
   ],
   "source": [
    "db"
   ]
  },
  {
   "cell_type": "code",
   "execution_count": 32,
   "metadata": {},
   "outputs": [],
   "source": [
    "cursor = db.cursor()"
   ]
  },
  {
   "cell_type": "code",
   "execution_count": 33,
   "metadata": {},
   "outputs": [
    {
     "data": {
      "text/plain": [
       "<sqlite3.Cursor at 0x2c9e9cb5490>"
      ]
     },
     "execution_count": 33,
     "metadata": {},
     "output_type": "execute_result"
    }
   ],
   "source": [
    "cmd = 'create table employee(id int, name varchar(100), age int)'\n",
    "cursor.execute(cmd)"
   ]
  },
  {
   "cell_type": "code",
   "execution_count": 34,
   "metadata": {},
   "outputs": [
    {
     "name": "stdout",
     "output_type": "stream",
     "text": [
      " Volume in drive C is Windows\n",
      " Volume Serial Number is E08D-DAD9\n",
      "\n",
      " Directory of C:\\batches\\online_batch\\KITBatch3pm\\Database\n",
      "\n",
      "16-07-2021  20:45    <DIR>          .\n",
      "16-07-2021  20:45    <DIR>          ..\n",
      "16-07-2021  19:27    <DIR>          .ipynb_checkpoints\n",
      "16-07-2021  20:02    <DIR>          __pycache__\n",
      "16-07-2021  20:45            13,635 3. Database_Connectivity.ipynb\n",
      "15-07-2021  21:13             2,678 Database.ipynb\n",
      "14-07-2021  21:05             7,131 Database_Theory.ipynb\n",
      "16-07-2021  20:45             8,192 employee.db\n",
      "16-07-2021  20:01                43 one.py\n",
      "14-07-2021  21:05             6,509 query1.txt\n",
      "15-07-2021  21:05            34,460 query2.txt\n",
      "               7 File(s)         72,648 bytes\n",
      "               4 Dir(s)  37,602,070,528 bytes free\n"
     ]
    }
   ],
   "source": [
    "ls"
   ]
  },
  {
   "cell_type": "code",
   "execution_count": 37,
   "metadata": {},
   "outputs": [
    {
     "name": "stdout",
     "output_type": "stream",
     "text": [
      "\n",
      " Enter any key to continue --> k\n",
      "\n",
      " ID --> 2\n",
      "\n",
      " NAME --> manisha\n",
      "\n",
      " AGE --> 21\n",
      "\n",
      " DATA SUCCESSFULLY ADDED....\n",
      "\n",
      " Enter any key to continue --> \n"
     ]
    }
   ],
   "source": [
    "# insert query or insert data in employee table of employee.db\n",
    "while input(\"\\n Enter any key to continue --> \"):\n",
    "    id_ = int(input(\"\\n ID --> \"))\n",
    "    name = input(\"\\n NAME --> \")\n",
    "    age = int(input(\"\\n AGE --> \"))\n",
    "    cmd = f\"insert into employee values({id_}, '{name}', {age})\"\n",
    "    cursor.execute(cmd)\n",
    "    db.commit()  # to save data or changes permanently \n",
    "    print(\"\\n DATA SUCCESSFULLY ADDED....\")"
   ]
  },
  {
   "cell_type": "code",
   "execution_count": 38,
   "metadata": {},
   "outputs": [
    {
     "name": "stdout",
     "output_type": "stream",
     "text": [
      "\n",
      " SELECT QUERY --> select * from employee;\n",
      "1\t|\tsimran\t|\t20\n",
      "2\t|\tmanisha\t|\t21\n"
     ]
    }
   ],
   "source": [
    "query = input(\"\\n SELECT QUERY --> \")\n",
    "cursor.execute(query)\n",
    "data = cursor.fetchall()\n",
    "for i in data:\n",
    "    print(*i, sep=\"\\t|\\t\")"
   ]
  },
  {
   "cell_type": "markdown",
   "metadata": {},
   "source": [
    "#### How to use query in jupyter-notebook\n",
    "\n"
   ]
  },
  {
   "cell_type": "markdown",
   "metadata": {},
   "source": [
    "    pip install flask-mysqldb\n",
    "    pip install sqlalchemy\n",
    "    pip install ipython-sql"
   ]
  },
  {
   "cell_type": "code",
   "execution_count": 39,
   "metadata": {},
   "outputs": [],
   "source": [
    "import sqlalchemy"
   ]
  },
  {
   "cell_type": "code",
   "execution_count": 40,
   "metadata": {},
   "outputs": [],
   "source": [
    "engine = sqlalchemy.create_engine(\"mysql://root@localhost:3306/kiitbatch\")\n",
    "# db_server://username@hostname:port/dbname"
   ]
  },
  {
   "cell_type": "code",
   "execution_count": 41,
   "metadata": {},
   "outputs": [
    {
     "data": {
      "text/plain": [
       "Engine(mysql://root@localhost:3306/kiitbatch)"
      ]
     },
     "execution_count": 41,
     "metadata": {},
     "output_type": "execute_result"
    }
   ],
   "source": [
    "engine"
   ]
  },
  {
   "cell_type": "code",
   "execution_count": 42,
   "metadata": {},
   "outputs": [],
   "source": [
    "%load_ext sql"
   ]
  },
  {
   "cell_type": "code",
   "execution_count": 43,
   "metadata": {},
   "outputs": [],
   "source": [
    "%sql mysql://root@localhost:3306/kiitbatch"
   ]
  },
  {
   "cell_type": "code",
   "execution_count": 44,
   "metadata": {},
   "outputs": [
    {
     "name": "stdout",
     "output_type": "stream",
     "text": [
      " * mysql://root@localhost:3306/kiitbatch\n",
      "10 rows affected.\n"
     ]
    },
    {
     "data": {
      "text/html": [
       "<table>\n",
       "    <tr>\n",
       "        <th>id</th>\n",
       "        <th>name</th>\n",
       "        <th>course</th>\n",
       "        <th>age</th>\n",
       "    </tr>\n",
       "    <tr>\n",
       "        <td>1</td>\n",
       "        <td>ritik</td>\n",
       "        <td>python</td>\n",
       "        <td>21</td>\n",
       "    </tr>\n",
       "    <tr>\n",
       "        <td>2</td>\n",
       "        <td>manish</td>\n",
       "        <td>python</td>\n",
       "        <td>22</td>\n",
       "    </tr>\n",
       "    <tr>\n",
       "        <td>3</td>\n",
       "        <td>surbhi</td>\n",
       "        <td>ds</td>\n",
       "        <td>23</td>\n",
       "    </tr>\n",
       "    <tr>\n",
       "        <td>4</td>\n",
       "        <td>sonam</td>\n",
       "        <td>aws</td>\n",
       "        <td>21</td>\n",
       "    </tr>\n",
       "    <tr>\n",
       "        <td>5</td>\n",
       "        <td>aman</td>\n",
       "        <td>azure</td>\n",
       "        <td>30</td>\n",
       "    </tr>\n",
       "    <tr>\n",
       "        <td>6</td>\n",
       "        <td>ashish</td>\n",
       "        <td>aws</td>\n",
       "        <td>31</td>\n",
       "    </tr>\n",
       "    <tr>\n",
       "        <td>7</td>\n",
       "        <td>mani</td>\n",
       "        <td>ds</td>\n",
       "        <td>28</td>\n",
       "    </tr>\n",
       "    <tr>\n",
       "        <td>8</td>\n",
       "        <td>hari</td>\n",
       "        <td>ds</td>\n",
       "        <td>None</td>\n",
       "    </tr>\n",
       "    <tr>\n",
       "        <td>9</td>\n",
       "        <td>shubh</td>\n",
       "        <td>azure</td>\n",
       "        <td>22</td>\n",
       "    </tr>\n",
       "    <tr>\n",
       "        <td>10</td>\n",
       "        <td>simran</td>\n",
       "        <td>python</td>\n",
       "        <td>20</td>\n",
       "    </tr>\n",
       "</table>"
      ],
      "text/plain": [
       "[(1, 'ritik', 'python', 21),\n",
       " (2, 'manish', 'python', 22),\n",
       " (3, 'surbhi', 'ds', 23),\n",
       " (4, 'sonam', 'aws', 21),\n",
       " (5, 'aman', 'azure', 30),\n",
       " (6, 'ashish', 'aws', 31),\n",
       " (7, 'mani', 'ds', 28),\n",
       " (8, 'hari', 'ds', None),\n",
       " (9, 'shubh', 'azure', 22),\n",
       " (10, 'simran', 'python', 20)]"
      ]
     },
     "execution_count": 44,
     "metadata": {},
     "output_type": "execute_result"
    }
   ],
   "source": [
    "%%sql\n",
    "\n",
    "select * from student;"
   ]
  },
  {
   "cell_type": "code",
   "execution_count": 47,
   "metadata": {},
   "outputs": [
    {
     "name": "stdout",
     "output_type": "stream",
     "text": [
      " * mysql://root@localhost:3306/kiitbatch\n",
      "1 rows affected.\n"
     ]
    },
    {
     "data": {
      "text/html": [
       "<table>\n",
       "    <tr>\n",
       "        <th>id</th>\n",
       "        <th>name</th>\n",
       "        <th>course</th>\n",
       "        <th>age</th>\n",
       "    </tr>\n",
       "    <tr>\n",
       "        <td>2</td>\n",
       "        <td>manish</td>\n",
       "        <td>python</td>\n",
       "        <td>22</td>\n",
       "    </tr>\n",
       "</table>"
      ],
      "text/plain": [
       "[(2, 'manish', 'python', 22)]"
      ]
     },
     "execution_count": 47,
     "metadata": {},
     "output_type": "execute_result"
    }
   ],
   "source": [
    "%%sql\n",
    "\n",
    "select * from student where course='python' and age>21;"
   ]
  },
  {
   "cell_type": "code",
   "execution_count": 48,
   "metadata": {},
   "outputs": [
    {
     "name": "stdout",
     "output_type": "stream",
     "text": [
      " * mysql://root@localhost:3306/kiitbatch\n",
      "6 rows affected.\n"
     ]
    },
    {
     "data": {
      "text/html": [
       "<table>\n",
       "    <tr>\n",
       "        <th>fid</th>\n",
       "        <th>sid</th>\n",
       "        <th>fees</th>\n",
       "        <th>discount</th>\n",
       "        <th>deposit</th>\n",
       "        <th>course_status</th>\n",
       "    </tr>\n",
       "    <tr>\n",
       "        <td>101</td>\n",
       "        <td>1</td>\n",
       "        <td>15000.0</td>\n",
       "        <td>2000.0</td>\n",
       "        <td>5000.0</td>\n",
       "        <td>running</td>\n",
       "    </tr>\n",
       "    <tr>\n",
       "        <td>102</td>\n",
       "        <td>2</td>\n",
       "        <td>15500.0</td>\n",
       "        <td>1500.0</td>\n",
       "        <td>7000.0</td>\n",
       "        <td>running</td>\n",
       "    </tr>\n",
       "    <tr>\n",
       "        <td>104</td>\n",
       "        <td>3</td>\n",
       "        <td>20000.0</td>\n",
       "        <td>1500.0</td>\n",
       "        <td>8500.0</td>\n",
       "        <td>running</td>\n",
       "    </tr>\n",
       "    <tr>\n",
       "        <td>105</td>\n",
       "        <td>4</td>\n",
       "        <td>20000.0</td>\n",
       "        <td>2000.0</td>\n",
       "        <td>20000.0</td>\n",
       "        <td>completed</td>\n",
       "    </tr>\n",
       "    <tr>\n",
       "        <td>106</td>\n",
       "        <td>6</td>\n",
       "        <td>16000.0</td>\n",
       "        <td>3000.0</td>\n",
       "        <td>16000.0</td>\n",
       "        <td>completed</td>\n",
       "    </tr>\n",
       "    <tr>\n",
       "        <td>107</td>\n",
       "        <td>7</td>\n",
       "        <td>13000.0</td>\n",
       "        <td>2000.0</td>\n",
       "        <td>10000.0</td>\n",
       "        <td>running</td>\n",
       "    </tr>\n",
       "</table>"
      ],
      "text/plain": [
       "[(101, 1, 15000.0, 2000.0, 5000.0, 'running'),\n",
       " (102, 2, 15500.0, 1500.0, 7000.0, 'running'),\n",
       " (104, 3, 20000.0, 1500.0, 8500.0, 'running'),\n",
       " (105, 4, 20000.0, 2000.0, 20000.0, 'completed'),\n",
       " (106, 6, 16000.0, 3000.0, 16000.0, 'completed'),\n",
       " (107, 7, 13000.0, 2000.0, 10000.0, 'running')]"
      ]
     },
     "execution_count": 48,
     "metadata": {},
     "output_type": "execute_result"
    }
   ],
   "source": [
    "%%sql\n",
    "\n",
    "select * from fees;"
   ]
  },
  {
   "cell_type": "code",
   "execution_count": 50,
   "metadata": {},
   "outputs": [
    {
     "name": "stdout",
     "output_type": "stream",
     "text": [
      " * mysql://root@localhost:3306/kiitbatch\n",
      "6 rows affected.\n"
     ]
    }
   ],
   "source": [
    "data = %sql select * from fees;"
   ]
  },
  {
   "cell_type": "code",
   "execution_count": 55,
   "metadata": {},
   "outputs": [
    {
     "name": "stdout",
     "output_type": "stream",
     "text": [
      " * mysql://root@localhost:3306/kiitbatch\n",
      "6 rows affected.\n"
     ]
    }
   ],
   "source": [
    "data = %sql select sid, fees from fees;"
   ]
  },
  {
   "cell_type": "code",
   "execution_count": 56,
   "metadata": {},
   "outputs": [
    {
     "data": {
      "text/plain": [
       "<BarContainer object of 6 artists>"
      ]
     },
     "execution_count": 56,
     "metadata": {},
     "output_type": "execute_result"
    },
    {
     "data": {
      "image/png": "[encoded data removed]",
      "text/plain": [
       "<Figure size 432x288 with 1 Axes>"
      ]
     },
     "metadata": {
      "needs_background": "light"
     },
     "output_type": "display_data"
    }
   ],
   "source": [
    "data.bar()"
   ]
  },
  {
   "cell_type": "code",
   "execution_count": 57,
   "metadata": {},
   "outputs": [
    {
     "name": "stdout",
     "output_type": "stream",
     "text": [
      " * mysql://root@localhost:3306/kiitbatch\n",
      "6 rows affected.\n"
     ]
    }
   ],
   "source": [
    "data = %sql select name, fees from student inner join fees on student.id=fees.sid;"
   ]
  },
  {
   "cell_type": "code",
   "execution_count": 59,
   "metadata": {},
   "outputs": [
    {
     "data": {
      "text/plain": [
       "<BarContainer object of 6 artists>"
      ]
     },
     "execution_count": 59,
     "metadata": {},
     "output_type": "execute_result"
    },
    {
     "data": {
      "image/png": "[encoded data removed]",
      "text/plain": [
       "<Figure size 432x288 with 1 Axes>"
      ]
     },
     "metadata": {
      "needs_background": "light"
     },
     "output_type": "display_data"
    }
   ],
   "source": [
    "data.bar()"
   ]
  },
  {
   "cell_type": "code",
   "execution_count": 60,
   "metadata": {},
   "outputs": [
    {
     "data": {
      "text/plain": [
       "[<matplotlib.lines.Line2D at 0x2c9ef82c460>]"
      ]
     },
     "execution_count": 60,
     "metadata": {},
     "output_type": "execute_result"
    },
    {
     "data": {
      "image/png": "[encoded data removed]",
      "text/plain": [
       "<Figure size 432x288 with 1 Axes>"
      ]
     },
     "metadata": {
      "needs_background": "light"
     },
     "output_type": "display_data"
    }
   ],
   "source": [
    "data.plot()"
   ]
  },
  {
   "cell_type": "code",
   "execution_count": 62,
   "metadata": {},
   "outputs": [
    {
     "data": {
      "text/plain": [
       "<BarContainer object of 6 artists>"
      ]
     },
     "execution_count": 62,
     "metadata": {},
     "output_type": "execute_result"
    },
    {
     "data": {
      "image/png": "[encoded data removed]",
      "text/plain": [
       "<Figure size 432x288 with 1 Axes>"
      ]
     },
     "metadata": {
      "needs_background": "light"
     },
     "output_type": "display_data"
    }
   ],
   "source": [
    "data.bar(color='red')"
   ]
  },
  {
   "cell_type": "code",
   "execution_count": 63,
   "metadata": {},
   "outputs": [
    {
     "data": {
      "text/plain": [
       "<BarContainer object of 6 artists>"
      ]
     },
     "execution_count": 63,
     "metadata": {},
     "output_type": "execute_result"
    },
    {
     "data": {
      "image/png": "[encoded data removed]",
      "text/plain": [
       "<Figure size 432x288 with 1 Axes>"
      ]
     },
     "metadata": {
      "needs_background": "light"
     },
     "output_type": "display_data"
    }
   ],
   "source": [
    "data.bar(color=['red', 'blue', 'green', 'yellow', '#123455', '#abc123'])"
   ]
  },
  {
   "cell_type": "code",
   "execution_count": null,
   "metadata": {},
   "outputs": [],
   "source": []
  }
 ],
 "metadata": {
  "kernelspec": {
   "display_name": "Python 3",
   "language": "python",
   "name": "python3"
  },
  "language_info": {
   "codemirror_mode": {
    "name": "ipython",
    "version": 3
   },
   "file_extension": ".py",
   "mimetype": "text/x-python",
   "name": "python",
   "nbconvert_exporter": "python",
   "pygments_lexer": "ipython3",
   "version": "3.8.5"
  }
 },
 "nbformat": 4,
 "nbformat_minor": 4
}
