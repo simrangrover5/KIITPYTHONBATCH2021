{
 "cells": [
  {
   "cell_type": "markdown",
   "metadata": {},
   "source": [
    "<h1 style='color:blue'>GOOD AFTERNOON</h1>\n",
    "\n",
    "<p style='color:red'>Any doubt??</p>"
   ]
  },
  {
   "cell_type": "markdown",
   "metadata": {},
   "source": [
    "    Assignment \n",
    "        assignment_7\n",
    "    Task\n",
    "    Lab\n",
    "        Lab_1\n",
    "        Lab_2\n",
    "        Lab_3"
   ]
  },
  {
   "cell_type": "code",
   "execution_count": 3,
   "metadata": {},
   "outputs": [
    {
     "name": "stdout",
     "output_type": "stream",
     "text": [
      "20000.0\n"
     ]
    }
   ],
   "source": [
    "sal = 10000\n",
    "hra = 10000*(20/100)\n",
    "da = 10000*(80/100)\n",
    "gross_sal = sal + hra + da\n",
    "print(gross_sal)"
   ]
  },
  {
   "cell_type": "markdown",
   "metadata": {},
   "source": [
    "    Ques: Write a program to input electricity unit charges and calculate total electricity bill according to the given condition:\n",
    "    For first 50 units Rs. 0.50/unit\n",
    "    For next 100 units Rs. 0.75/unit\n",
    "    For next 100 units Rs. 1.20/unit\n",
    "    For unit above 250 Rs. 1.50/unit\n",
    "    An additional surcharge of 20% is added to the bill\n",
    "    \n",
    "    Input Format: Enter the total electricity units consumed \n",
    "\n",
    "    Output Format: print the Total Electricity Bill amount using the following conditions.\n",
    "\n",
    "    Example:\n",
    "        Enter total units consumed: 150\n",
    "        Electricity Bill = Rs. 120.00\n",
    "        \n",
    "        \n",
    "     150 --> units\n",
    "     \n",
    "     (50*0.5) + (100*0.75) + 20%(of total amt)"
   ]
  },
  {
   "cell_type": "code",
   "execution_count": 5,
   "metadata": {},
   "outputs": [
    {
     "data": {
      "text/plain": [
       "120.0"
      ]
     },
     "execution_count": 5,
     "metadata": {},
     "output_type": "execute_result"
    }
   ],
   "source": [
    "(50*0.5) + (100*0.75) + 20"
   ]
  },
  {
   "cell_type": "markdown",
   "metadata": {},
   "source": [
    "    if units<=50:\n",
    "        amt = units*0.5\n",
    "    elif 50<units<=150:\n",
    "        amt = 50*0.5 + (units-50)*0.75\n",
    "    elif 150<units<=250\n",
    "        \n",
    "        \n",
    "    units = 75\n",
    "    amt = 50*0.5 + (25*0.75)"
   ]
  },
  {
   "cell_type": "code",
   "execution_count": 8,
   "metadata": {},
   "outputs": [
    {
     "name": "stdout",
     "output_type": "stream",
     "text": [
      "\n",
      " Enter total units : 250\n",
      "\n",
      " The total amount is :  264.0\n"
     ]
    }
   ],
   "source": [
    "# for calculating the basic bill amount \n",
    "units = int(input(\"\\n Enter total units : \"))\n",
    "if units<=50:\n",
    "    amt = units*0.5\n",
    "elif 50<units<=150:\n",
    "    amt = 50*0.5 + (units-50)*0.75\n",
    "elif 150<units<=250:\n",
    "    amt = 50*0.5 + 100*0.75 + (units-150)*1.2\n",
    "elif units>250:\n",
    "    amt = 50*0.5 + 100*0.75 + 100*1.2 + (units-250)*1.5\n",
    "\n",
    "# adding 20% of the whole bill \n",
    "amt = amt + amt*(20/100)\n",
    "print(\"\\n The total amount is : \", amt)"
   ]
  },
  {
   "cell_type": "code",
   "execution_count": 3,
   "metadata": {},
   "outputs": [],
   "source": [
    "data = {\n",
    "        \"Id\" : [1001, 1002, 1003, 1004],\n",
    "        \"name\" : ['simran', 'sachin', 'ravi', 'nidhi'],\n",
    "        \"maths\": [60, 70, 50, 80],\n",
    "        \"english\": [70, 60, 80, 70],\n",
    "        \"science\": [60, 70, 50, 40],\n",
    "       }"
   ]
  },
  {
   "cell_type": "markdown",
   "metadata": {},
   "source": [
    "           \n",
    "    1. Take input of the id\n",
    "    2. calculate the percentage of the id given as input\n",
    "    3. Print all the details of the id given as input"
   ]
  },
  {
   "cell_type": "code",
   "execution_count": 15,
   "metadata": {},
   "outputs": [
    {
     "name": "stdout",
     "output_type": "stream",
     "text": [
      "hello\n"
     ]
    }
   ],
   "source": [
    "print(\"hello\") if (1001 in data[\"Id\"]) == True else print(\"bye\")"
   ]
  },
  {
   "cell_type": "code",
   "execution_count": 18,
   "metadata": {},
   "outputs": [
    {
     "data": {
      "text/plain": [
       "True"
      ]
     },
     "execution_count": 18,
     "metadata": {},
     "output_type": "execute_result"
    }
   ],
   "source": [
    "1001 in data['Id']"
   ]
  },
  {
   "cell_type": "code",
   "execution_count": 20,
   "metadata": {},
   "outputs": [
    {
     "data": {
      "text/plain": [
       "2"
      ]
     },
     "execution_count": 20,
     "metadata": {},
     "output_type": "execute_result"
    }
   ],
   "source": [
    "data['name'].index('ravi')"
   ]
  },
  {
   "cell_type": "code",
   "execution_count": 22,
   "metadata": {},
   "outputs": [
    {
     "data": {
      "text/plain": [
       "1"
      ]
     },
     "execution_count": 22,
     "metadata": {},
     "output_type": "execute_result"
    }
   ],
   "source": [
    "data['Id'].index(1002)"
   ]
  },
  {
   "cell_type": "code",
   "execution_count": 24,
   "metadata": {},
   "outputs": [
    {
     "data": {
      "text/plain": [
       "'sachin'"
      ]
     },
     "execution_count": 24,
     "metadata": {},
     "output_type": "execute_result"
    }
   ],
   "source": [
    "data['name'][1]"
   ]
  },
  {
   "cell_type": "code",
   "execution_count": 25,
   "metadata": {},
   "outputs": [
    {
     "data": {
      "text/plain": [
       "'ravi'"
      ]
     },
     "execution_count": 25,
     "metadata": {},
     "output_type": "execute_result"
    }
   ],
   "source": [
    "data['name'][2]"
   ]
  },
  {
   "cell_type": "code",
   "execution_count": 16,
   "metadata": {},
   "outputs": [
    {
     "name": "stdout",
     "output_type": "stream",
     "text": [
      "\n",
      " Enter ID --> 1002\n",
      "\n",
      "\t1.\tCheck Details\n",
      "\t2.\tCalculate Percentage\n",
      "\n",
      " Enter the correct option from above (1/2) : 2\n",
      "\n",
      " SACHIN got 66.67%\n"
     ]
    }
   ],
   "source": [
    "id_ = int(input(\"\\n Enter ID --> \"))\n",
    "if id_ in data['Id']:\n",
    "    print(\"\\n\\t1.\\tCheck Details\\n\\t2.\\tCalculate Percentage\")\n",
    "    ch = int(input(\"\\n Enter the correct option from above (1/2) : \"))\n",
    "    index = data['Id'].index(id_)  # common variable so that i can use in 1 and 2 cond.\n",
    "    name = data['name'][index]\n",
    "    eng = data['english'][index]\n",
    "    maths = data['maths'][index]\n",
    "    sci = data['science'][index]\n",
    "    if ch == 1:\n",
    "        print(\"DETAILS\".center(80, \"*\"))\n",
    "        print(f\"Name --> {name}\".center(80))\n",
    "        print(f\"English --> {eng}\".center(80))\n",
    "        print(f\"Maths --> {maths}\".center(80))\n",
    "        print(f\"Science --> {sci}\".center(80))\n",
    "        print(\"*\"*80)\n",
    "    elif ch == 2:\n",
    "        per = round((eng + maths + sci)/3, 2)\n",
    "        print(f\"\\n {name.upper()} got {per}%\")\n",
    "    else:\n",
    "        print(\"\\n Please choose the correct option (1/2)\")\n",
    "else:\n",
    "    print(\"\\n Please enter correct id..\")"
   ]
  },
  {
   "cell_type": "code",
   "execution_count": 8,
   "metadata": {},
   "outputs": [
    {
     "data": {
      "text/plain": [
       "10.23"
      ]
     },
     "execution_count": 8,
     "metadata": {},
     "output_type": "execute_result"
    }
   ],
   "source": [
    "round(10.2345, 2)"
   ]
  },
  {
   "cell_type": "code",
   "execution_count": 15,
   "metadata": {},
   "outputs": [
    {
     "name": "stdout",
     "output_type": "stream",
     "text": [
      "Help on built-in function round in module builtins:\n",
      "\n",
      "round(number, ndigits=None)\n",
      "    Round a number to a given precision in decimal digits.\n",
      "    \n",
      "    The return value is an integer if ndigits is omitted or None.  Otherwise\n",
      "    the return value has the same type as the number.  ndigits may be negative.\n",
      "\n"
     ]
    }
   ],
   "source": [
    "help(round)"
   ]
  },
  {
   "cell_type": "code",
   "execution_count": 14,
   "metadata": {},
   "outputs": [
    {
     "data": {
      "text/plain": [
       "10.3"
      ]
     },
     "execution_count": 14,
     "metadata": {},
     "output_type": "execute_result"
    }
   ],
   "source": [
    "round(10.345, 1)\n",
    "# less than 5 --> remain same\n",
    "# greater than or equal to 5 --> increase by value"
   ]
  },
  {
   "cell_type": "code",
   "execution_count": 27,
   "metadata": {},
   "outputs": [
    {
     "name": "stdout",
     "output_type": "stream",
     "text": [
      "welcome\n"
     ]
    }
   ],
   "source": [
    "if 0:\n",
    "    print(\"hi\")\n",
    "else:\n",
    "    print('welcome')"
   ]
  },
  {
   "cell_type": "code",
   "execution_count": 1,
   "metadata": {},
   "outputs": [
    {
     "name": "stdout",
     "output_type": "stream",
     "text": [
      "\n",
      " Enter any number : 25\n"
     ]
    },
    {
     "ename": "NameError",
     "evalue": "name 'name' is not defined",
     "output_type": "error",
     "traceback": [
      "\u001b[1;31m---------------------------------------------------------------------------\u001b[0m",
      "\u001b[1;31mNameError\u001b[0m                                 Traceback (most recent call last)",
      "\u001b[1;32m<ipython-input-1-eb0c84807fea>\u001b[0m in \u001b[0;36m<module>\u001b[1;34m\u001b[0m\n\u001b[0;32m      4\u001b[0m         \u001b[0mname\u001b[0m \u001b[1;33m=\u001b[0m \u001b[1;34m\"simran\"\u001b[0m\u001b[1;33m\u001b[0m\u001b[1;33m\u001b[0m\u001b[0m\n\u001b[0;32m      5\u001b[0m     \u001b[1;32melif\u001b[0m \u001b[0mn\u001b[0m\u001b[1;33m%\u001b[0m\u001b[1;36m5\u001b[0m \u001b[1;33m==\u001b[0m \u001b[1;36m0\u001b[0m\u001b[1;33m:\u001b[0m\u001b[1;33m\u001b[0m\u001b[1;33m\u001b[0m\u001b[0m\n\u001b[1;32m----> 6\u001b[1;33m         \u001b[0mprint\u001b[0m\u001b[1;33m(\u001b[0m\u001b[0mname\u001b[0m\u001b[1;33m)\u001b[0m\u001b[1;33m\u001b[0m\u001b[1;33m\u001b[0m\u001b[0m\n\u001b[0m\u001b[0;32m      7\u001b[0m \u001b[1;32melse\u001b[0m\u001b[1;33m:\u001b[0m\u001b[1;33m\u001b[0m\u001b[1;33m\u001b[0m\u001b[0m\n\u001b[0;32m      8\u001b[0m     \u001b[0mprint\u001b[0m\u001b[1;33m(\u001b[0m\u001b[1;34m\"bye\"\u001b[0m\u001b[1;33m)\u001b[0m\u001b[1;33m\u001b[0m\u001b[1;33m\u001b[0m\u001b[0m\n",
      "\u001b[1;31mNameError\u001b[0m: name 'name' is not defined"
     ]
    }
   ],
   "source": [
    "n = int(input(\"\\n Enter any number : \"))\n",
    "if n:\n",
    "    if n%2 == 0:\n",
    "        name = \"simran\"\n",
    "    elif n%5 == 0:\n",
    "        print(name)\n",
    "else:\n",
    "    print(\"bye\")"
   ]
  },
  {
   "cell_type": "code",
   "execution_count": 17,
   "metadata": {},
   "outputs": [
    {
     "data": {
      "text/plain": [
       "{0: 0, 1: 0, 2: 0, 3: 0, 4: 0, 5: 0}"
      ]
     },
     "execution_count": 17,
     "metadata": {},
     "output_type": "execute_result"
    }
   ],
   "source": [
    "dict.fromkeys([0, 1, 2, 3, 4, 5], 0)"
   ]
  },
  {
   "cell_type": "code",
   "execution_count": 18,
   "metadata": {},
   "outputs": [
    {
     "data": {
      "text/plain": [
       "{0: None, 1: None, 2: None, 3: None, 4: None, 5: None}"
      ]
     },
     "execution_count": 18,
     "metadata": {},
     "output_type": "execute_result"
    }
   ],
   "source": [
    "dict.fromkeys([0, 1, 2, 3, 4, 5])"
   ]
  },
  {
   "cell_type": "code",
   "execution_count": 19,
   "metadata": {},
   "outputs": [
    {
     "data": {
      "text/plain": [
       "{0: 'default',\n",
       " 1: 'default',\n",
       " 2: 'default',\n",
       " 3: 'default',\n",
       " 4: 'default',\n",
       " 5: 'default'}"
      ]
     },
     "execution_count": 19,
     "metadata": {},
     "output_type": "execute_result"
    }
   ],
   "source": [
    "dict.fromkeys([0, 1, 2, 3, 4, 5], \"default\")"
   ]
  },
  {
   "cell_type": "code",
   "execution_count": 20,
   "metadata": {},
   "outputs": [],
   "source": [
    "d = dict.fromkeys([0, 1, 2, 3, 4, 5])"
   ]
  },
  {
   "cell_type": "code",
   "execution_count": 21,
   "metadata": {},
   "outputs": [
    {
     "data": {
      "text/plain": [
       "{0: None, 1: None, 2: None, 3: None, 4: None, 5: None}"
      ]
     },
     "execution_count": 21,
     "metadata": {},
     "output_type": "execute_result"
    }
   ],
   "source": [
    "d"
   ]
  },
  {
   "cell_type": "code",
   "execution_count": 24,
   "metadata": {},
   "outputs": [
    {
     "name": "stdout",
     "output_type": "stream",
     "text": [
      "\n",
      " Enter A : 40\n",
      "\n",
      " Enter B : 1\n",
      "\n",
      " Enter C : 2\n",
      "\n",
      " Greater A :  40\n"
     ]
    }
   ],
   "source": [
    "a = int(input(\"\\n Enter A : \"))\n",
    "b = int(input(\"\\n Enter B : \"))\n",
    "c = int(input(\"\\n Enter C : \"))\n",
    "if a>b: # True --> eliminates B\n",
    "    if a>c:\n",
    "        print(\"\\n Greater A : \", a)\n",
    "    else:\n",
    "        print(\"\\n Greater C : \", b)\n",
    "elif b>c:\n",
    "    print(\"\\n Greater B : \", b)\n",
    "else:\n",
    "    print(\"\\n Greater C : \", c)"
   ]
  },
  {
   "cell_type": "code",
   "execution_count": 25,
   "metadata": {},
   "outputs": [],
   "source": [
    "### how we can write in one line"
   ]
  },
  {
   "cell_type": "code",
   "execution_count": 28,
   "metadata": {},
   "outputs": [
    {
     "name": "stdout",
     "output_type": "stream",
     "text": [
      "\n",
      " Enter A : 12\n",
      "\n",
      " Enter B : 34\n",
      "\n",
      " Enter C : 56\n",
      "56\n"
     ]
    }
   ],
   "source": [
    "a = int(input(\"\\n Enter A : \"))\n",
    "b = int(input(\"\\n Enter B : \"))\n",
    "c = int(input(\"\\n Enter C : \"))\n",
    "if a>b and a>c:\n",
    "    print(a)\n",
    "else:\n",
    "    if b>c:\n",
    "        print(b)\n",
    "    else:\n",
    "        print(c)"
   ]
  },
  {
   "cell_type": "code",
   "execution_count": 29,
   "metadata": {},
   "outputs": [
    {
     "name": "stdout",
     "output_type": "stream",
     "text": [
      "\n",
      " Enter A : 12\n",
      "\n",
      " Enter B : 34\n",
      "\n",
      " Enter C : 56\n",
      "Greater C :  56\n"
     ]
    }
   ],
   "source": [
    "a = int(input(\"\\n Enter A : \"))\n",
    "b = int(input(\"\\n Enter B : \"))\n",
    "c = int(input(\"\\n Enter C : \"))\n",
    "print(\"Greater A : \", a) if (a>b) and a>c else print(\"Greater B : \", b) \\\n",
    "if b>c else print(\"Greater C : \", c)"
   ]
  },
  {
   "cell_type": "markdown",
   "metadata": {},
   "source": [
    "#### PEP8\n",
    "\n",
    "    Study about it and we will discuss it tomorrow."
   ]
  },
  {
   "cell_type": "code",
   "execution_count": 30,
   "metadata": {},
   "outputs": [
    {
     "name": "stdout",
     "output_type": "stream",
     "text": [
      "hi\n"
     ]
    }
   ],
   "source": [
    "print(\"hi\") if \"hello\" else print(\"bye\")"
   ]
  },
  {
   "cell_type": "code",
   "execution_count": 31,
   "metadata": {},
   "outputs": [
    {
     "name": "stdout",
     "output_type": "stream",
     "text": [
      "\n",
      " Enter any value : 12\n",
      "EVEN\n"
     ]
    }
   ],
   "source": [
    "n = int(input(\"\\n Enter any value : \"))\n",
    "print(\"EVEN\") if n%2 == 0 else print(\"ODD\")"
   ]
  },
  {
   "cell_type": "code",
   "execution_count": 32,
   "metadata": {},
   "outputs": [
    {
     "name": "stdout",
     "output_type": "stream",
     "text": [
      "EVEN\n",
      "\n",
      " Number is divisible by 2\n"
     ]
    }
   ],
   "source": [
    "if n%2 == 0:\n",
    "    print(\"EVEN\")\n",
    "    print(\"\\n Number is divisible by 2\")\n",
    "else:\n",
    "    print(\"ODD\")"
   ]
  },
  {
   "cell_type": "code",
   "execution_count": 45,
   "metadata": {},
   "outputs": [
    {
     "name": "stdout",
     "output_type": "stream",
     "text": [
      "\n",
      " Enter any value : 12\n",
      "\n",
      " EVEN\n",
      "\n",
      " Number divided by 2\n"
     ]
    }
   ],
   "source": [
    "n = int(input(\"\\n Enter any value : \"))\n",
    "print(\"\\n EVEN\"); print(\"\\n Number divided by 2\") if n%2 == 0 else print(\"ODD\")"
   ]
  },
  {
   "cell_type": "code",
   "execution_count": 35,
   "metadata": {},
   "outputs": [
    {
     "name": "stdout",
     "output_type": "stream",
     "text": [
      "hello\n"
     ]
    }
   ],
   "source": [
    "if True: print(\"hello\")"
   ]
  },
  {
   "cell_type": "code",
   "execution_count": 36,
   "metadata": {},
   "outputs": [
    {
     "name": "stdout",
     "output_type": "stream",
     "text": [
      "hello\n",
      "Welcome\n"
     ]
    }
   ],
   "source": [
    "if True: print(\"hello\"); print(\"Welcome\")"
   ]
  },
  {
   "cell_type": "code",
   "execution_count": 43,
   "metadata": {},
   "outputs": [
    {
     "name": "stdout",
     "output_type": "stream",
     "text": [
      "hello\n",
      "Welcome\n"
     ]
    }
   ],
   "source": [
    "if True: print(\"hello\"); print(\"Welcome\")\n",
    "else: print(\"bye\")"
   ]
  },
  {
   "cell_type": "code",
   "execution_count": 47,
   "metadata": {},
   "outputs": [
    {
     "name": "stdout",
     "output_type": "stream",
     "text": [
      "hello\n",
      "bye\n",
      "hi\n",
      "12\n"
     ]
    },
    {
     "data": {
      "text/plain": [
       "12"
      ]
     },
     "execution_count": 47,
     "metadata": {},
     "output_type": "execute_result"
    }
   ],
   "source": [
    "print(\"hello\"); print(\"bye\"); print(\"hi\"); int(input())"
   ]
  },
  {
   "cell_type": "code",
   "execution_count": 50,
   "metadata": {},
   "outputs": [
    {
     "name": "stdout",
     "output_type": "stream",
     "text": [
      "\n",
      " Enter any number : -10\n",
      "NEGATIVE\n"
     ]
    }
   ],
   "source": [
    "n = int(input(\"\\n Enter any number : \"))\n",
    "if n>0: print(\"\\n POSITIVE\")\n",
    "elif n==0: print(\"\\n Zero\")\n",
    "else: print(\"NEGATIVE\")"
   ]
  },
  {
   "cell_type": "code",
   "execution_count": 53,
   "metadata": {},
   "outputs": [
    {
     "name": "stdout",
     "output_type": "stream",
     "text": [
      "hello\n"
     ]
    }
   ],
   "source": [
    "n = 20\n",
    "if n%2 == 0:\n",
    "    print(\"hello\")\n",
    "elif n%5 == 0:  # this will be checked if above condition is false\n",
    "    print(\"Divisible by 5\")"
   ]
  },
  {
   "cell_type": "code",
   "execution_count": 54,
   "metadata": {},
   "outputs": [
    {
     "name": "stdout",
     "output_type": "stream",
     "text": [
      "hello\n",
      "Divisible by 5\n"
     ]
    }
   ],
   "source": [
    "n = 20\n",
    "if n%2 == 0:\n",
    "    print(\"hello\")\n",
    "if n%5 == 0:  # this will be checked if above condition either True or False\n",
    "    print(\"Divisible by 5\")"
   ]
  },
  {
   "cell_type": "code",
   "execution_count": 51,
   "metadata": {},
   "outputs": [
    {
     "name": "stdout",
     "output_type": "stream",
     "text": [
      "20\n",
      "hello\n",
      "Divisible by 5\n",
      "Less than 50\n",
      "Bye...\n"
     ]
    }
   ],
   "source": [
    "n = int(input())\n",
    "if n:\n",
    "    if n%2 == 0:  # True\n",
    "        print(\"hello\")\n",
    "    if n%5 == 0:  # True\n",
    "        print(\"Divisible by 5\")\n",
    "        if n<50:  # True\n",
    "            print(\"Less than 50\")\n",
    "        else:\n",
    "            print(\"Greater than 50\")\n",
    "    if n%7 == 0:  # False\n",
    "        print(\"Divisible by 7\")\n",
    "    else:\n",
    "        print(\"Bye...\")\n",
    "else:\n",
    "    print(\"\\n Number is zero\")\n",
    "# n = 20\n",
    "# else always corresponds to nearest if"
   ]
  },
  {
   "cell_type": "markdown",
   "metadata": {},
   "source": [
    "#### Loops\n",
    "\n",
    "    1. while\n",
    "    2. for\n",
    "    \n",
    "    \n",
    "    When we want to repeat some set of statements again and again then we use loops"
   ]
  },
  {
   "cell_type": "markdown",
   "metadata": {},
   "source": [
    "##### While loop\n",
    "\n",
    "    1. initialization\n",
    "    2. condition\n",
    "    3. increment/decrement\n",
    "    \n",
    "    while cond:\n",
    "        s1\n",
    "        s2\n",
    "        \n",
    "    If the condition evaluates to True then s1 and s2 executes"
   ]
  },
  {
   "cell_type": "code",
   "execution_count": 55,
   "metadata": {},
   "outputs": [
    {
     "name": "stdout",
     "output_type": "stream",
     "text": [
      "0\n",
      "1\n",
      "2\n",
      "3\n",
      "4\n",
      "5\n",
      "6\n",
      "7\n",
      "8\n",
      "9\n"
     ]
    }
   ],
   "source": [
    "i = 0  # initialization\n",
    "while i<10:  # condition\n",
    "    print(i)\n",
    "    i += 1  # increment\n",
    "\n",
    "# 1 --> i = 0, 0<10 --> True --> print(i) --> 0, i = 0 + 1 = 1\n",
    "# 2 --> i = 1, 1<10 --> True --> print(i) --> 1, i = 1 + 1 = 2\n",
    "# 3 --> i = 2, 2<10 --> True --> 2, i = 2 + 1\n",
    "# i = 3\n",
    "# i = 4\n",
    "# i = 5\n",
    "#....\n",
    "# i = 10, 10<10 --> False --> exit loop"
   ]
  },
  {
   "cell_type": "code",
   "execution_count": 56,
   "metadata": {},
   "outputs": [],
   "source": [
    "#### Assignment --> Assignment 7 "
   ]
  },
  {
   "cell_type": "code",
   "execution_count": null,
   "metadata": {},
   "outputs": [],
   "source": []
  }
 ],
 "metadata": {
  "kernelspec": {
   "display_name": "Python 3",
   "language": "python",
   "name": "python3"
  },
  "language_info": {
   "codemirror_mode": {
    "name": "ipython",
    "version": 3
   },
   "file_extension": ".py",
   "mimetype": "text/x-python",
   "name": "python",
   "nbconvert_exporter": "python",
   "pygments_lexer": "ipython3",
   "version": "3.8.5"
  }
 },
 "nbformat": 4,
 "nbformat_minor": 4
}
