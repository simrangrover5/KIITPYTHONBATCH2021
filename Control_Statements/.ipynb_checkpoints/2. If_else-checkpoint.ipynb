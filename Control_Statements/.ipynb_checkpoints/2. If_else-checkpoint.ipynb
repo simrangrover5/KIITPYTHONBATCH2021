{
 "cells": [
  {
   "cell_type": "markdown",
   "metadata": {},
   "source": [
    "    Put your doubts in chat.\n",
    "    \n",
    "    The questions I gave yesterday is completed??"
   ]
  },
  {
   "cell_type": "code",
   "execution_count": 2,
   "metadata": {},
   "outputs": [
    {
     "name": "stdout",
     "output_type": "stream",
     "text": [
      "['__add__', '__class__', '__contains__', '__delattr__', '__dir__', '__doc__', '__eq__', '__format__', '__ge__', '__getattribute__', '__getitem__', '__getnewargs__', '__gt__', '__hash__', '__init__', '__init_subclass__', '__iter__', '__le__', '__len__', '__lt__', '__mod__', '__mul__', '__ne__', '__new__', '__reduce__', '__reduce_ex__', '__repr__', '__rmod__', '__rmul__', '__setattr__', '__sizeof__', '__str__', '__subclasshook__', 'capitalize', 'casefold', 'center', 'count', 'encode', 'endswith', 'expandtabs', 'find', 'format', 'format_map', 'index', 'isalnum', 'isalpha', 'isascii', 'isdecimal', 'isdigit', 'isidentifier', 'islower', 'isnumeric', 'isprintable', 'isspace', 'istitle', 'isupper', 'join', 'ljust', 'lower', 'lstrip', 'maketrans', 'partition', 'replace', 'rfind', 'rindex', 'rjust', 'rpartition', 'rsplit', 'rstrip', 'split', 'splitlines', 'startswith', 'strip', 'swapcase', 'title', 'translate', 'upper', 'zfill']\n"
     ]
    }
   ],
   "source": [
    "print(dir(str))"
   ]
  },
  {
   "cell_type": "code",
   "execution_count": 3,
   "metadata": {},
   "outputs": [
    {
     "ename": "NameError",
     "evalue": "name 'method' is not defined",
     "output_type": "error",
     "traceback": [
      "\u001b[1;31m---------------------------------------------------------------------------\u001b[0m",
      "\u001b[1;31mNameError\u001b[0m                                 Traceback (most recent call last)",
      "\u001b[1;32m<ipython-input-3-f28db0ceedc0>\u001b[0m in \u001b[0;36m<module>\u001b[1;34m\u001b[0m\n\u001b[1;32m----> 1\u001b[1;33m \u001b[0mmethod\u001b[0m\u001b[1;33m(\u001b[0m\u001b[1;33m)\u001b[0m\u001b[1;33m\u001b[0m\u001b[1;33m\u001b[0m\u001b[0m\n\u001b[0m",
      "\u001b[1;31mNameError\u001b[0m: name 'method' is not defined"
     ]
    }
   ],
   "source": [
    "method()"
   ]
  },
  {
   "cell_type": "markdown",
   "metadata": {},
   "source": [
    "    hackerrank, codechef, leetcode, geeksforgeeks etc\n",
    "    \n",
    "    python-course.eu\n",
    "    geeksforgeeks\n",
    "    python.org"
   ]
  },
  {
   "cell_type": "markdown",
   "metadata": {},
   "source": [
    "### If - else Statements"
   ]
  },
  {
   "cell_type": "code",
   "execution_count": 4,
   "metadata": {},
   "outputs": [
    {
     "name": "stdout",
     "output_type": "stream",
     "text": [
      "hello world\n"
     ]
    }
   ],
   "source": [
    "if True:\n",
    "   print(\"hello world\")"
   ]
  },
  {
   "cell_type": "code",
   "execution_count": 5,
   "metadata": {},
   "outputs": [
    {
     "name": "stdout",
     "output_type": "stream",
     "text": [
      "hello world\n",
      "hi\n"
     ]
    }
   ],
   "source": [
    "if True:\n",
    "   print(\"hello world\")\n",
    "   print(\"hi\")"
   ]
  },
  {
   "cell_type": "code",
   "execution_count": 6,
   "metadata": {},
   "outputs": [
    {
     "ename": "IndentationError",
     "evalue": "unexpected indent (<ipython-input-6-ce83ae00a85d>, line 3)",
     "output_type": "error",
     "traceback": [
      "\u001b[1;36m  File \u001b[1;32m\"<ipython-input-6-ce83ae00a85d>\"\u001b[1;36m, line \u001b[1;32m3\u001b[0m\n\u001b[1;33m    print(\"hi\")\u001b[0m\n\u001b[1;37m    ^\u001b[0m\n\u001b[1;31mIndentationError\u001b[0m\u001b[1;31m:\u001b[0m unexpected indent\n"
     ]
    }
   ],
   "source": [
    "if True: \n",
    "   print(\"hello world\")  # 3 spaces\n",
    "    print(\"hi\") # 4 spaces"
   ]
  },
  {
   "cell_type": "markdown",
   "metadata": {},
   "source": [
    "    1. if\n",
    "    2. if-else\n",
    "    3. if-elif......-else"
   ]
  },
  {
   "cell_type": "markdown",
   "metadata": {},
   "source": [
    "###### if statement\n",
    "\n",
    "    if condition:\n",
    "        s1\n",
    "        s2\n",
    "    \n",
    "    if the condition evaluates to True then s1 and s2 executes"
   ]
  },
  {
   "cell_type": "code",
   "execution_count": 7,
   "metadata": {},
   "outputs": [
    {
     "name": "stdout",
     "output_type": "stream",
     "text": [
      "\n",
      " Enter any value : 10\n",
      "\n",
      " 10 is EVEN\n"
     ]
    }
   ],
   "source": [
    "n = int(input(\"\\n Enter any value : \"))\n",
    "if n%2 == 0:\n",
    "    print(f\"\\n {n} is EVEN\")"
   ]
  },
  {
   "cell_type": "code",
   "execution_count": 8,
   "metadata": {},
   "outputs": [
    {
     "name": "stdout",
     "output_type": "stream",
     "text": [
      "\n",
      " Enter any value : 11\n"
     ]
    }
   ],
   "source": [
    "n = int(input(\"\\n Enter any value : \"))\n",
    "if n%2 == 0:\n",
    "    print(f\"\\n {n} is EVEN\")\n"
   ]
  },
  {
   "cell_type": "code",
   "execution_count": 9,
   "metadata": {},
   "outputs": [
    {
     "name": "stdout",
     "output_type": "stream",
     "text": [
      "\n",
      " Enter your 10 percentage : 89\n",
      "\n",
      " I will choose science\n"
     ]
    }
   ],
   "source": [
    "per = int(input(\"\\n Enter your 10 percentage : \"))\n",
    "if per>85:\n",
    "    print(\"\\n I will choose science\")"
   ]
  },
  {
   "cell_type": "code",
   "execution_count": 12,
   "metadata": {},
   "outputs": [
    {
     "name": "stdout",
     "output_type": "stream",
     "text": [
      "\n",
      " Enter your 12 percentage : 99\n",
      "\n",
      " I can choose any IIT\n"
     ]
    }
   ],
   "source": [
    "per = int(input(\"\\n Enter your 12 percentage : \"))\n",
    "if per>=97:\n",
    "    print(\"\\n I can choose any IIT\")\n",
    "if 90<=per<97:\n",
    "    print(\"\\n I will go to any NIT\")\n"
   ]
  },
  {
   "cell_type": "code",
   "execution_count": 14,
   "metadata": {},
   "outputs": [
    {
     "name": "stdout",
     "output_type": "stream",
     "text": [
      "\n",
      " Enter your 12 percentage : 94\n",
      "\n",
      " I will go to any NIT, IIIT or any other private college\n"
     ]
    }
   ],
   "source": [
    "per = int(input(\"\\n Enter your 12 percentage : \"))\n",
    "if per>=97:\n",
    "    print(\"\\n I can choose any IIT\")\n",
    "else:\n",
    "    print(\"\\n I will go to any NIT, IIIT or any other private college\")"
   ]
  },
  {
   "cell_type": "code",
   "execution_count": 15,
   "metadata": {},
   "outputs": [
    {
     "name": "stdout",
     "output_type": "stream",
     "text": [
      "\n",
      " Enter your 12 percentage : 40\n",
      "\n",
      " I will go to any NIT, IIIT or any other private college\n"
     ]
    }
   ],
   "source": [
    "per = int(input(\"\\n Enter your 12 percentage : \"))\n",
    "if per>=97:\n",
    "    print(\"\\n I can choose any IIT\")\n",
    "else:\n",
    "    print(\"\\n I will go to any NIT, IIIT or any other private college\")"
   ]
  },
  {
   "cell_type": "markdown",
   "metadata": {},
   "source": [
    "##### if-elif-else statement\n",
    "\n",
    "    if c1:\n",
    "        s1\n",
    "        s2\n",
    "    elif c2:\n",
    "        s3\n",
    "        s4\n",
    "    elif c3:\n",
    "        s5\n",
    "        s5\n",
    "    |\n",
    "    |\n",
    "    |\n",
    "    else:\n",
    "        sn\n",
    "        sn"
   ]
  },
  {
   "cell_type": "code",
   "execution_count": 19,
   "metadata": {},
   "outputs": [
    {
     "name": "stdout",
     "output_type": "stream",
     "text": [
      "\n",
      " Enter your 12 percentage : 60\n",
      "\n",
      " YOU WILL NOT GET admission in best college\n",
      " So choose any other so so college\n"
     ]
    }
   ],
   "source": [
    "per = int(input(\"\\n Enter your 12 percentage : \"))\n",
    "if per>=97:\n",
    "    print(\"\\n I can choose any IIT\")\n",
    "elif 90<per<97:\n",
    "    print(\"\\n I will go to any NIT or IIIT\")\n",
    "elif 65<=per<=90:\n",
    "    print(\"\\n I will go to any other private or govt university\")\n",
    "else:\n",
    "    print(\"\\n YOU WILL NOT GET admission in best college\\n So choose any other so so college\")"
   ]
  },
  {
   "cell_type": "code",
   "execution_count": 22,
   "metadata": {},
   "outputs": [
    {
     "name": "stdout",
     "output_type": "stream",
     "text": [
      "                     WILL YOU MARRY ME (YES/NO) : ouhfofioj\n",
      "\n",
      " MY BAD!!! I SHOULD FIND SOME OTHER PERSON...\n"
     ]
    }
   ],
   "source": [
    "pro = input(\"WILL YOU MARRY ME (YES/NO) : \".rjust(50))\n",
    "if pro == \"yes\":\n",
    "    print(\"\\n OHHH GREAT!!!! WE WILL ENJOY TOGETHER...\")\n",
    "else:\n",
    "    print(\"\\n MY BAD!!! I SHOULD FIND SOME OTHER PERSON...\")"
   ]
  },
  {
   "cell_type": "code",
   "execution_count": 30,
   "metadata": {},
   "outputs": [
    {
     "name": "stdout",
     "output_type": "stream",
     "text": [
      "                     WILL YOU MARRY ME (YES/NO) : yes/no\n",
      "\n",
      " PLEASE ANSWER IN YES OR NO...Because I cannot understand this --> yes/no\n"
     ]
    }
   ],
   "source": [
    "pro = input(\"WILL YOU MARRY ME (YES/NO) : \".rjust(50)).strip().lower()\n",
    "if pro == \"yes\":\n",
    "    print(\"\\n OHHH GREAT!!!! WE WILL ENJOY TOGETHER...\")\n",
    "elif pro == \"no\":\n",
    "    print(\"\\n MY BAD!!! I SHOULD FIND SOME OTHER PERSON...\")\n",
    "else:\n",
    "    print(f\"\\n PLEASE ANSWER IN YES OR NO...Because I cannot understand this --> {pro}\")"
   ]
  },
  {
   "cell_type": "code",
   "execution_count": 34,
   "metadata": {},
   "outputs": [
    {
     "name": "stdout",
     "output_type": "stream",
     "text": [
      "\n",
      " MY PROGRAM WILL CHECK WHETHER THE NUMBER IS POSITIVE/NEGATIVE/ZERO..\n",
      "\n",
      " Enter any number : -10\n",
      "\n",
      " -10 is negative\n"
     ]
    }
   ],
   "source": [
    "print(\"\\n MY PROGRAM WILL CHECK WHETHER THE NUMBER IS POSITIVE/NEGATIVE/ZERO..\")\n",
    "num = int(input(\"\\n Enter any number : \"))\n",
    "if num > 0:\n",
    "    print(f\"\\n {num} is positive...\")\n",
    "elif num == 0:\n",
    "    print(f\"\\n {num} is zero...\")\n",
    "else:\n",
    "    print(f\"\\n {num} is negative\")"
   ]
  },
  {
   "cell_type": "code",
   "execution_count": 35,
   "metadata": {},
   "outputs": [],
   "source": [
    "l = [1, 2, 3, 4, 5, 6]"
   ]
  },
  {
   "cell_type": "markdown",
   "metadata": {},
   "source": [
    "##### Every function return something either it returns a value/data/object or it will return none"
   ]
  },
  {
   "cell_type": "code",
   "execution_count": 36,
   "metadata": {},
   "outputs": [
    {
     "name": "stdout",
     "output_type": "stream",
     "text": [
      "None\n"
     ]
    }
   ],
   "source": [
    "print(l.append(10))"
   ]
  },
  {
   "cell_type": "code",
   "execution_count": 37,
   "metadata": {},
   "outputs": [
    {
     "name": "stdout",
     "output_type": "stream",
     "text": [
      "[1, 2, 3, 4, 5, 6, 10, 10]\n"
     ]
    }
   ],
   "source": [
    "if l.append(10):  # if None --> False\n",
    "    print(\"\\n HELLO WELCOME\")\n",
    "else:\n",
    "    print(l)"
   ]
  },
  {
   "cell_type": "code",
   "execution_count": 38,
   "metadata": {},
   "outputs": [
    {
     "name": "stdout",
     "output_type": "stream",
     "text": [
      "[1, 2, 3, 4, 5, 6, 10, 10, 30]\n"
     ]
    }
   ],
   "source": [
    "if l.append(30):  # if None --> False\n",
    "    print(\"\\n HELLO WELCOME\")\n",
    "else:\n",
    "    print(l)"
   ]
  },
  {
   "cell_type": "markdown",
   "metadata": {},
   "source": [
    "      s1 if condition else s2\n",
    "      \n",
    "      s1 will execute if condition evaluates to True else s2 will execute"
   ]
  },
  {
   "cell_type": "code",
   "execution_count": 44,
   "metadata": {},
   "outputs": [
    {
     "data": {
      "text/plain": [
       "True"
      ]
     },
     "execution_count": 44,
     "metadata": {},
     "output_type": "execute_result"
    }
   ],
   "source": [
    "bool(\"hello\")"
   ]
  },
  {
   "cell_type": "code",
   "execution_count": 45,
   "metadata": {},
   "outputs": [
    {
     "data": {
      "text/plain": [
       "False"
      ]
     },
     "execution_count": 45,
     "metadata": {},
     "output_type": "execute_result"
    }
   ],
   "source": [
    "bool(0)"
   ]
  },
  {
   "cell_type": "code",
   "execution_count": 40,
   "metadata": {},
   "outputs": [
    {
     "name": "stdout",
     "output_type": "stream",
     "text": [
      "True value\n"
     ]
    }
   ],
   "source": [
    "print(\"True value\") if \"hello\" else print(\"False value\")"
   ]
  },
  {
   "cell_type": "code",
   "execution_count": 41,
   "metadata": {},
   "outputs": [
    {
     "name": "stdout",
     "output_type": "stream",
     "text": [
      "False value\n"
     ]
    }
   ],
   "source": [
    "print(\"True value\") if 0 else print(\"False value\")"
   ]
  },
  {
   "cell_type": "code",
   "execution_count": 42,
   "metadata": {},
   "outputs": [
    {
     "data": {
      "text/plain": [
       "[1, 2, 3, 4, 5, 6, 10, 10, 30]"
      ]
     },
     "execution_count": 42,
     "metadata": {},
     "output_type": "execute_result"
    }
   ],
   "source": [
    "l"
   ]
  },
  {
   "cell_type": "code",
   "execution_count": 46,
   "metadata": {},
   "outputs": [
    {
     "data": {
      "text/plain": [
       "[1, 2, 3, 4, 5, 6, 10, 30]"
      ]
     },
     "execution_count": 46,
     "metadata": {},
     "output_type": "execute_result"
    }
   ],
   "source": [
    "l"
   ]
  },
  {
   "cell_type": "code",
   "execution_count": 43,
   "metadata": {},
   "outputs": [
    {
     "name": "stdout",
     "output_type": "stream",
     "text": [
      "Welcome\n"
     ]
    }
   ],
   "source": [
    "print(\"hi\") if l.pop(6) > 10 else print(\"Welcome\")\n",
    "# 10>10 --> False"
   ]
  },
  {
   "cell_type": "code",
   "execution_count": 47,
   "metadata": {},
   "outputs": [
    {
     "name": "stdout",
     "output_type": "stream",
     "text": [
      "6\n",
      "None\n",
      "bye\n"
     ]
    }
   ],
   "source": [
    "print(\"hi\") if print(print(l.index(10))) else print(\"bye\")\n",
    "# print(6) return None\n",
    "# print(None) --> None\n",
    "# if None --> False --> else"
   ]
  },
  {
   "cell_type": "code",
   "execution_count": 48,
   "metadata": {},
   "outputs": [
    {
     "data": {
      "text/plain": [
       "[1, 2, 3, 4, 5, 6, 10, 30]"
      ]
     },
     "execution_count": 48,
     "metadata": {},
     "output_type": "execute_result"
    }
   ],
   "source": [
    "l"
   ]
  },
  {
   "cell_type": "code",
   "execution_count": 49,
   "metadata": {},
   "outputs": [
    {
     "name": "stdout",
     "output_type": "stream",
     "text": [
      "None\n"
     ]
    }
   ],
   "source": [
    "print(l.reverse())"
   ]
  },
  {
   "cell_type": "code",
   "execution_count": 50,
   "metadata": {},
   "outputs": [
    {
     "data": {
      "text/plain": [
       "[30, 10, 6, 5, 4, 3, 2, 1]"
      ]
     },
     "execution_count": 50,
     "metadata": {},
     "output_type": "execute_result"
    }
   ],
   "source": [
    "l"
   ]
  },
  {
   "cell_type": "code",
   "execution_count": 51,
   "metadata": {},
   "outputs": [
    {
     "name": "stdout",
     "output_type": "stream",
     "text": [
      "None\n"
     ]
    }
   ],
   "source": [
    "print(l.remove(1))"
   ]
  },
  {
   "cell_type": "code",
   "execution_count": 52,
   "metadata": {},
   "outputs": [],
   "source": [
    "s = \"hello world       \""
   ]
  },
  {
   "cell_type": "code",
   "execution_count": 53,
   "metadata": {},
   "outputs": [
    {
     "data": {
      "text/plain": [
       "'hello world'"
      ]
     },
     "execution_count": 53,
     "metadata": {},
     "output_type": "execute_result"
    }
   ],
   "source": [
    "s.strip()"
   ]
  },
  {
   "cell_type": "code",
   "execution_count": 54,
   "metadata": {},
   "outputs": [
    {
     "data": {
      "text/plain": [
       "'hello world       '"
      ]
     },
     "execution_count": 54,
     "metadata": {},
     "output_type": "execute_result"
    }
   ],
   "source": [
    "s"
   ]
  },
  {
   "cell_type": "code",
   "execution_count": 55,
   "metadata": {},
   "outputs": [
    {
     "data": {
      "text/plain": [
       "['hello', 'world']"
      ]
     },
     "execution_count": 55,
     "metadata": {},
     "output_type": "execute_result"
    }
   ],
   "source": [
    "s.split()"
   ]
  },
  {
   "cell_type": "code",
   "execution_count": 56,
   "metadata": {},
   "outputs": [],
   "source": [
    "jaipur = {\n",
    "    \"City\": \"Jaipur\",\n",
    "    \"State\": \"Rajasthan\",\n",
    "    \"Country\": \"India\",\n",
    "    \"Temp\": 35,\n",
    "    \"Max_Temp\": 37,\n",
    "    \"Min_Temp\": 33,\n",
    "    \"Description\": \"Haze\"\n",
    "}"
   ]
  },
  {
   "cell_type": "code",
   "execution_count": 57,
   "metadata": {},
   "outputs": [
    {
     "name": "stdout",
     "output_type": "stream",
     "text": [
      "35\n"
     ]
    }
   ],
   "source": [
    "print(jaipur[\"temp\".title()]) if \"temp\".title() in jaipur else print(\"\\n Not interested\")"
   ]
  },
  {
   "cell_type": "code",
   "execution_count": 64,
   "metadata": {},
   "outputs": [
    {
     "data": {
      "text/plain": [
       "'City'"
      ]
     },
     "execution_count": 64,
     "metadata": {},
     "output_type": "execute_result"
    }
   ],
   "source": [
    "list(jaipur.keys())[0]"
   ]
  },
  {
   "cell_type": "code",
   "execution_count": 66,
   "metadata": {},
   "outputs": [
    {
     "data": {
      "text/plain": [
       "'Rajasthan'"
      ]
     },
     "execution_count": 66,
     "metadata": {},
     "output_type": "execute_result"
    }
   ],
   "source": [
    "jaipur.get(list(jaipur.keys())[1])"
   ]
  },
  {
   "cell_type": "code",
   "execution_count": 67,
   "metadata": {},
   "outputs": [
    {
     "name": "stdout",
     "output_type": "stream",
     "text": [
      "\n",
      " No value\n"
     ]
    }
   ],
   "source": [
    "print(\"\\n Yes value\") if (\"City\", \"State\") in jaipur else print(\"\\n No value\")"
   ]
  },
  {
   "cell_type": "code",
   "execution_count": 68,
   "metadata": {},
   "outputs": [
    {
     "data": {
      "text/plain": [
       "True"
      ]
     },
     "execution_count": 68,
     "metadata": {},
     "output_type": "execute_result"
    }
   ],
   "source": [
    "\"City\" in jaipur"
   ]
  },
  {
   "cell_type": "code",
   "execution_count": 69,
   "metadata": {},
   "outputs": [
    {
     "data": {
      "text/plain": [
       "True"
      ]
     },
     "execution_count": 69,
     "metadata": {},
     "output_type": "execute_result"
    }
   ],
   "source": [
    "\"City\" in jaipur.keys()"
   ]
  },
  {
   "cell_type": "code",
   "execution_count": 71,
   "metadata": {},
   "outputs": [
    {
     "data": {
      "text/plain": [
       "False"
      ]
     },
     "execution_count": 71,
     "metadata": {},
     "output_type": "execute_result"
    }
   ],
   "source": [
    "(\"City\", \"State\") in jaipur"
   ]
  },
  {
   "cell_type": "code",
   "execution_count": 72,
   "metadata": {},
   "outputs": [],
   "source": [
    "d = {(\"City\", 'State'): \"Default\"}"
   ]
  },
  {
   "cell_type": "code",
   "execution_count": 73,
   "metadata": {},
   "outputs": [
    {
     "data": {
      "text/plain": [
       "dict_keys([('City', 'State')])"
      ]
     },
     "execution_count": 73,
     "metadata": {},
     "output_type": "execute_result"
    }
   ],
   "source": [
    "d.keys()"
   ]
  },
  {
   "cell_type": "code",
   "execution_count": 75,
   "metadata": {},
   "outputs": [
    {
     "data": {
      "text/plain": [
       "True"
      ]
     },
     "execution_count": 75,
     "metadata": {},
     "output_type": "execute_result"
    }
   ],
   "source": [
    "(\"City\", \"State\") in d"
   ]
  },
  {
   "cell_type": "code",
   "execution_count": 76,
   "metadata": {},
   "outputs": [
    {
     "name": "stdout",
     "output_type": "stream",
     "text": [
      "\n",
      " No value\n"
     ]
    }
   ],
   "source": [
    "print(\"\\n Yes value\") if \"Jaipur\" in jaipur else print(\"\\n No value\")\n",
    "# by default checking in keys so it will return False"
   ]
  },
  {
   "cell_type": "code",
   "execution_count": 77,
   "metadata": {},
   "outputs": [
    {
     "data": {
      "text/plain": [
       "dict_values(['Jaipur', 'Rajasthan', 'India', 35, 37, 33, 'Haze'])"
      ]
     },
     "execution_count": 77,
     "metadata": {},
     "output_type": "execute_result"
    }
   ],
   "source": [
    "jaipur.values()"
   ]
  },
  {
   "cell_type": "code",
   "execution_count": 78,
   "metadata": {},
   "outputs": [
    {
     "name": "stdout",
     "output_type": "stream",
     "text": [
      "\n",
      " Yes value\n"
     ]
    }
   ],
   "source": [
    "print(\"\\n Yes value\") if \"Jaipur\" in jaipur.values() else print(\"\\n No value\")\n",
    "# by default checking in values so it will return True"
   ]
  },
  {
   "cell_type": "code",
   "execution_count": 82,
   "metadata": {},
   "outputs": [
    {
     "data": {
      "text/plain": [
       "'Simran Grover'"
      ]
     },
     "execution_count": 82,
     "metadata": {},
     "output_type": "execute_result"
    }
   ],
   "source": [
    "\"simran grover\".title()"
   ]
  },
  {
   "cell_type": "code",
   "execution_count": 83,
   "metadata": {},
   "outputs": [
    {
     "data": {
      "text/plain": [
       "'Simran grover'"
      ]
     },
     "execution_count": 83,
     "metadata": {},
     "output_type": "execute_result"
    }
   ],
   "source": [
    "\"simran grover\".capitalize()"
   ]
  },
  {
   "cell_type": "code",
   "execution_count": 84,
   "metadata": {},
   "outputs": [
    {
     "data": {
      "text/plain": [
       "{'City': 'Jaipur',\n",
       " 'State': 'Rajasthan',\n",
       " 'Country': 'India',\n",
       " 'Temp': 35,\n",
       " 'Max_Temp': 37,\n",
       " 'Min_Temp': 33,\n",
       " 'Description': 'Haze'}"
      ]
     },
     "execution_count": 84,
     "metadata": {},
     "output_type": "execute_result"
    }
   ],
   "source": [
    "jaipur"
   ]
  },
  {
   "cell_type": "code",
   "execution_count": 88,
   "metadata": {},
   "outputs": [
    {
     "name": "stdout",
     "output_type": "stream",
     "text": [
      "\n",
      " Enter any key : city\n"
     ]
    },
    {
     "ename": "KeyError",
     "evalue": "'city'",
     "output_type": "error",
     "traceback": [
      "\u001b[1;31m---------------------------------------------------------------------------\u001b[0m",
      "\u001b[1;31mKeyError\u001b[0m                                  Traceback (most recent call last)",
      "\u001b[1;32m<ipython-input-88-718528c12994>\u001b[0m in \u001b[0;36m<module>\u001b[1;34m\u001b[0m\n\u001b[0;32m      1\u001b[0m \u001b[0mkey\u001b[0m \u001b[1;33m=\u001b[0m \u001b[0minput\u001b[0m\u001b[1;33m(\u001b[0m\u001b[1;34m\"\\n Enter any key : \"\u001b[0m\u001b[1;33m)\u001b[0m\u001b[1;33m\u001b[0m\u001b[1;33m\u001b[0m\u001b[0m\n\u001b[1;32m----> 2\u001b[1;33m \u001b[0mprint\u001b[0m\u001b[1;33m(\u001b[0m\u001b[1;34m\"\\n Value --> \"\u001b[0m\u001b[1;33m,\u001b[0m \u001b[0mjaipur\u001b[0m\u001b[1;33m[\u001b[0m\u001b[0mkey\u001b[0m\u001b[1;33m]\u001b[0m\u001b[1;33m)\u001b[0m\u001b[1;33m\u001b[0m\u001b[1;33m\u001b[0m\u001b[0m\n\u001b[0m",
      "\u001b[1;31mKeyError\u001b[0m: 'city'"
     ]
    }
   ],
   "source": [
    "key = input(\"\\n Enter any key : \")\n",
    "print(\"\\n Value --> \", jaipur[key])\n"
   ]
  },
  {
   "cell_type": "code",
   "execution_count": 92,
   "metadata": {},
   "outputs": [
    {
     "name": "stdout",
     "output_type": "stream",
     "text": [
      "\n",
      " Enter any key : city\n",
      "\n",
      " Value -->  No such key\n"
     ]
    }
   ],
   "source": [
    "key = input(\"\\n Enter any key : \")\n",
    "print(\"\\n Value --> \", jaipur.get(key, \"No such key\"))\n"
   ]
  },
  {
   "cell_type": "code",
   "execution_count": 96,
   "metadata": {},
   "outputs": [
    {
     "name": "stdout",
     "output_type": "stream",
     "text": [
      "\n",
      " Enter any key : temp\n",
      "\n",
      " The value of Temp is --> 35\n"
     ]
    }
   ],
   "source": [
    "key = input(\"\\n Enter any key : \").strip().title()\n",
    "if jaipur.get(key):\n",
    "    print(f\"\\n The value of {key} is --> {jaipur.get(key)}\")\n",
    "else:\n",
    "    print(\"\\n No such key....Please enter correct key\")"
   ]
  },
  {
   "cell_type": "code",
   "execution_count": 98,
   "metadata": {},
   "outputs": [
    {
     "name": "stdout",
     "output_type": "stream",
     "text": [
      "dict_keys(['City', 'State', 'Country', 'Temp', 'Max_Temp', 'Min_Temp', 'Description'])\n",
      "\n",
      " Enter any key : city\n",
      "\n",
      " The value of City is --> Jaipur\n"
     ]
    }
   ],
   "source": [
    "print(jaipur.keys())\n",
    "key = input(\"\\n Enter any key : \").strip().title()\n",
    "if jaipur.get(key):\n",
    "    print(f\"\\n The value of {key} is --> {jaipur.get(key)}\")\n",
    "else:\n",
    "    print(\"\\n No such key....Please enter correct key\")"
   ]
  },
  {
   "cell_type": "code",
   "execution_count": 100,
   "metadata": {},
   "outputs": [
    {
     "name": "stdout",
     "output_type": "stream",
     "text": [
      "p y t h o n\n",
      "p y t h o n\n"
     ]
    }
   ],
   "source": [
    "print(*\"python\")\n",
    "print(\"p\", \"y\", \"t\", \"h\", \"o\", \"n\")"
   ]
  },
  {
   "cell_type": "code",
   "execution_count": 101,
   "metadata": {},
   "outputs": [
    {
     "data": {
      "text/plain": [
       "[30, 10, 6, 5, 4, 3, 2]"
      ]
     },
     "execution_count": 101,
     "metadata": {},
     "output_type": "execute_result"
    }
   ],
   "source": [
    "l"
   ]
  },
  {
   "cell_type": "code",
   "execution_count": 102,
   "metadata": {},
   "outputs": [
    {
     "name": "stdout",
     "output_type": "stream",
     "text": [
      "[30, 10, 6, 5, 4, 3, 2]\n"
     ]
    }
   ],
   "source": [
    "print(l)"
   ]
  },
  {
   "cell_type": "code",
   "execution_count": 103,
   "metadata": {},
   "outputs": [
    {
     "name": "stdout",
     "output_type": "stream",
     "text": [
      "30 10 6 5 4 3 2\n"
     ]
    }
   ],
   "source": [
    "print(*l)"
   ]
  },
  {
   "cell_type": "code",
   "execution_count": 104,
   "metadata": {},
   "outputs": [
    {
     "data": {
      "text/plain": [
       "dict_keys(['City', 'State', 'Country', 'Temp', 'Max_Temp', 'Min_Temp', 'Description'])"
      ]
     },
     "execution_count": 104,
     "metadata": {},
     "output_type": "execute_result"
    }
   ],
   "source": [
    "jaipur.keys()"
   ]
  },
  {
   "cell_type": "code",
   "execution_count": 105,
   "metadata": {},
   "outputs": [
    {
     "name": "stdout",
     "output_type": "stream",
     "text": [
      "City State Country Temp Max_Temp Min_Temp Description\n"
     ]
    }
   ],
   "source": [
    "print(*jaipur.keys())"
   ]
  },
  {
   "cell_type": "code",
   "execution_count": 106,
   "metadata": {},
   "outputs": [
    {
     "name": "stdout",
     "output_type": "stream",
     "text": [
      "City State Country Temp Max_Temp Min_Temp Description\n",
      "\n",
      " Enter any key : state\n",
      "\n",
      " The value of State is --> Rajasthan\n"
     ]
    }
   ],
   "source": [
    "print(*jaipur.keys())\n",
    "key = input(\"\\n Enter any key : \").strip().title()\n",
    "if jaipur.get(key):\n",
    "    print(f\"\\n The value of {key} is --> {jaipur.get(key)}\")\n",
    "else:\n",
    "    print(\"\\n No such key....Please enter correct key\")"
   ]
  },
  {
   "cell_type": "markdown",
   "metadata": {},
   "source": [
    "#### greatest among 3 numbers"
   ]
  },
  {
   "cell_type": "code",
   "execution_count": 109,
   "metadata": {},
   "outputs": [
    {
     "name": "stdout",
     "output_type": "stream",
     "text": [
      "\n",
      " Enter first value : 10\n",
      "\n",
      " Enter second value : 20\n",
      "\n",
      " Enter thirs value : 1\n",
      "\n",
      " B 20 is GREATER\n"
     ]
    }
   ],
   "source": [
    "a = int(input(\"\\n Enter first value : \"))\n",
    "b = int(input(\"\\n Enter second value : \"))\n",
    "c = int(input(\"\\n Enter thirs value : \"))\n",
    "if a>b and a>c:  # a is not greater \n",
    "    print(f\"\\n A {a} is GREATER\")\n",
    "elif b>c:\n",
    "    print(f\"\\n B {b} is GREATER\")\n",
    "else:\n",
    "    print(f\"\\n C {c} is GREATER\")"
   ]
  },
  {
   "cell_type": "markdown",
   "metadata": {},
   "source": [
    "#### Find greatest(with different approach then mine) and smallest among 4 number\n",
    "\n",
    "#### Complete lab/day 7"
   ]
  },
  {
   "cell_type": "code",
   "execution_count": null,
   "metadata": {},
   "outputs": [],
   "source": []
  }
 ],
 "metadata": {
  "kernelspec": {
   "display_name": "Python 3",
   "language": "python",
   "name": "python3"
  },
  "language_info": {
   "codemirror_mode": {
    "name": "ipython",
    "version": 3
   },
   "file_extension": ".py",
   "mimetype": "text/x-python",
   "name": "python",
   "nbconvert_exporter": "python",
   "pygments_lexer": "ipython3",
   "version": "3.8.5"
  }
 },
 "nbformat": 4,
 "nbformat_minor": 4
}
