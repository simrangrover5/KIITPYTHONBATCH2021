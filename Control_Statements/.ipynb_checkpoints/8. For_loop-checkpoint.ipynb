{
 "cells": [
  {
   "cell_type": "code",
   "execution_count": 2,
   "metadata": {},
   "outputs": [
    {
     "name": "stdout",
     "output_type": "stream",
     "text": [
      "*****\n",
      "****\n",
      "***\n",
      "**\n",
      "*\n"
     ]
    }
   ],
   "source": [
    "i = 0\n",
    "n = 5\n",
    "while i<5:\n",
    "    print(\"*\"*(n-i))\n",
    "    i += 1"
   ]
  },
  {
   "cell_type": "code",
   "execution_count": 4,
   "metadata": {},
   "outputs": [],
   "source": [
    "from getpass import getpass"
   ]
  },
  {
   "cell_type": "code",
   "execution_count": 5,
   "metadata": {},
   "outputs": [
    {
     "name": "stdout",
     "output_type": "stream",
     "text": [
      "········\n"
     ]
    },
    {
     "data": {
      "text/plain": [
       "'ijpijfpijo'"
      ]
     },
     "execution_count": 5,
     "metadata": {},
     "output_type": "execute_result"
    }
   ],
   "source": [
    "getpass()"
   ]
  },
  {
   "cell_type": "code",
   "execution_count": 7,
   "metadata": {},
   "outputs": [
    {
     "name": "stdout",
     "output_type": "stream",
     "text": [
      "############################STONE PAPER SCISSOR GAME############################\n",
      "\n",
      " CHOOSE ANY OPTION FROM THESE -->  stone paper scissor\n",
      "                                 Player1 : [1]--> ········\n",
      "\n",
      " Player2 : [1]--> ········\n",
      "\n",
      " Player choice is not right...\n",
      "\n",
      " Player1 choose STONE and Player2 choose PIJRFIJ\n",
      "\n",
      " Updated Score of Both the players Is\n",
      "\n",
      " Player1 --> 0\n",
      " Player2 --> 0\n",
      "                                 Player1 : [2]--> ········\n",
      "\n",
      " Player2 : [2]--> ········\n",
      "\n",
      " Player choice is not right...\n",
      "\n",
      " Player1 choose IFJIFIJ and Player2 choose SCISSOR\n",
      "\n",
      " Updated Score of Both the players Is\n",
      "\n",
      " Player1 --> 0\n",
      " Player2 --> 0\n",
      "                                 Player1 : [3]--> ········\n",
      "\n",
      " Player2 : [3]--> ········\n",
      "\n",
      " Player choice is not right...\n",
      "\n",
      " Player1 choose  and Player2 choose \n",
      "\n",
      " Updated Score of Both the players Is\n",
      "\n",
      " Player1 --> 0\n",
      " Player2 --> 0\n",
      "\n",
      " TIE...\n",
      "################################################################################\n"
     ]
    }
   ],
   "source": [
    "print(\"STONE PAPER SCISSOR GAME\".center(80, \"#\"))\n",
    "choices = ['stone', 'paper', 'scissor']\n",
    "print(\"\\n CHOOSE ANY OPTION FROM THESE --> \", *choices)\n",
    "p1_win = [('stone', 'scissor'), ('scissor', 'paper'), ('paper', 'stone')]\n",
    "i = 1\n",
    "p1_score = 0\n",
    "p2_score = 0\n",
    "while i<=3:\n",
    "    p1 = getpass(f\"Player1 : [{i}]--> \".rjust(50)).strip().lower()\n",
    "    p2 = getpass(f\"\\n Player2 : [{i}]--> \").strip().lower()\n",
    "    if p1 in choices and p2 in choices:\n",
    "        if (p1, p2) in p1_win:\n",
    "            p1_score += 1\n",
    "        elif p1 == p2:\n",
    "            p1_score += 1\n",
    "            p2_score += 1\n",
    "        else:\n",
    "            p2_score += 1\n",
    "    else:\n",
    "        print(\"\\n Player choice is not right...\")\n",
    "        \n",
    "    print(f\"\\n Player1 choose {p1.upper()} and Player2 choose {p2.upper()}\")\n",
    "    print(f\"\\n Updated Score of Both the players Is\")\n",
    "    print(f\"\\n Player1 --> {p1_score}\\n Player2 --> {p2_score}\")\n",
    "    i += 1\n",
    "if p1_score > p2_score:\n",
    "    print(\"\\n Player1 won the game...\")\n",
    "elif p1_score == p2_score:\n",
    "    print(\"\\n TIE...\")\n",
    "else:\n",
    "    print(f\"\\n Player2 won the game...\")\n",
    "print(\"#\"*80)"
   ]
  },
  {
   "cell_type": "code",
   "execution_count": 9,
   "metadata": {},
   "outputs": [
    {
     "name": "stdout",
     "output_type": "stream",
     "text": [
      "############################STONE PAPER SCISSOR GAME############################\n",
      "\n",
      "                                  INSTRUCTIONS                                  \n",
      "\n",
      " CHOOSE ANY OPTION FROM THESE -->  stone paper scissor\n",
      "                                 Player1 : [1]--> ········\n",
      "\n",
      " Player2 : [1]--> ········\n",
      "\n",
      " Player1 choose STONE and Player2 choose PIJJ\n",
      "\n",
      " Updated Score of Both the players Is\n",
      "\n",
      " Player1 --> 1\n",
      " Player2 --> -1\n",
      "                                 Player1 : [2]--> ········\n",
      "\n",
      " Player2 : [2]--> ········\n",
      "\n",
      " Player1 choose PIRFIJ and Player2 choose STONE\n",
      "\n",
      " Updated Score of Both the players Is\n",
      "\n",
      " Player1 --> 0\n",
      " Player2 --> 0\n",
      "                                 Player1 : [3]--> ········\n",
      "\n",
      " Player2 : [3]--> ········\n",
      "\n",
      " Player1 choose STONE and Player2 choose SCISSOR\n",
      "\n",
      " Updated Score of Both the players Is\n",
      "\n",
      " Player1 --> 1\n",
      " Player2 --> 0\n",
      "\n",
      " Player1 won the game...\n",
      "################################################################################\n"
     ]
    }
   ],
   "source": [
    "print(\"STONE PAPER SCISSOR GAME\".center(80, \"#\"))\n",
    "choices = ['stone', 'paper', 'scissor']\n",
    "print()\n",
    "print(\"INSTRUCTIONS\".center(80))\n",
    "print(\"\\n CHOOSE ANY OPTION FROM THESE --> \", *choices)\n",
    "p1_win = [('stone', 'scissor'), ('scissor', 'paper'), ('paper', 'stone')]\n",
    "i = 1\n",
    "p1_score = 0\n",
    "p2_score = 0\n",
    "while i<=3:\n",
    "    p1 = getpass(f\"Player1 : [{i}]--> \".rjust(50)).strip().lower()\n",
    "    p2 = getpass(f\"\\n Player2 : [{i}]--> \").strip().lower()\n",
    "    if p1 in choices and if p2 in choices:\n",
    "        if (p1, p2) in p1_win:\n",
    "            p1_score += 1\n",
    "        elif p1 == p2:\n",
    "            p1_score += 1\n",
    "            p2_score += 1\n",
    "        else:\n",
    "            p2_score += 1\n",
    "    elif p1 not in choices and p2 not in choices:\n",
    "        p1_score -= 1\n",
    "        p2_score -= 1\n",
    "    elif p2 not in choices:\n",
    "        p2_score -= 1\n",
    "        p1_score += 1\n",
    "    elif p1 not in choices:\n",
    "        p1_score -= 1\n",
    "        p2_score += 1\n",
    "        \n",
    "    print(f\"\\n Player1 choose {p1.upper()} and Player2 choose {p2.upper()}\")\n",
    "    print(f\"\\n Updated Score of Both the players Is\")\n",
    "    print(f\"\\n Player1 --> {p1_score}\\n Player2 --> {p2_score}\")\n",
    "    i += 1\n",
    "if p1_score > p2_score:\n",
    "    print(\"\\n Player1 won the game...\")\n",
    "elif p1_score == p2_score:\n",
    "    print(\"\\n TIE...\")\n",
    "else:\n",
    "    print(f\"\\n Player2 won the game...\")\n",
    "print(\"#\"*80)"
   ]
  },
  {
   "cell_type": "markdown",
   "metadata": {},
   "source": [
    "##### You need to update and \n",
    "    If any player enter wrong input then take input till it enters right"
   ]
  },
  {
   "cell_type": "markdown",
   "metadata": {},
   "source": [
    "#### Loop\n",
    "\n",
    "    for var_name in iterable_object:\n",
    "        s1\n",
    "        s2\n",
    "        \n",
    "    It will repeate the steps s1 and s2 till it can traverse the elements \n",
    "    from iterable_object\n",
    "    \n",
    "    Iterable_objects:\n",
    "    \n",
    "    1. string\n",
    "    2. list\n",
    "    3. tuple\n",
    "    4. dict\n",
    "    5. sets\n",
    "    6. dict_keys\n",
    "    7. dict_values\n",
    "    8. dict_items\n",
    "    etc"
   ]
  },
  {
   "cell_type": "code",
   "execution_count": 12,
   "metadata": {},
   "outputs": [
    {
     "data": {
      "text/plain": [
       "dict_keys"
      ]
     },
     "execution_count": 12,
     "metadata": {},
     "output_type": "execute_result"
    }
   ],
   "source": [
    "type({'name': 'NAME', 'surname': 'SURNAME'}.keys())"
   ]
  },
  {
   "cell_type": "code",
   "execution_count": 13,
   "metadata": {},
   "outputs": [
    {
     "name": "stdout",
     "output_type": "stream",
     "text": [
      "p\n",
      "y\n",
      "t\n",
      "h\n",
      "o\n",
      "n\n"
     ]
    }
   ],
   "source": [
    "for i in \"python\":\n",
    "    print(i)\n",
    "# i = 'p'\n",
    "# i = 'y'\n",
    "# i = 't'\n",
    "# i = 'h'\n",
    "# i = 'o'\n",
    "# i = 'n'"
   ]
  },
  {
   "cell_type": "code",
   "execution_count": 14,
   "metadata": {},
   "outputs": [
    {
     "name": "stdout",
     "output_type": "stream",
     "text": [
      "Today is Good Day\n",
      "Today is Good Day\n",
      "Today is Good Day\n",
      "Today is Good Day\n",
      "Today is Good Day\n",
      "Today is Good Day\n",
      "Today is Good Day\n",
      "Today is Good Day\n",
      "Today is Good Day\n",
      "Today is Good Day\n",
      "Today is Good Day\n"
     ]
    }
   ],
   "source": [
    "for i in \"hello world\":\n",
    "    print(\"Today is Good Day\")"
   ]
  },
  {
   "cell_type": "code",
   "execution_count": 16,
   "metadata": {},
   "outputs": [
    {
     "name": "stdout",
     "output_type": "stream",
     "text": [
      "Today is Good Day\n",
      "Today is Good Day\n",
      "Today is Good Day\n",
      "Today is Good Day\n",
      "Today is Good Day\n",
      "Today is Good Day\n",
      "Today is Good Day\n",
      "Today is Good Day\n",
      "Today is Good Day\n",
      "Today is Good Day\n",
      "Today is Good Day\n",
      "11\n"
     ]
    }
   ],
   "source": [
    "c = 0\n",
    "for i in \"hello world\":\n",
    "    c += 1\n",
    "    print(\"Today is Good Day\")\n",
    "print(c)"
   ]
  },
  {
   "cell_type": "code",
   "execution_count": 18,
   "metadata": {},
   "outputs": [
    {
     "name": "stdout",
     "output_type": "stream",
     "text": [
      "h\n",
      "e\n",
      "l\n",
      "l\n",
      "o\n",
      " \n",
      "w\n",
      "o\n",
      "r\n",
      "l\n",
      "d\n",
      "11\n"
     ]
    }
   ],
   "source": [
    "c = 0\n",
    "for i in \"hello world\":\n",
    "    c += 1\n",
    "    print(i)\n",
    "print(c)"
   ]
  },
  {
   "cell_type": "code",
   "execution_count": 19,
   "metadata": {},
   "outputs": [
    {
     "name": "stdout",
     "output_type": "stream",
     "text": [
      "d\n"
     ]
    }
   ],
   "source": [
    "print(i)"
   ]
  },
  {
   "cell_type": "code",
   "execution_count": 20,
   "metadata": {},
   "outputs": [
    {
     "name": "stdout",
     "output_type": "stream",
     "text": [
      "1\n",
      "2\n",
      "3\n",
      "4\n",
      "5\n"
     ]
    }
   ],
   "source": [
    "for ele in [1, 2, 3, 4, 5]:\n",
    "    print(ele)\n",
    "    "
   ]
  },
  {
   "cell_type": "code",
   "execution_count": 21,
   "metadata": {},
   "outputs": [],
   "source": [
    "t = (1, 2, 3, 4, 'hello', 'hi', 'world', 'corona', 'vaccine')"
   ]
  },
  {
   "cell_type": "code",
   "execution_count": 23,
   "metadata": {},
   "outputs": [
    {
     "name": "stdout",
     "output_type": "stream",
     "text": [
      "1 -->  2\n",
      "2 -->  4\n",
      "3 -->  6\n",
      "4 -->  8\n",
      "hello -->  hellohello\n",
      "hi -->  hihi\n",
      "world -->  worldworld\n",
      "corona -->  coronacorona\n",
      "vaccine -->  vaccinevaccine\n"
     ]
    }
   ],
   "source": [
    "for i in t:\n",
    "    print(i, \"--> \", i*2)"
   ]
  },
  {
   "cell_type": "code",
   "execution_count": 24,
   "metadata": {},
   "outputs": [],
   "source": [
    "d = {\"city\": 'jaipur', 'temp': 40, 'max_temp': 40, 'min_temp': 35, 'state': 'rajasthan'}"
   ]
  },
  {
   "cell_type": "code",
   "execution_count": 25,
   "metadata": {},
   "outputs": [
    {
     "name": "stdout",
     "output_type": "stream",
     "text": [
      "city temp max_temp min_temp state\n"
     ]
    }
   ],
   "source": [
    "print(*d)"
   ]
  },
  {
   "cell_type": "code",
   "execution_count": 26,
   "metadata": {},
   "outputs": [
    {
     "name": "stdout",
     "output_type": "stream",
     "text": [
      "city\n",
      "temp\n",
      "max_temp\n",
      "min_temp\n",
      "state\n"
     ]
    }
   ],
   "source": [
    "for i in d:  # default --> keys will be iterate\n",
    "    print(i)"
   ]
  },
  {
   "cell_type": "code",
   "execution_count": 28,
   "metadata": {},
   "outputs": [
    {
     "name": "stdout",
     "output_type": "stream",
     "text": [
      "city\n",
      "temp\n",
      "max_temp\n",
      "min_temp\n",
      "state\n"
     ]
    }
   ],
   "source": [
    "for i in d.keys():\n",
    "    print(i)"
   ]
  },
  {
   "cell_type": "code",
   "execution_count": 29,
   "metadata": {},
   "outputs": [
    {
     "name": "stdout",
     "output_type": "stream",
     "text": [
      "jaipur\n",
      "40\n",
      "40\n",
      "35\n",
      "rajasthan\n"
     ]
    }
   ],
   "source": [
    "for i in d.values():\n",
    "    print(i)"
   ]
  },
  {
   "cell_type": "code",
   "execution_count": 30,
   "metadata": {},
   "outputs": [
    {
     "name": "stdout",
     "output_type": "stream",
     "text": [
      "('city', 'jaipur')\n",
      "('temp', 40)\n",
      "('max_temp', 40)\n",
      "('min_temp', 35)\n",
      "('state', 'rajasthan')\n"
     ]
    }
   ],
   "source": [
    "for i in d.items():\n",
    "    print(i)"
   ]
  },
  {
   "cell_type": "code",
   "execution_count": 32,
   "metadata": {},
   "outputs": [
    {
     "name": "stdout",
     "output_type": "stream",
     "text": [
      "Key -->  city\n",
      "Value -->  jaipur\n",
      "\n",
      "Key -->  temp\n",
      "Value -->  40\n",
      "\n",
      "Key -->  max_temp\n",
      "Value -->  40\n",
      "\n",
      "Key -->  min_temp\n",
      "Value -->  35\n",
      "\n",
      "Key -->  state\n",
      "Value -->  rajasthan\n",
      "\n"
     ]
    }
   ],
   "source": [
    "for i in d.items():\n",
    "    print(\"Key --> \", i[0])\n",
    "    print(\"Value --> \", i[1])\n",
    "    print()"
   ]
  },
  {
   "cell_type": "code",
   "execution_count": 33,
   "metadata": {},
   "outputs": [],
   "source": [
    "## unpacking "
   ]
  },
  {
   "cell_type": "code",
   "execution_count": 34,
   "metadata": {},
   "outputs": [],
   "source": [
    "a, b = 10, 20"
   ]
  },
  {
   "cell_type": "code",
   "execution_count": 35,
   "metadata": {},
   "outputs": [
    {
     "data": {
      "text/plain": [
       "10"
      ]
     },
     "execution_count": 35,
     "metadata": {},
     "output_type": "execute_result"
    }
   ],
   "source": [
    "a"
   ]
  },
  {
   "cell_type": "code",
   "execution_count": 37,
   "metadata": {},
   "outputs": [
    {
     "data": {
      "text/plain": [
       "20"
      ]
     },
     "execution_count": 37,
     "metadata": {},
     "output_type": "execute_result"
    }
   ],
   "source": [
    "b"
   ]
  },
  {
   "cell_type": "code",
   "execution_count": 38,
   "metadata": {},
   "outputs": [],
   "source": [
    "a, b = [1, 2]"
   ]
  },
  {
   "cell_type": "code",
   "execution_count": 39,
   "metadata": {},
   "outputs": [
    {
     "data": {
      "text/plain": [
       "1"
      ]
     },
     "execution_count": 39,
     "metadata": {},
     "output_type": "execute_result"
    }
   ],
   "source": [
    "a"
   ]
  },
  {
   "cell_type": "code",
   "execution_count": 40,
   "metadata": {},
   "outputs": [
    {
     "data": {
      "text/plain": [
       "2"
      ]
     },
     "execution_count": 40,
     "metadata": {},
     "output_type": "execute_result"
    }
   ],
   "source": [
    "b"
   ]
  },
  {
   "cell_type": "code",
   "execution_count": 41,
   "metadata": {},
   "outputs": [],
   "source": [
    "a, b = (10, 11)"
   ]
  },
  {
   "cell_type": "code",
   "execution_count": 42,
   "metadata": {},
   "outputs": [
    {
     "data": {
      "text/plain": [
       "10"
      ]
     },
     "execution_count": 42,
     "metadata": {},
     "output_type": "execute_result"
    }
   ],
   "source": [
    "a"
   ]
  },
  {
   "cell_type": "code",
   "execution_count": 43,
   "metadata": {},
   "outputs": [
    {
     "data": {
      "text/plain": [
       "11"
      ]
     },
     "execution_count": 43,
     "metadata": {},
     "output_type": "execute_result"
    }
   ],
   "source": [
    "b"
   ]
  },
  {
   "cell_type": "code",
   "execution_count": 44,
   "metadata": {},
   "outputs": [],
   "source": [
    "a, b = (\"hello\", \"hi\")"
   ]
  },
  {
   "cell_type": "code",
   "execution_count": 45,
   "metadata": {},
   "outputs": [
    {
     "data": {
      "text/plain": [
       "'hello'"
      ]
     },
     "execution_count": 45,
     "metadata": {},
     "output_type": "execute_result"
    }
   ],
   "source": [
    "a"
   ]
  },
  {
   "cell_type": "code",
   "execution_count": 46,
   "metadata": {},
   "outputs": [
    {
     "data": {
      "text/plain": [
       "'hi'"
      ]
     },
     "execution_count": 46,
     "metadata": {},
     "output_type": "execute_result"
    }
   ],
   "source": [
    "b"
   ]
  },
  {
   "cell_type": "code",
   "execution_count": 47,
   "metadata": {},
   "outputs": [],
   "source": [
    "a, b, c = \"str\""
   ]
  },
  {
   "cell_type": "code",
   "execution_count": 48,
   "metadata": {},
   "outputs": [
    {
     "data": {
      "text/plain": [
       "'s'"
      ]
     },
     "execution_count": 48,
     "metadata": {},
     "output_type": "execute_result"
    }
   ],
   "source": [
    "a"
   ]
  },
  {
   "cell_type": "code",
   "execution_count": 49,
   "metadata": {},
   "outputs": [
    {
     "data": {
      "text/plain": [
       "'t'"
      ]
     },
     "execution_count": 49,
     "metadata": {},
     "output_type": "execute_result"
    }
   ],
   "source": [
    "b"
   ]
  },
  {
   "cell_type": "code",
   "execution_count": 50,
   "metadata": {},
   "outputs": [
    {
     "data": {
      "text/plain": [
       "'r'"
      ]
     },
     "execution_count": 50,
     "metadata": {},
     "output_type": "execute_result"
    }
   ],
   "source": [
    "c"
   ]
  },
  {
   "cell_type": "code",
   "execution_count": 51,
   "metadata": {},
   "outputs": [
    {
     "ename": "ValueError",
     "evalue": "not enough values to unpack (expected 4, got 3)",
     "output_type": "error",
     "traceback": [
      "\u001b[1;31m---------------------------------------------------------------------------\u001b[0m",
      "\u001b[1;31mValueError\u001b[0m                                Traceback (most recent call last)",
      "\u001b[1;32m<ipython-input-51-25f711e0fa99>\u001b[0m in \u001b[0;36m<module>\u001b[1;34m\u001b[0m\n\u001b[1;32m----> 1\u001b[1;33m \u001b[0ma\u001b[0m\u001b[1;33m,\u001b[0m \u001b[0mb\u001b[0m\u001b[1;33m,\u001b[0m \u001b[0mc\u001b[0m\u001b[1;33m,\u001b[0m \u001b[0md\u001b[0m \u001b[1;33m=\u001b[0m \u001b[1;34m\"str\"\u001b[0m\u001b[1;33m\u001b[0m\u001b[1;33m\u001b[0m\u001b[0m\n\u001b[0m",
      "\u001b[1;31mValueError\u001b[0m: not enough values to unpack (expected 4, got 3)"
     ]
    }
   ],
   "source": [
    "a, b, c, d = \"str\""
   ]
  },
  {
   "cell_type": "code",
   "execution_count": 52,
   "metadata": {},
   "outputs": [],
   "source": [
    "a, b = [1, [1, 2, 3, 4]]"
   ]
  },
  {
   "cell_type": "code",
   "execution_count": 53,
   "metadata": {},
   "outputs": [
    {
     "data": {
      "text/plain": [
       "1"
      ]
     },
     "execution_count": 53,
     "metadata": {},
     "output_type": "execute_result"
    }
   ],
   "source": [
    "a"
   ]
  },
  {
   "cell_type": "code",
   "execution_count": 54,
   "metadata": {},
   "outputs": [
    {
     "data": {
      "text/plain": [
       "[1, 2, 3, 4]"
      ]
     },
     "execution_count": 54,
     "metadata": {},
     "output_type": "execute_result"
    }
   ],
   "source": [
    "b"
   ]
  },
  {
   "cell_type": "code",
   "execution_count": 55,
   "metadata": {},
   "outputs": [],
   "source": [
    "a, *b = [1, 2, 3, 4]"
   ]
  },
  {
   "cell_type": "code",
   "execution_count": 56,
   "metadata": {},
   "outputs": [
    {
     "data": {
      "text/plain": [
       "1"
      ]
     },
     "execution_count": 56,
     "metadata": {},
     "output_type": "execute_result"
    }
   ],
   "source": [
    "a"
   ]
  },
  {
   "cell_type": "code",
   "execution_count": 57,
   "metadata": {},
   "outputs": [
    {
     "data": {
      "text/plain": [
       "[2, 3, 4]"
      ]
     },
     "execution_count": 57,
     "metadata": {},
     "output_type": "execute_result"
    }
   ],
   "source": [
    "b"
   ]
  },
  {
   "cell_type": "code",
   "execution_count": 58,
   "metadata": {},
   "outputs": [
    {
     "name": "stdout",
     "output_type": "stream",
     "text": [
      "\n",
      " Key --> city\n",
      "\n",
      " Value --> jaipur\n",
      "\n",
      "\n",
      " Key --> temp\n",
      "\n",
      " Value --> 40\n",
      "\n",
      "\n",
      " Key --> max_temp\n",
      "\n",
      " Value --> 40\n",
      "\n",
      "\n",
      " Key --> min_temp\n",
      "\n",
      " Value --> 35\n",
      "\n",
      "\n",
      " Key --> state\n",
      "\n",
      " Value --> rajasthan\n",
      "\n"
     ]
    }
   ],
   "source": [
    "for i in d.items():\n",
    "    key, value = i\n",
    "    print(f\"\\n Key --> {key}\")\n",
    "    print(f\"\\n Value --> {value}\")\n",
    "    print()"
   ]
  },
  {
   "cell_type": "code",
   "execution_count": 59,
   "metadata": {},
   "outputs": [
    {
     "name": "stdout",
     "output_type": "stream",
     "text": [
      "\n",
      " Key --> city\n",
      "\n",
      " Value --> jaipur\n",
      "\n",
      "\n",
      " Key --> temp\n",
      "\n",
      " Value --> 40\n",
      "\n",
      "\n",
      " Key --> max_temp\n",
      "\n",
      " Value --> 40\n",
      "\n",
      "\n",
      " Key --> min_temp\n",
      "\n",
      " Value --> 35\n",
      "\n",
      "\n",
      " Key --> state\n",
      "\n",
      " Value --> rajasthan\n",
      "\n"
     ]
    }
   ],
   "source": [
    "for key, value in d.items():\n",
    "    print(f\"\\n Key --> {key}\")\n",
    "    print(f\"\\n Value --> {value}\")\n",
    "    print()\n",
    "# key, value = ('city', 'jaipur')\n",
    "# key, value = ('temp', 40)\n",
    "# key, value = ('max_temp', 40)"
   ]
  },
  {
   "cell_type": "code",
   "execution_count": 60,
   "metadata": {},
   "outputs": [
    {
     "name": "stdout",
     "output_type": "stream",
     "text": [
      "1\n",
      "2\n",
      "3\n",
      "4\n"
     ]
    }
   ],
   "source": [
    "for a in {1, 2, 3, 4}:\n",
    "    print(a)"
   ]
  },
  {
   "cell_type": "code",
   "execution_count": 61,
   "metadata": {},
   "outputs": [],
   "source": [
    "name = ['simran', 'tushar', 'ritik', 'vishal', 'subhodeep', 'rahan']\n",
    "marks = [50, 60, 70, 40, 60, 80]"
   ]
  },
  {
   "cell_type": "markdown",
   "metadata": {},
   "source": [
    "##### Lazy evaluation"
   ]
  },
  {
   "cell_type": "code",
   "execution_count": 62,
   "metadata": {},
   "outputs": [
    {
     "data": {
      "text/plain": [
       "<zip at 0x2ba273e3880>"
      ]
     },
     "execution_count": 62,
     "metadata": {},
     "output_type": "execute_result"
    }
   ],
   "source": [
    "zip(name, marks)  # iterable object"
   ]
  },
  {
   "cell_type": "code",
   "execution_count": 63,
   "metadata": {},
   "outputs": [
    {
     "name": "stdout",
     "output_type": "stream",
     "text": [
      "('simran', 50) ('tushar', 60) ('ritik', 70) ('vishal', 40) ('subhodeep', 60) ('rahan', 80)\n"
     ]
    }
   ],
   "source": [
    "print(*zip(name, marks))"
   ]
  },
  {
   "cell_type": "code",
   "execution_count": 64,
   "metadata": {},
   "outputs": [
    {
     "name": "stdout",
     "output_type": "stream",
     "text": [
      "('simran', 50)\n",
      "('tushar', 60)\n",
      "('ritik', 70)\n",
      "('vishal', 40)\n",
      "('subhodeep', 60)\n",
      "('rahan', 80)\n"
     ]
    }
   ],
   "source": [
    "for i in zip(name, marks):\n",
    "    print(i)"
   ]
  },
  {
   "cell_type": "code",
   "execution_count": 65,
   "metadata": {},
   "outputs": [
    {
     "data": {
      "text/plain": [
       "[('simran', 50),\n",
       " ('tushar', 60),\n",
       " ('ritik', 70),\n",
       " ('vishal', 40),\n",
       " ('subhodeep', 60),\n",
       " ('rahan', 80)]"
      ]
     },
     "execution_count": 65,
     "metadata": {},
     "output_type": "execute_result"
    }
   ],
   "source": [
    "list(zip(name, marks))"
   ]
  },
  {
   "cell_type": "code",
   "execution_count": 66,
   "metadata": {},
   "outputs": [
    {
     "name": "stdout",
     "output_type": "stream",
     "text": [
      "<zip object at 0x000002BA273E3400>\n"
     ]
    }
   ],
   "source": [
    "print(zip(name, marks))"
   ]
  },
  {
   "cell_type": "code",
   "execution_count": 67,
   "metadata": {},
   "outputs": [
    {
     "name": "stdout",
     "output_type": "stream",
     "text": [
      "simran 50\n",
      "tushar 60\n",
      "ritik 70\n",
      "vishal 40\n",
      "subhodeep 60\n",
      "rahan 80\n"
     ]
    }
   ],
   "source": [
    "for n, m in zip(name, marks):\n",
    "    print(n, m)"
   ]
  },
  {
   "cell_type": "code",
   "execution_count": 70,
   "metadata": {},
   "outputs": [
    {
     "name": "stdout",
     "output_type": "stream",
     "text": [
      "1 2\n",
      "11 12\n"
     ]
    }
   ],
   "source": [
    "for n, m in [[1, 2], [11, 12]]:\n",
    "    print(n, m)"
   ]
  },
  {
   "cell_type": "code",
   "execution_count": 71,
   "metadata": {},
   "outputs": [
    {
     "name": "stdout",
     "output_type": "stream",
     "text": [
      "simran ['tushar', 'ritik', 'vishal', 'subhodeep', 'rahan']\n",
      "50 [60, 70, 40, 60, 80]\n"
     ]
    }
   ],
   "source": [
    "for n, *m in [name, marks]:\n",
    "    print(n, m)\n",
    "\n",
    "# n, *m = ['simran', 'tushar', 'ritik', 'vishal', 'subhodeep', 'rahan']\n",
    "# n, *m = [50, 60, 70, 40, 60, 80]"
   ]
  },
  {
   "cell_type": "code",
   "execution_count": 72,
   "metadata": {},
   "outputs": [
    {
     "data": {
      "text/plain": [
       "['simran', 'tushar', 'ritik', 'vishal', 'subhodeep', 'rahan']"
      ]
     },
     "execution_count": 72,
     "metadata": {},
     "output_type": "execute_result"
    }
   ],
   "source": [
    "name"
   ]
  },
  {
   "cell_type": "code",
   "execution_count": 75,
   "metadata": {},
   "outputs": [],
   "source": [
    "eng = [50, 60, 70, 40, 60, 80]"
   ]
  },
  {
   "cell_type": "code",
   "execution_count": 76,
   "metadata": {},
   "outputs": [],
   "source": [
    "maths = [80, 70, 75, 60, 80, 70]"
   ]
  },
  {
   "cell_type": "code",
   "execution_count": 77,
   "metadata": {},
   "outputs": [],
   "source": [
    "sci = [75, 65, 75, 43, 69, 82]"
   ]
  },
  {
   "cell_type": "code",
   "execution_count": 79,
   "metadata": {},
   "outputs": [
    {
     "data": {
      "text/plain": [
       "[('simran', 50, 80, 75),\n",
       " ('tushar', 60, 70, 65),\n",
       " ('ritik', 70, 75, 75),\n",
       " ('vishal', 40, 60, 43),\n",
       " ('subhodeep', 60, 80, 69),\n",
       " ('rahan', 80, 70, 82)]"
      ]
     },
     "execution_count": 79,
     "metadata": {},
     "output_type": "execute_result"
    }
   ],
   "source": [
    "list(zip(name, eng, maths, sci))"
   ]
  },
  {
   "cell_type": "code",
   "execution_count": 80,
   "metadata": {},
   "outputs": [
    {
     "name": "stdout",
     "output_type": "stream",
     "text": [
      "('p', 'w') ('y', 'o') ('t', 'r') ('h', 'l') ('o', 'd') ('n', '_')\n"
     ]
    }
   ],
   "source": [
    "print(*zip(\"python\", \"world_\"))"
   ]
  },
  {
   "cell_type": "code",
   "execution_count": 83,
   "metadata": {},
   "outputs": [
    {
     "name": "stdout",
     "output_type": "stream",
     "text": [
      "('p', 'w') ('y', 'o') ('t', 'r')\n"
     ]
    }
   ],
   "source": [
    "print(*zip(\"pyth*on\", \"wor\"))"
   ]
  },
  {
   "cell_type": "code",
   "execution_count": 84,
   "metadata": {},
   "outputs": [
    {
     "name": "stdout",
     "output_type": "stream",
     "text": [
      "simran 80 50 75\n",
      "tushar 70 60 65\n",
      "ritik 75 70 75\n",
      "vishal 60 40 43\n",
      "subhodeep 80 60 69\n",
      "rahan 70 80 82\n"
     ]
    }
   ],
   "source": [
    "for n, m, e, s in zip(name, maths, eng, sci):\n",
    "    print(n, m, e, s)\n",
    "\n",
    "# n, m, e, s = ('simran', 80, 50, 75)"
   ]
  },
  {
   "cell_type": "code",
   "execution_count": 85,
   "metadata": {},
   "outputs": [
    {
     "name": "stdout",
     "output_type": "stream",
     "text": [
      "\n",
      " simran --> 68.33%\n",
      "________________________________________________________________________________\n",
      "\n",
      " tushar --> 65.0%\n",
      "________________________________________________________________________________\n",
      "\n",
      " ritik --> 73.33%\n",
      "________________________________________________________________________________\n",
      "\n",
      " vishal --> 47.67%\n",
      "________________________________________________________________________________\n",
      "\n",
      " subhodeep --> 69.67%\n",
      "________________________________________________________________________________\n",
      "\n",
      " rahan --> 77.33%\n",
      "________________________________________________________________________________\n"
     ]
    }
   ],
   "source": [
    "for n, m, e, s in zip(name, maths, eng, sci):\n",
    "    per = round((m + e + s)/3, 2)\n",
    "    print(f\"\\n {n} --> {per}%\")\n",
    "    print(\"_\"*80)\n",
    "# n, m, e, s = ('simran', 80, 50, 75)"
   ]
  },
  {
   "cell_type": "code",
   "execution_count": 90,
   "metadata": {},
   "outputs": [],
   "source": [
    "from random import choice"
   ]
  },
  {
   "cell_type": "code",
   "execution_count": 97,
   "metadata": {},
   "outputs": [
    {
     "data": {
      "text/plain": [
       "'c'"
      ]
     },
     "execution_count": 97,
     "metadata": {},
     "output_type": "execute_result"
    }
   ],
   "source": [
    "choice(['a', 'b', 'c'])"
   ]
  },
  {
   "cell_type": "code",
   "execution_count": 98,
   "metadata": {},
   "outputs": [
    {
     "data": {
      "text/plain": [
       "'yes'"
      ]
     },
     "execution_count": 98,
     "metadata": {},
     "output_type": "execute_result"
    }
   ],
   "source": [
    "choice(['yes', 'no'])"
   ]
  },
  {
   "cell_type": "code",
   "execution_count": 99,
   "metadata": {},
   "outputs": [],
   "source": [
    "names = list(\"ABCDEFHJIKLMNOPQRSTUVWXYZ\")\n",
    "vac = []\n",
    "for _ in names:\n",
    "    vac.append(choice(['yes', 'no']))"
   ]
  },
  {
   "cell_type": "code",
   "execution_count": 88,
   "metadata": {},
   "outputs": [
    {
     "data": {
      "text/plain": [
       "25"
      ]
     },
     "execution_count": 88,
     "metadata": {},
     "output_type": "execute_result"
    }
   ],
   "source": [
    "len(names)"
   ]
  },
  {
   "cell_type": "code",
   "execution_count": 89,
   "metadata": {},
   "outputs": [
    {
     "data": {
      "text/plain": [
       "['A',\n",
       " 'B',\n",
       " 'C',\n",
       " 'D',\n",
       " 'E',\n",
       " 'F',\n",
       " 'H',\n",
       " 'J',\n",
       " 'I',\n",
       " 'K',\n",
       " 'L',\n",
       " 'M',\n",
       " 'N',\n",
       " 'O',\n",
       " 'P',\n",
       " 'Q',\n",
       " 'R',\n",
       " 'S',\n",
       " 'T',\n",
       " 'U',\n",
       " 'V',\n",
       " 'W',\n",
       " 'X',\n",
       " 'Y',\n",
       " 'Z']"
      ]
     },
     "execution_count": 89,
     "metadata": {},
     "output_type": "execute_result"
    }
   ],
   "source": [
    "names"
   ]
  },
  {
   "cell_type": "code",
   "execution_count": 100,
   "metadata": {},
   "outputs": [
    {
     "data": {
      "text/plain": [
       "25"
      ]
     },
     "execution_count": 100,
     "metadata": {},
     "output_type": "execute_result"
    }
   ],
   "source": [
    "len(vac)"
   ]
  },
  {
   "cell_type": "code",
   "execution_count": 101,
   "metadata": {},
   "outputs": [
    {
     "name": "stdout",
     "output_type": "stream",
     "text": [
      "['no', 'no', 'no', 'no', 'yes', 'yes', 'yes', 'yes', 'no', 'no', 'yes', 'no', 'yes', 'yes', 'no', 'no', 'yes', 'yes', 'no', 'no', 'no', 'yes', 'no', 'no', 'yes']\n"
     ]
    }
   ],
   "source": [
    "print(vac)"
   ]
  },
  {
   "cell_type": "code",
   "execution_count": 102,
   "metadata": {},
   "outputs": [
    {
     "name": "stdout",
     "output_type": "stream",
     "text": [
      "\n",
      " Number of People Vaccincated Are -->  11\n",
      "\n",
      " Number of People Not Vaccincated Are -->  14\n"
     ]
    }
   ],
   "source": [
    "count = 0\n",
    "for n, v in zip(names, vac):\n",
    "    if v == \"yes\":\n",
    "        count += 1\n",
    "print(\"\\n Number of People Vaccincated Are --> \", count)\n",
    "print(\"\\n Number of People Not Vaccincated Are --> \", len(names) - count)"
   ]
  },
  {
   "cell_type": "code",
   "execution_count": null,
   "metadata": {},
   "outputs": [],
   "source": []
  }
 ],
 "metadata": {
  "kernelspec": {
   "display_name": "Python 3",
   "language": "python",
   "name": "python3"
  },
  "language_info": {
   "codemirror_mode": {
    "name": "ipython",
    "version": 3
   },
   "file_extension": ".py",
   "mimetype": "text/x-python",
   "name": "python",
   "nbconvert_exporter": "python",
   "pygments_lexer": "ipython3",
   "version": "3.8.5"
  }
 },
 "nbformat": 4,
 "nbformat_minor": 4
}
