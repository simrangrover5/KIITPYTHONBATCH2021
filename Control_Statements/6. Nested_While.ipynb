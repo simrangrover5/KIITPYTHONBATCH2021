{
 "cells": [
  {
   "cell_type": "markdown",
   "metadata": {},
   "source": [
    "## Good Afternoon Everyone\n",
    "\n",
    "\n",
    "    Doubts??"
   ]
  },
  {
   "cell_type": "code",
   "execution_count": 1,
   "metadata": {},
   "outputs": [
    {
     "name": "stderr",
     "output_type": "stream",
     "text": [
      "<>:1: SyntaxWarning: \"is\" with a literal. Did you mean \"==\"?\n",
      "<>:1: SyntaxWarning: \"is\" with a literal. Did you mean \"==\"?\n",
      "<ipython-input-1-b152e07d54b3>:1: SyntaxWarning: \"is\" with a literal. Did you mean \"==\"?\n",
      "  2 is int\n"
     ]
    },
    {
     "data": {
      "text/plain": [
       "False"
      ]
     },
     "execution_count": 1,
     "metadata": {},
     "output_type": "execute_result"
    }
   ],
   "source": [
    "2 is int"
   ]
  },
  {
   "cell_type": "code",
   "execution_count": 2,
   "metadata": {},
   "outputs": [],
   "source": [
    "a = 2\n",
    "b = 2"
   ]
  },
  {
   "cell_type": "code",
   "execution_count": 3,
   "metadata": {},
   "outputs": [
    {
     "data": {
      "text/plain": [
       "True"
      ]
     },
     "execution_count": 3,
     "metadata": {},
     "output_type": "execute_result"
    }
   ],
   "source": [
    "a is b"
   ]
  },
  {
   "cell_type": "code",
   "execution_count": 4,
   "metadata": {},
   "outputs": [
    {
     "data": {
      "text/plain": [
       "False"
      ]
     },
     "execution_count": 4,
     "metadata": {},
     "output_type": "execute_result"
    }
   ],
   "source": [
    "2 == int"
   ]
  },
  {
   "cell_type": "code",
   "execution_count": 6,
   "metadata": {},
   "outputs": [
    {
     "data": {
      "text/plain": [
       "type"
      ]
     },
     "execution_count": 6,
     "metadata": {},
     "output_type": "execute_result"
    }
   ],
   "source": [
    "type(int)"
   ]
  },
  {
   "cell_type": "code",
   "execution_count": 7,
   "metadata": {},
   "outputs": [
    {
     "data": {
      "text/plain": [
       "True"
      ]
     },
     "execution_count": 7,
     "metadata": {},
     "output_type": "execute_result"
    }
   ],
   "source": [
    "type(2) == int"
   ]
  },
  {
   "cell_type": "code",
   "execution_count": 8,
   "metadata": {},
   "outputs": [
    {
     "data": {
      "text/plain": [
       "True"
      ]
     },
     "execution_count": 8,
     "metadata": {},
     "output_type": "execute_result"
    }
   ],
   "source": [
    "isinstance(2, int)"
   ]
  },
  {
   "cell_type": "code",
   "execution_count": 9,
   "metadata": {},
   "outputs": [
    {
     "data": {
      "text/plain": [
       "32"
      ]
     },
     "execution_count": 9,
     "metadata": {},
     "output_type": "execute_result"
    }
   ],
   "source": [
    "ord(\" \")"
   ]
  },
  {
   "cell_type": "code",
   "execution_count": 10,
   "metadata": {},
   "outputs": [
    {
     "data": {
      "text/plain": [
       "48"
      ]
     },
     "execution_count": 10,
     "metadata": {},
     "output_type": "execute_result"
    }
   ],
   "source": [
    "ord(\"0\")"
   ]
  },
  {
   "cell_type": "code",
   "execution_count": 11,
   "metadata": {},
   "outputs": [
    {
     "data": {
      "text/plain": [
       "65"
      ]
     },
     "execution_count": 11,
     "metadata": {},
     "output_type": "execute_result"
    }
   ],
   "source": [
    "ord(\"A\")"
   ]
  },
  {
   "cell_type": "code",
   "execution_count": 12,
   "metadata": {},
   "outputs": [
    {
     "data": {
      "text/plain": [
       "90"
      ]
     },
     "execution_count": 12,
     "metadata": {},
     "output_type": "execute_result"
    }
   ],
   "source": [
    "ord(\"Z\")"
   ]
  },
  {
   "cell_type": "code",
   "execution_count": 13,
   "metadata": {},
   "outputs": [
    {
     "data": {
      "text/plain": [
       "True"
      ]
     },
     "execution_count": 13,
     "metadata": {},
     "output_type": "execute_result"
    }
   ],
   "source": [
    "\"a\".isalpha()"
   ]
  },
  {
   "cell_type": "code",
   "execution_count": 14,
   "metadata": {},
   "outputs": [
    {
     "data": {
      "text/plain": [
       "<function print>"
      ]
     },
     "execution_count": 14,
     "metadata": {},
     "output_type": "execute_result"
    }
   ],
   "source": [
    "print"
   ]
  },
  {
   "cell_type": "code",
   "execution_count": 15,
   "metadata": {},
   "outputs": [],
   "source": [
    "a = 10"
   ]
  },
  {
   "cell_type": "code",
   "execution_count": 16,
   "metadata": {},
   "outputs": [
    {
     "data": {
      "text/plain": [
       "10"
      ]
     },
     "execution_count": 16,
     "metadata": {},
     "output_type": "execute_result"
    }
   ],
   "source": [
    "a"
   ]
  },
  {
   "cell_type": "code",
   "execution_count": 17,
   "metadata": {},
   "outputs": [
    {
     "data": {
      "text/plain": [
       "<function print>"
      ]
     },
     "execution_count": 17,
     "metadata": {},
     "output_type": "execute_result"
    }
   ],
   "source": [
    "print"
   ]
  },
  {
   "cell_type": "code",
   "execution_count": 18,
   "metadata": {},
   "outputs": [],
   "source": [
    "def add():\n",
    "    pass"
   ]
  },
  {
   "cell_type": "code",
   "execution_count": 19,
   "metadata": {},
   "outputs": [
    {
     "data": {
      "text/plain": [
       "<function __main__.add()>"
      ]
     },
     "execution_count": 19,
     "metadata": {},
     "output_type": "execute_result"
    }
   ],
   "source": [
    "add"
   ]
  },
  {
   "cell_type": "code",
   "execution_count": 20,
   "metadata": {},
   "outputs": [
    {
     "data": {
      "text/plain": [
       "<function sum(iterable, /, start=0)>"
      ]
     },
     "execution_count": 20,
     "metadata": {},
     "output_type": "execute_result"
    }
   ],
   "source": [
    "sum"
   ]
  },
  {
   "cell_type": "code",
   "execution_count": 21,
   "metadata": {},
   "outputs": [
    {
     "data": {
      "text/plain": [
       "<function max>"
      ]
     },
     "execution_count": 21,
     "metadata": {},
     "output_type": "execute_result"
    }
   ],
   "source": [
    "max"
   ]
  },
  {
   "cell_type": "code",
   "execution_count": 22,
   "metadata": {},
   "outputs": [
    {
     "data": {
      "text/plain": [
       "<function min>"
      ]
     },
     "execution_count": 22,
     "metadata": {},
     "output_type": "execute_result"
    }
   ],
   "source": [
    "min"
   ]
  },
  {
   "cell_type": "markdown",
   "metadata": {},
   "source": [
    "### Guess Game"
   ]
  },
  {
   "cell_type": "code",
   "execution_count": 23,
   "metadata": {},
   "outputs": [],
   "source": [
    "from random import randint"
   ]
  },
  {
   "cell_type": "code",
   "execution_count": 25,
   "metadata": {},
   "outputs": [
    {
     "name": "stdout",
     "output_type": "stream",
     "text": [
      "***********************************GUESS GAME***********************************\n",
      "\n",
      "\n",
      " Enter Any Number Between 1 to 10 --> 7\n",
      "\n",
      " Enter Any Number Between 1 to 10 --> 9\n",
      "\n",
      " Enter Any Number Between 1 to 10 --> 1\n",
      "\n",
      " Enter Any Number Between 1 to 10 --> 3\n",
      "\n",
      " Enter Any Number Between 1 to 10 --> 5\n",
      "\n",
      " Enter Any Number Between 1 to 10 --> 4\n",
      "\n",
      " Enter Any Number Between 1 to 10 --> 10\n",
      "\n",
      " You Won the Game...After 7 chances\n",
      "\n",
      "**************************************END***************************************\n"
     ]
    }
   ],
   "source": [
    "print(\"GUESS GAME\".center(80, \"*\"))\n",
    "print()\n",
    "comp = randint(1, 10)\n",
    "count = 0\n",
    "while True:\n",
    "    count += 1\n",
    "    user = int(input(\"\\n Enter Any Number Between 1 to 10 --> \"))\n",
    "    if user == comp:\n",
    "        print(f\"\\n You Won the Game...After {count} chances\")\n",
    "        break\n",
    "print()\n",
    "print(\"END\".center(80, \"*\"))"
   ]
  },
  {
   "cell_type": "code",
   "execution_count": 29,
   "metadata": {},
   "outputs": [
    {
     "name": "stdout",
     "output_type": "stream",
     "text": [
      "***********************************GUESS GAME***********************************\n",
      "\n",
      "\n",
      " Enter Any Number Between 1 to 10 --> 7\n",
      "\n",
      " Enter Any Number Between 1 to 10 --> 8\n",
      "\n",
      " Enter Any Number Between 1 to 10 --> 9\n",
      "\n",
      " Enter Any Number Between 1 to 10 --> 1\n",
      "\n",
      " Enter Any Number Between 1 to 10 --> 2\n",
      "\n",
      " You loss the Game....After 5 chances\n",
      "\n",
      "**************************************END***************************************\n"
     ]
    }
   ],
   "source": [
    "print(\"GUESS GAME\".center(80, \"*\"))\n",
    "print()\n",
    "comp = randint(1, 10)\n",
    "count = 1\n",
    "while count<=5:\n",
    "    user = int(input(\"\\n Enter Any Number Between 1 to 10 --> \"))\n",
    "    if user == comp:\n",
    "        print(f\"\\n You Won the Game...After {count} chances\")\n",
    "        break\n",
    "    count += 1\n",
    "else:\n",
    "    print(\"\\n You loss the Game....After 5 chances\")\n",
    "print()\n",
    "print(\"END\".center(80, \"*\"))"
   ]
  },
  {
   "cell_type": "code",
   "execution_count": 32,
   "metadata": {},
   "outputs": [
    {
     "name": "stdout",
     "output_type": "stream",
     "text": [
      "***********************************GUESS GAME***********************************\n",
      "\n",
      "\n",
      " Enter Any Number Between 1 to 50 --> 20\n",
      "                                HINT: Think High                                \n",
      "\n",
      " Enter Any Number Between 1 to 50 --> 40\n",
      "                                HINT: Think Low                                 \n",
      "\n",
      " Enter Any Number Between 1 to 50 --> 25\n",
      "                                HINT: Think High                                \n",
      "\n",
      " Enter Any Number Between 1 to 50 --> 35\n",
      "                                HINT: Think Low                                 \n",
      "\n",
      " Enter Any Number Between 1 to 50 --> 30\n",
      "\n",
      " You Won the Game...After 5 chances\n",
      "\n",
      "**************************************END***************************************\n"
     ]
    }
   ],
   "source": [
    "print(\"GUESS GAME\".center(80, \"*\"))\n",
    "print()\n",
    "comp = randint(1, 50)\n",
    "count = 1\n",
    "while count<=5:\n",
    "    user = int(input(\"\\n Enter Any Number Between 1 to 50 --> \"))\n",
    "    if user<comp:\n",
    "        print(\"HINT: Think High\".center(80))\n",
    "    elif user>comp:\n",
    "        print(\"HINT: Think Low\".center(80))\n",
    "    elif user == comp:\n",
    "        print(f\"\\n You Won the Game...After {count} chances\")\n",
    "        break\n",
    "    count += 1\n",
    "else:\n",
    "    print(\"\\n You loss the Game....After 5 chances\")\n",
    "print()\n",
    "print(\"END\".center(80, \"*\"))"
   ]
  },
  {
   "cell_type": "markdown",
   "metadata": {},
   "source": [
    "### Nested While "
   ]
  },
  {
   "cell_type": "markdown",
   "metadata": {},
   "source": [
    "    Prime Number\n",
    "    \n",
    "        Number Divisible by 1 and itself\n",
    "        \n",
    "            3, 5, 7, 11, 13, 17...\n",
    "            \n",
    "            3 --> 2 --> 3%2 == 0\n",
    "            \n",
    "            7 --> 2, 3, 4, 5, 6 "
   ]
  },
  {
   "cell_type": "code",
   "execution_count": 36,
   "metadata": {},
   "outputs": [
    {
     "name": "stdout",
     "output_type": "stream",
     "text": [
      "\n",
      " Enter any number to check prime or not --> 151\n",
      "\n",
      " 151 is prime\n"
     ]
    }
   ],
   "source": [
    "num = int(input(\"\\n Enter any number to check prime or not --> \"))\n",
    "i = 2\n",
    "while i<num:\n",
    "    if num%i == 0:\n",
    "        print(f\"\\n {num} is not prime\")\n",
    "        break\n",
    "    i += 1\n",
    "else:\n",
    "    print(f\"\\n {num} is prime\")"
   ]
  },
  {
   "cell_type": "code",
   "execution_count": 37,
   "metadata": {},
   "outputs": [],
   "source": [
    "# 2 --> 150 = 148"
   ]
  },
  {
   "cell_type": "code",
   "execution_count": 38,
   "metadata": {},
   "outputs": [],
   "source": [
    "from math import sqrt"
   ]
  },
  {
   "cell_type": "code",
   "execution_count": 39,
   "metadata": {},
   "outputs": [
    {
     "data": {
      "text/plain": [
       "2.0"
      ]
     },
     "execution_count": 39,
     "metadata": {},
     "output_type": "execute_result"
    }
   ],
   "source": [
    "sqrt(4)"
   ]
  },
  {
   "cell_type": "code",
   "execution_count": 41,
   "metadata": {},
   "outputs": [
    {
     "data": {
      "text/plain": [
       "3"
      ]
     },
     "execution_count": 41,
     "metadata": {},
     "output_type": "execute_result"
    }
   ],
   "source": [
    "round(sqrt(10))"
   ]
  },
  {
   "cell_type": "code",
   "execution_count": 43,
   "metadata": {},
   "outputs": [
    {
     "data": {
      "text/plain": [
       "3"
      ]
     },
     "execution_count": 43,
     "metadata": {},
     "output_type": "execute_result"
    }
   ],
   "source": [
    "round(sqrt(7))"
   ]
  },
  {
   "cell_type": "code",
   "execution_count": 44,
   "metadata": {},
   "outputs": [
    {
     "data": {
      "text/plain": [
       "3"
      ]
     },
     "execution_count": 44,
     "metadata": {},
     "output_type": "execute_result"
    }
   ],
   "source": [
    "round(sqrt(12))"
   ]
  },
  {
   "cell_type": "code",
   "execution_count": 46,
   "metadata": {},
   "outputs": [
    {
     "name": "stdout",
     "output_type": "stream",
     "text": [
      "\n",
      " Enter any number to check prime or not --> 997\n",
      "\n",
      " 997 is prime\n",
      "\n",
      " Total Runs of loop is 995\n"
     ]
    }
   ],
   "source": [
    "num = int(input(\"\\n Enter any number to check prime or not --> \"))\n",
    "i = 2\n",
    "count = 0\n",
    "while i<num:\n",
    "    count += 1\n",
    "    if num%i == 0:\n",
    "        print(f\"\\n {num} is not prime\")\n",
    "        break\n",
    "    i += 1\n",
    "else:\n",
    "    print(f\"\\n {num} is prime\")\n",
    "print(f\"\\n Total Runs of loop is {count}\")"
   ]
  },
  {
   "cell_type": "code",
   "execution_count": 48,
   "metadata": {},
   "outputs": [
    {
     "data": {
      "text/plain": [
       "12"
      ]
     },
     "execution_count": 48,
     "metadata": {},
     "output_type": "execute_result"
    }
   ],
   "source": [
    "round(sqrt(151))"
   ]
  },
  {
   "cell_type": "code",
   "execution_count": 49,
   "metadata": {},
   "outputs": [
    {
     "data": {
      "text/plain": [
       "32"
      ]
     },
     "execution_count": 49,
     "metadata": {},
     "output_type": "execute_result"
    }
   ],
   "source": [
    "round(sqrt(997))"
   ]
  },
  {
   "cell_type": "code",
   "execution_count": 51,
   "metadata": {},
   "outputs": [
    {
     "data": {
      "text/plain": [
       "32"
      ]
     },
     "execution_count": 51,
     "metadata": {},
     "output_type": "execute_result"
    }
   ],
   "source": [
    "round(997**(0.5))"
   ]
  },
  {
   "cell_type": "code",
   "execution_count": 54,
   "metadata": {},
   "outputs": [
    {
     "name": "stdout",
     "output_type": "stream",
     "text": [
      "\n",
      " Enter any number to check prime or not --> 997\n",
      "\n",
      " 997 is prime\n",
      "\n",
      " Total Runs of loop is 30\n"
     ]
    }
   ],
   "source": [
    "num = int(input(\"\\n Enter any number to check prime or not --> \"))\n",
    "i = 2\n",
    "count = 0\n",
    "sqrt_num = sqrt(num)\n",
    "while i<=sqrt_num:\n",
    "    count += 1\n",
    "    if num%i == 0:\n",
    "        print(f\"\\n {num} is not prime\")\n",
    "        break\n",
    "    i += 1\n",
    "else:\n",
    "    print(f\"\\n {num} is prime\")\n",
    "print(f\"\\n Total Runs of loop is {count}\")"
   ]
  },
  {
   "cell_type": "code",
   "execution_count": 55,
   "metadata": {},
   "outputs": [
    {
     "name": "stdout",
     "output_type": "stream",
     "text": [
      "\n",
      " Enter any number to check prime or not --> 9\n",
      "\n",
      " 9 is not prime\n",
      "\n",
      " Enter any number to check prime or not --> 11\n",
      "\n",
      " 11 is prime\n",
      "\n",
      " Enter any number to check prime or not --> 13\n",
      "\n",
      " 13 is prime\n",
      "\n",
      " Enter any number to check prime or not --> 17\n",
      "\n",
      " 17 is prime\n",
      "\n",
      " Enter any number to check prime or not --> 151\n",
      "\n",
      " 151 is prime\n",
      "\n",
      " Enter any number to check prime or not --> 97\n",
      "\n",
      " 97 is prime\n",
      "\n",
      " Enter any number to check prime or not --> 7\n",
      "\n",
      " 7 is prime\n",
      "\n",
      " Enter any number to check prime or not --> 67\n",
      "\n",
      " 67 is prime\n",
      "The slowest run took 6.40 times longer than the fastest. This could mean that an intermediate result is being cached.\n",
      "2.74 s ± 1.47 s per loop (mean ± std. dev. of 7 runs, 1 loop each)\n"
     ]
    }
   ],
   "source": [
    "%%timeit \n",
    "num = int(input(\"\\n Enter any number to check prime or not --> \"))\n",
    "i = 2\n",
    "while i<num:\n",
    "    if num%i == 0:\n",
    "        print(f\"\\n {num} is not prime\")\n",
    "        break\n",
    "    i += 1\n",
    "else:\n",
    "    print(f\"\\n {num} is prime\")"
   ]
  },
  {
   "cell_type": "code",
   "execution_count": 57,
   "metadata": {},
   "outputs": [
    {
     "name": "stdout",
     "output_type": "stream",
     "text": [
      "\n",
      " Enter any number to check prime or not --> 9\n",
      "\n",
      " 9 is not prime\n",
      "\n",
      " Enter any number to check prime or not --> 11\n",
      "\n",
      " 11 is prime\n",
      "\n",
      " Enter any number to check prime or not --> 13\n",
      "\n",
      " 13 is prime\n",
      "\n",
      " Enter any number to check prime or not --> 17\n",
      "\n",
      " 17 is prime\n",
      "\n",
      " Enter any number to check prime or not --> 151\n",
      "\n",
      " 151 is prime\n",
      "\n",
      " Enter any number to check prime or not --> 97\n",
      "\n",
      " 97 is prime\n",
      "\n",
      " Enter any number to check prime or not --> 7\n",
      "\n",
      " 7 is prime\n",
      "\n",
      " Enter any number to check prime or not --> 67\n",
      "\n",
      " 67 is prime\n",
      "The slowest run took 11.71 times longer than the fastest. This could mean that an intermediate result is being cached.\n",
      "1.64 s ± 1.52 s per loop (mean ± std. dev. of 7 runs, 1 loop each)\n"
     ]
    }
   ],
   "source": [
    "%%timeit\n",
    "num = int(input(\"\\n Enter any number to check prime or not --> \"))\n",
    "i = 2\n",
    "sqrt_num = sqrt(num)\n",
    "while i<=sqrt_num:\n",
    "    if num%i == 0:\n",
    "        print(f\"\\n {num} is not prime\")\n",
    "        break\n",
    "    i += 1\n",
    "else:\n",
    "    print(f\"\\n {num} is prime\")"
   ]
  },
  {
   "cell_type": "markdown",
   "metadata": {},
   "source": [
    "    1.64 + 1.52 --> max\n",
    "    1.64 - 1.52 --> min"
   ]
  },
  {
   "cell_type": "markdown",
   "metadata": {},
   "source": [
    "    [[1, 2], [3, 4]]"
   ]
  },
  {
   "cell_type": "code",
   "execution_count": 58,
   "metadata": {
    "scrolled": true
   },
   "outputs": [
    {
     "name": "stdout",
     "output_type": "stream",
     "text": [
      "10\n",
      "12\n",
      "3\n",
      "4\n"
     ]
    }
   ],
   "source": [
    "i = 0\n",
    "l = []\n",
    "while i<2:\n",
    "    l.append([int(input()), int(input())])\n",
    "    i += 1"
   ]
  },
  {
   "cell_type": "code",
   "execution_count": 59,
   "metadata": {},
   "outputs": [
    {
     "data": {
      "text/plain": [
       "[[10, 12], [3, 4]]"
      ]
     },
     "execution_count": 59,
     "metadata": {},
     "output_type": "execute_result"
    }
   ],
   "source": [
    "l"
   ]
  },
  {
   "cell_type": "code",
   "execution_count": 60,
   "metadata": {},
   "outputs": [
    {
     "name": "stdout",
     "output_type": "stream",
     "text": [
      "3\n",
      "4\n",
      "10\n",
      "12\n"
     ]
    }
   ],
   "source": [
    "i=0\n",
    "l=[]\n",
    "while i<2:\n",
    "    j = 0\n",
    "    l1 = []\n",
    "    while j<2:\n",
    "        l1.append(int(input()))\n",
    "        j += 1\n",
    "    l.append(l1)\n",
    "    i += 1\n",
    "\n",
    "# i = 0, l = [], 0<2 --> j=0, l1=[], 0<2, l1=[3], j=1, 1<2, l1=[3, 4], j=3, 3<2(False)\n",
    "# l=[[3, 4]], i=1\n",
    "#1<2 --> j=0, l1=[], 0<2, l1=[10], j=1, 1<2, l1=[10, 12]\n",
    "# l=[[3, 4], [10, 12]], i = 3\n",
    "# 3<2(False)"
   ]
  },
  {
   "cell_type": "code",
   "execution_count": 61,
   "metadata": {},
   "outputs": [
    {
     "data": {
      "text/plain": [
       "[[3, 4], [10, 12]]"
      ]
     },
     "execution_count": 61,
     "metadata": {},
     "output_type": "execute_result"
    }
   ],
   "source": [
    "l"
   ]
  },
  {
   "cell_type": "markdown",
   "metadata": {},
   "source": [
    "    [\n",
    "        [3, 4],\n",
    "        [10, 12]\n",
    "    ]\n",
    "    \n",
    "    This is 2d array or matrix\n",
    "    "
   ]
  },
  {
   "cell_type": "code",
   "execution_count": 64,
   "metadata": {},
   "outputs": [
    {
     "name": "stdout",
     "output_type": "stream",
     "text": [
      "\n",
      " Enter number of rows : 3\n",
      "\n",
      " Enter number of columns : 3\n",
      "\n",
      " Number[0][0] --> 3\n",
      "\n",
      " Number[0][1] --> 4\n",
      "\n",
      " Number[0][2] --> 5\n",
      "________________________________________________________________________________\n",
      "\n",
      " Number[1][0] --> 6\n",
      "\n",
      " Number[1][1] --> 7\n",
      "\n",
      " Number[1][2] --> 8\n",
      "________________________________________________________________________________\n",
      "\n",
      " Number[2][0] --> 10\n",
      "\n",
      " Number[2][1] --> 11\n",
      "\n",
      " Number[2][2] --> 12\n",
      "________________________________________________________________________________\n",
      "[[3, 4, 5], [6, 7, 8], [10, 11, 12]]\n"
     ]
    }
   ],
   "source": [
    "rows = int(input(\"\\n Enter number of rows : \"))\n",
    "cols = int(input(\"\\n Enter number of columns : \"))\n",
    "i=0\n",
    "mat=[]\n",
    "while i<rows:\n",
    "    j = 0\n",
    "    l1 = []\n",
    "    while j<cols:\n",
    "        l1.append(int(input(f\"\\n Number[{i}][{j}] --> \")))\n",
    "        j += 1\n",
    "    mat.append(l1)\n",
    "    print(\"_\"*80)\n",
    "    i += 1\n",
    "print(mat)"
   ]
  },
  {
   "cell_type": "markdown",
   "metadata": {},
   "source": [
    "## Write Addition, Subtraction and Multiplication program for a matrix\n",
    "\n",
    "    mat1 = [[3, 4, 5], [6, 7, 8], [10, 11, 12]]\n",
    "    mat2 = [[2, 1, 15], [6, 7, 8], [9, 10, 11]]\n",
    "    \n",
    "    Add =  [[5, 5, 20], [12, 14, 16], [19, 21, 23]]"
   ]
  },
  {
   "cell_type": "code",
   "execution_count": 65,
   "metadata": {},
   "outputs": [],
   "source": [
    "from pprint import pprint"
   ]
  },
  {
   "cell_type": "code",
   "execution_count": 66,
   "metadata": {},
   "outputs": [
    {
     "data": {
      "text/plain": [
       "[[3, 4, 5], [6, 7, 8], [10, 11, 12]]"
      ]
     },
     "execution_count": 66,
     "metadata": {},
     "output_type": "execute_result"
    }
   ],
   "source": [
    "mat"
   ]
  },
  {
   "cell_type": "code",
   "execution_count": 67,
   "metadata": {},
   "outputs": [
    {
     "name": "stdout",
     "output_type": "stream",
     "text": [
      "[[3, 4, 5], [6, 7, 8], [10, 11, 12]]\n"
     ]
    }
   ],
   "source": [
    "pprint(mat)"
   ]
  },
  {
   "cell_type": "code",
   "execution_count": 68,
   "metadata": {},
   "outputs": [
    {
     "name": "stdout",
     "output_type": "stream",
     "text": [
      "[[3, 4, 5], [6, 7, 8], [10, 11, 12]]\n"
     ]
    }
   ],
   "source": [
    "print(mat)"
   ]
  },
  {
   "cell_type": "code",
   "execution_count": 69,
   "metadata": {},
   "outputs": [],
   "source": [
    "d = {'name': {'fname': 'simran', 'lname': 'grover'}, 'course': {'python': ['basic python', 'advance python'], \n",
    "                                                               'Data Science': ['Numpy', 'Pandas']}}"
   ]
  },
  {
   "cell_type": "code",
   "execution_count": 70,
   "metadata": {},
   "outputs": [
    {
     "data": {
      "text/plain": [
       "{'name': {'fname': 'simran', 'lname': 'grover'},\n",
       " 'course': {'python': ['basic python', 'advance python'],\n",
       "  'Data Science': ['Numpy', 'Pandas']}}"
      ]
     },
     "execution_count": 70,
     "metadata": {},
     "output_type": "execute_result"
    }
   ],
   "source": [
    "d"
   ]
  },
  {
   "cell_type": "code",
   "execution_count": 71,
   "metadata": {},
   "outputs": [
    {
     "name": "stdout",
     "output_type": "stream",
     "text": [
      "{'name': {'fname': 'simran', 'lname': 'grover'}, 'course': {'python': ['basic python', 'advance python'], 'Data Science': ['Numpy', 'Pandas']}}\n"
     ]
    }
   ],
   "source": [
    "print(d)"
   ]
  },
  {
   "cell_type": "code",
   "execution_count": 72,
   "metadata": {},
   "outputs": [
    {
     "name": "stdout",
     "output_type": "stream",
     "text": [
      "{'course': {'Data Science': ['Numpy', 'Pandas'],\n",
      "            'python': ['basic python', 'advance python']},\n",
      " 'name': {'fname': 'simran', 'lname': 'grover'}}\n"
     ]
    }
   ],
   "source": [
    "pprint(d)"
   ]
  },
  {
   "cell_type": "code",
   "execution_count": 73,
   "metadata": {},
   "outputs": [
    {
     "name": "stdout",
     "output_type": "stream",
     "text": [
      "\n",
      " Enter number of coordinates --> 4\n",
      "\n",
      " X --> 1\n",
      "\n",
      " Y --> 1\n",
      "\n",
      " X --> 2\n",
      "\n",
      " Y --> 3\n",
      "\n",
      " X --> 3\n",
      "\n",
      " Y --> 2\n",
      "\n",
      " X --> 6\n",
      "\n",
      " Y --> 5\n"
     ]
    }
   ],
   "source": [
    "cord = []\n",
    "num = int(input(\"\\n Enter number of coordinates --> \"))\n",
    "i = 0\n",
    "while i<num:\n",
    "    cord.append([int(input(\"\\n X --> \")), int(input(\"\\n Y --> \"))])\n",
    "    i += 1\n"
   ]
  },
  {
   "cell_type": "code",
   "execution_count": 74,
   "metadata": {},
   "outputs": [
    {
     "data": {
      "text/plain": [
       "[[1, 1], [2, 3], [3, 2], [6, 5]]"
      ]
     },
     "execution_count": 74,
     "metadata": {},
     "output_type": "execute_result"
    }
   ],
   "source": [
    "cord"
   ]
  },
  {
   "cell_type": "code",
   "execution_count": 75,
   "metadata": {},
   "outputs": [],
   "source": [
    "import matplotlib.pyplot as plt"
   ]
  },
  {
   "cell_type": "code",
   "execution_count": 82,
   "metadata": {},
   "outputs": [
    {
     "data": {
      "text/plain": [
       "[<matplotlib.lines.Line2D at 0x29c11f861f0>,\n",
       " <matplotlib.lines.Line2D at 0x29c11f86220>]"
      ]
     },
     "execution_count": 82,
     "metadata": {},
     "output_type": "execute_result"
    },
    {
     "data": {
      "image/png": "[encoded data removed]",
      "text/plain": [
       "<Figure size 432x288 with 1 Axes>"
      ]
     },
     "metadata": {
      "needs_background": "light"
     },
     "output_type": "display_data"
    }
   ],
   "source": [
    "plt.plot(cord, 'o--')\n",
    "# plt.plot([1, 2, 3, 6]) --> y-axis and x-axis --> index\n",
    "# plt.plot([1, 3, 2, 5])"
   ]
  },
  {
   "cell_type": "code",
   "execution_count": 77,
   "metadata": {},
   "outputs": [
    {
     "data": {
      "text/plain": [
       "[[1, 1], [2, 3], [3, 2], [6, 5]]"
      ]
     },
     "execution_count": 77,
     "metadata": {},
     "output_type": "execute_result"
    }
   ],
   "source": [
    "cord"
   ]
  },
  {
   "cell_type": "code",
   "execution_count": 91,
   "metadata": {},
   "outputs": [
    {
     "name": "stdout",
     "output_type": "stream",
     "text": [
      "[1, 2, 3, 6] [1, 3, 2, 5]\n"
     ]
    },
    {
     "data": {
      "image/png": "[encoded data removed]",
      "text/plain": [
       "<Figure size 1100x500 with 1 Axes>"
      ]
     },
     "metadata": {
      "needs_background": "light"
     },
     "output_type": "display_data"
    }
   ],
   "source": [
    "x_cord = []\n",
    "y_cord = []\n",
    "i = 0\n",
    "while i<len(cord):\n",
    "    x_cord.append(cord[i][0])\n",
    "    y_cord.append(cord[i][1])\n",
    "    i += 1\n",
    "print(x_cord, y_cord)\n",
    "plt.figure(figsize=(11, 5), dpi=100)\n",
    "plt.plot(x_cord, y_cord, 'r*--')\n",
    "plt.grid(linewidth=0.2)\n",
    "plt.show()"
   ]
  },
  {
   "cell_type": "code",
   "execution_count": 92,
   "metadata": {},
   "outputs": [],
   "source": [
    "# turtle --> logo, patterns, for loop"
   ]
  },
  {
   "cell_type": "code",
   "execution_count": null,
   "metadata": {},
   "outputs": [],
   "source": []
  }
 ],
 "metadata": {
  "kernelspec": {
   "display_name": "Python 3",
   "language": "python",
   "name": "python3"
  },
  "language_info": {
   "codemirror_mode": {
    "name": "ipython",
    "version": 3
   },
   "file_extension": ".py",
   "mimetype": "text/x-python",
   "name": "python",
   "nbconvert_exporter": "python",
   "pygments_lexer": "ipython3",
   "version": "3.8.5"
  }
 },
 "nbformat": 4,
 "nbformat_minor": 4
}
