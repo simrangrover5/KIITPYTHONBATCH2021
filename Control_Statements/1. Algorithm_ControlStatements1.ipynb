{
 "cells": [
  {
   "cell_type": "markdown",
   "metadata": {},
   "source": [
    "<h1 style='color:red'>GOOD AFTERNOON EVERYONE</h1>"
   ]
  },
  {
   "cell_type": "code",
   "execution_count": 4,
   "metadata": {},
   "outputs": [
    {
     "name": "stdout",
     "output_type": "stream",
     "text": [
      "1111.0\n"
     ]
    }
   ],
   "source": [
    "x=\"11_11\"\n",
    "\n",
    "print(float(x))"
   ]
  },
  {
   "cell_type": "code",
   "execution_count": 5,
   "metadata": {},
   "outputs": [],
   "source": [
    "#11,000 --> 11000\n",
    "#1,50,000 --> 150000"
   ]
  },
  {
   "cell_type": "markdown",
   "metadata": {},
   "source": [
    "### Precendence\n",
    "\n",
    "    BODMAS --> Bracket, Of, Div, Mul, Add, Sub (Maths)\n",
    "    \n",
    "    ()\n",
    "    ** --> power\n",
    "    *, /, //, %\n",
    "    +, -\n",
    "    <<, >>\n",
    "    & \n",
    "    ^\n",
    "    |\n",
    "    comparison operators, membership operators, identity operators(==, !=, >, >=, <, <=, is, is not, in, not in)\n",
    "    not\n",
    "    and \n",
    "    or"
   ]
  },
  {
   "cell_type": "code",
   "execution_count": 6,
   "metadata": {},
   "outputs": [
    {
     "data": {
      "text/plain": [
       "8"
      ]
     },
     "execution_count": 6,
     "metadata": {},
     "output_type": "execute_result"
    }
   ],
   "source": [
    "2**3"
   ]
  },
  {
   "cell_type": "code",
   "execution_count": 7,
   "metadata": {},
   "outputs": [],
   "source": [
    "s = \"123@abcde\"\n",
    "# output --> edc@\n",
    "# s = \"abcde@1234567\"\n",
    "# before @ --> 5 , 76543@"
   ]
  },
  {
   "cell_type": "code",
   "execution_count": 8,
   "metadata": {},
   "outputs": [
    {
     "name": "stdout",
     "output_type": "stream",
     "text": [
      "123@abcde\n",
      "edc@\n"
     ]
    }
   ],
   "source": [
    "s=input()\n",
    "\n",
    "s1=s.find('@')\n",
    "\n",
    "s2=-1-s1\n",
    "\n",
    "print(s[-1: s2: -1]+'@')"
   ]
  },
  {
   "cell_type": "code",
   "execution_count": 11,
   "metadata": {},
   "outputs": [
    {
     "name": "stdout",
     "output_type": "stream",
     "text": [
      "123@23456\n"
     ]
    },
    {
     "ename": "TypeError",
     "evalue": "unsupported operand type(s) for -: 'int' and 'str'",
     "output_type": "error",
     "traceback": [
      "\u001b[1;31m---------------------------------------------------------------------------\u001b[0m",
      "\u001b[1;31mTypeError\u001b[0m                                 Traceback (most recent call last)",
      "\u001b[1;32m<ipython-input-11-3068bf8146d9>\u001b[0m in \u001b[0;36m<module>\u001b[1;34m\u001b[0m\n\u001b[0;32m      3\u001b[0m \u001b[0ml\u001b[0m\u001b[1;33m=\u001b[0m\u001b[0mlen\u001b[0m\u001b[1;33m(\u001b[0m\u001b[0ms\u001b[0m\u001b[1;33m)\u001b[0m\u001b[1;33m\u001b[0m\u001b[1;33m\u001b[0m\u001b[0m\n\u001b[0;32m      4\u001b[0m \u001b[1;33m\u001b[0m\u001b[0m\n\u001b[1;32m----> 5\u001b[1;33m \u001b[0mprint\u001b[0m\u001b[1;33m(\u001b[0m\u001b[0mn\u001b[0m\u001b[1;33m[\u001b[0m\u001b[0ml\u001b[0m\u001b[1;33m-\u001b[0m\u001b[1;36m1\u001b[0m\u001b[1;33m-\u001b[0m\u001b[0mn\u001b[0m\u001b[1;33m:\u001b[0m\u001b[0ml\u001b[0m\u001b[1;33m-\u001b[0m\u001b[1;36m1\u001b[0m\u001b[1;33m]\u001b[0m\u001b[1;33m+\u001b[0m\u001b[1;34m\"@\"\u001b[0m\u001b[1;33m)\u001b[0m\u001b[1;33m\u001b[0m\u001b[1;33m\u001b[0m\u001b[0m\n\u001b[0m",
      "\u001b[1;31mTypeError\u001b[0m: unsupported operand type(s) for -: 'int' and 'str'"
     ]
    }
   ],
   "source": [
    "n=input()\n",
    "\n",
    "l=len(s)\n",
    "\n",
    "print(n[l-1:l-1]+\"@\")"
   ]
  },
  {
   "cell_type": "code",
   "execution_count": 13,
   "metadata": {},
   "outputs": [
    {
     "data": {
      "text/plain": [
       "'123@abcde'"
      ]
     },
     "execution_count": 13,
     "metadata": {},
     "output_type": "execute_result"
    }
   ],
   "source": [
    "s"
   ]
  },
  {
   "cell_type": "code",
   "execution_count": 16,
   "metadata": {},
   "outputs": [
    {
     "data": {
      "text/plain": [
       "'edc@'"
      ]
     },
     "execution_count": 16,
     "metadata": {},
     "output_type": "execute_result"
    }
   ],
   "source": [
    "index = 4\n",
    "s[-1:-index:-1] + '@'"
   ]
  },
  {
   "cell_type": "code",
   "execution_count": 17,
   "metadata": {},
   "outputs": [
    {
     "data": {
      "text/plain": [
       "3"
      ]
     },
     "execution_count": 17,
     "metadata": {},
     "output_type": "execute_result"
    }
   ],
   "source": [
    "s.find(\"@\")"
   ]
  },
  {
   "cell_type": "code",
   "execution_count": 18,
   "metadata": {},
   "outputs": [
    {
     "data": {
      "text/plain": [
       "3"
      ]
     },
     "execution_count": 18,
     "metadata": {},
     "output_type": "execute_result"
    }
   ],
   "source": [
    "s.index(\"@\")"
   ]
  },
  {
   "cell_type": "code",
   "execution_count": 19,
   "metadata": {},
   "outputs": [
    {
     "data": {
      "text/plain": [
       "'123@abcde'"
      ]
     },
     "execution_count": 19,
     "metadata": {},
     "output_type": "execute_result"
    }
   ],
   "source": [
    "s"
   ]
  },
  {
   "cell_type": "code",
   "execution_count": 20,
   "metadata": {},
   "outputs": [
    {
     "ename": "ValueError",
     "evalue": "substring not found",
     "output_type": "error",
     "traceback": [
      "\u001b[1;31m---------------------------------------------------------------------------\u001b[0m",
      "\u001b[1;31mValueError\u001b[0m                                Traceback (most recent call last)",
      "\u001b[1;32m<ipython-input-20-a057c2ed6c9d>\u001b[0m in \u001b[0;36m<module>\u001b[1;34m\u001b[0m\n\u001b[1;32m----> 1\u001b[1;33m \u001b[0ms\u001b[0m\u001b[1;33m.\u001b[0m\u001b[0mindex\u001b[0m\u001b[1;33m(\u001b[0m\u001b[1;34m\"f\"\u001b[0m\u001b[1;33m)\u001b[0m\u001b[1;33m\u001b[0m\u001b[1;33m\u001b[0m\u001b[0m\n\u001b[0m",
      "\u001b[1;31mValueError\u001b[0m: substring not found"
     ]
    }
   ],
   "source": [
    "s.index(\"f\")"
   ]
  },
  {
   "cell_type": "code",
   "execution_count": 21,
   "metadata": {},
   "outputs": [
    {
     "data": {
      "text/plain": [
       "-1"
      ]
     },
     "execution_count": 21,
     "metadata": {},
     "output_type": "execute_result"
    }
   ],
   "source": [
    "s.find(\"f\")"
   ]
  },
  {
   "cell_type": "code",
   "execution_count": 24,
   "metadata": {},
   "outputs": [
    {
     "name": "stdout",
     "output_type": "stream",
     "text": [
      "12345@abcdefg\n",
      "gfedc@\n"
     ]
    }
   ],
   "source": [
    "s = input()\n",
    "# output --> edc@\n",
    "# s = \"abcde@1234567\"\n",
    "# before @ --> 5 , 76543@\n",
    "# solution\n",
    "index = s.index(\"@\")\n",
    "print(s[-1:-index-1:-1] + \"@\")"
   ]
  },
  {
   "cell_type": "code",
   "execution_count": 25,
   "metadata": {},
   "outputs": [],
   "source": [
    "l = [1, 2, 3, 4, 5, 6]\n",
    "# you need to perform right circular shift in this list\n",
    "# l = [6, 1, 2, 3, 4, 5] output after right circular shift\n",
    "l.insert(0, l.pop())"
   ]
  },
  {
   "cell_type": "code",
   "execution_count": 26,
   "metadata": {},
   "outputs": [
    {
     "data": {
      "text/plain": [
       "[6, 1, 2, 3, 4, 5]"
      ]
     },
     "execution_count": 26,
     "metadata": {},
     "output_type": "execute_result"
    }
   ],
   "source": [
    "l"
   ]
  },
  {
   "cell_type": "code",
   "execution_count": 27,
   "metadata": {},
   "outputs": [
    {
     "name": "stdout",
     "output_type": "stream",
     "text": [
      "\n",
      " List before circular shift is :  [1, 2, 3, 4, 5, 6]\n",
      "\n",
      " List after circular shift is :  [6, 1, 2, 3, 4, 5]\n"
     ]
    }
   ],
   "source": [
    "original = [1, 2, 3, 4, 5, 6]\n",
    "print(\"\\n List before circular shift is : \", original)\n",
    "original.insert(0, original.pop())\n",
    "print(\"\\n List after circular shift is : \", original)"
   ]
  },
  {
   "cell_type": "code",
   "execution_count": 35,
   "metadata": {},
   "outputs": [
    {
     "data": {
      "text/plain": [
       "[5]"
      ]
     },
     "execution_count": 35,
     "metadata": {},
     "output_type": "execute_result"
    }
   ],
   "source": [
    "original[-1:]"
   ]
  },
  {
   "cell_type": "code",
   "execution_count": 36,
   "metadata": {
    "scrolled": true
   },
   "outputs": [
    {
     "name": "stdout",
     "output_type": "stream",
     "text": [
      "[6, 1, 2, 3, 4, 5]\n"
     ]
    },
    {
     "data": {
      "text/plain": [
       "[5, 6, 1, 2, 3, 4]"
      ]
     },
     "execution_count": 36,
     "metadata": {},
     "output_type": "execute_result"
    }
   ],
   "source": [
    "print(original)\n",
    "# [5, 6, 1, 2, 3, 4]\n",
    "original[-1:] + original[:-1]\n",
    "# [5] + [6, 1, 2, 3, 4]"
   ]
  },
  {
   "cell_type": "code",
   "execution_count": 37,
   "metadata": {},
   "outputs": [
    {
     "name": "stdout",
     "output_type": "stream",
     "text": [
      "\n",
      " LIST BEFORE RIGHT CIRCULAR SHIFT :  [6, 1, 2, 3, 4, 5]\n",
      "\n",
      " RIGHT CIRCULAR SHIFT :  [5, 6, 1, 2, 3, 4]\n",
      "\n",
      " LIST AFTER RIGHT CIRCULAR SHIFT :  [6, 1, 2, 3, 4, 5]\n"
     ]
    }
   ],
   "source": [
    "print(\"\\n LIST BEFORE RIGHT CIRCULAR SHIFT : \", original)\n",
    "# [5, 6, 1, 2, 3, 4]\n",
    "print(\"\\n RIGHT CIRCULAR SHIFT : \", original[-1:] + original[:-1])\n",
    "# [5] + [6, 1, 2, 3, 4]\n",
    "print(\"\\n LIST AFTER RIGHT CIRCULAR SHIFT : \", original)"
   ]
  },
  {
   "cell_type": "markdown",
   "metadata": {},
   "source": [
    "##### Perform left circular shift with the number of places given as input\n",
    "    ori = ['hi', 'hey', 'hello', 'heya', 'welcome', 'good morning']\n",
    "    n = int(input(\"Enter number of shifts to be performed : \"))  \n",
    "    # suppose --> n = 2\n",
    "    # ['hey', 'hello', 'heya', 'welcome', 'good morning', 'hi'] after doing first shift\n",
    "    # ['hello', 'heya', 'welcome', 'good morning', 'hi', 'hey'] after second shift (final output)"
   ]
  },
  {
   "cell_type": "markdown",
   "metadata": {},
   "source": [
    "#### Another ques on dictionary\n",
    "\n",
    "    data = {\n",
    "            \"Id\" : [1001, 1002, 1003, 1004],\n",
    "            \"name\" : ['simran', 'sachin', 'ravi', 'nidhi'],\n",
    "            \"maths\": [60, 70, 50, 80],\n",
    "            \"english\": [70, 60, 80, 70],\n",
    "            \"science\": [60, 70, 50, 40],\n",
    "           }\n",
    "           \n",
    "    1. Take input of the id\n",
    "    2. calculate the percentage of the id given as input\n",
    "    3. Print all the details of the id given as input\n",
    "    \n",
    "        details like --> id, name, maths, eng, sci, per\n",
    "        \n",
    "        "
   ]
  },
  {
   "cell_type": "markdown",
   "metadata": {},
   "source": [
    "### Algorithms\n",
    "\n",
    "    Set of steps used to solve some problem \n",
    "    \n",
    "    Algorithm to find whether a number if even or odd\n",
    "    \n",
    "    1. Take the input and store it into n\n",
    "    2. if n%2==0 show \n",
    "        then show the number if even\n",
    "    3. else show the number is odd\n",
    "    \n",
    "    \n",
    "    Pseudocode\n",
    "    \n",
    "    read n\n",
    "    rem = n%2\n",
    "    if rem%2==0\n",
    "        WRITE \"NUMBER is EVEN\"\n",
    "    else\n",
    "        WRITE \"NUMBER is ODD\"\n",
    "    endif"
   ]
  },
  {
   "cell_type": "markdown",
   "metadata": {},
   "source": [
    "    Algorithm to find whether a number is positive or negative\n",
    "\n",
    "    1. Take the input and store it into n\n",
    "    2. if n>0 \n",
    "        then show std output the number is positive\n",
    "    3. if n==0\n",
    "        then show std output the number is zero\n",
    "    4. else show std output the number is negative\n",
    "\n",
    "\n",
    "    Pseudocode\n",
    "\n",
    "    read n\n",
    "    if n>0\n",
    "        WRITE \"NUMBER is POSITIVE\"\n",
    "    elif n==0\n",
    "        WRITE \"NUMBER is ZERO\"\n",
    "    else\n",
    "        WRITE \"NUMBER is NEGATIVE\"\n",
    "    endif"
   ]
  },
  {
   "cell_type": "markdown",
   "metadata": {},
   "source": [
    "##### Data Flow Diagram \n",
    "    \n",
    "    \n",
    "    oval --> start and stop\n",
    "    condition --> diamond\n",
    "    rhombus --> input/output\n",
    "    rectangle --> processing\n",
    "    -> <- etc arrows --> flow"
   ]
  },
  {
   "cell_type": "markdown",
   "metadata": {},
   "source": [
    "#### Control Statements\n",
    "\n",
    "    What is control statements ?\n",
    "    \n",
    "    Default the statements execute in sequential way\n",
    "    \n",
    "        s1\n",
    "        s2\n",
    "        s3\n",
    "        s4\n",
    "        etc \n",
    "        \n",
    "        boy --> left, girls --> right\n",
    "        \n",
    "        1. turn left\n",
    "        2. sit down\n",
    "        3. turn right\n",
    "        4. sit down\n",
    "    \n",
    "        We need to control these 4 statements according to our condition\n",
    "        \n",
    "            if boy\n",
    "                1. turn left\n",
    "                2. sit down\n",
    "            else\n",
    "                3. turn right\n",
    "                4. sit down\n",
    "                \n",
    "         To run these statements we need to use loops\n",
    "         \n",
    "              i = 0\n",
    "              while i<100\n",
    "                  if boy\n",
    "                    1. turn left\n",
    "                    2. sit down\n",
    "                else\n",
    "                    3. turn right\n",
    "                    4. sit down\n",
    "                i += 1"
   ]
  },
  {
   "cell_type": "code",
   "execution_count": 38,
   "metadata": {},
   "outputs": [],
   "source": [
    "# 7 days --> 1 to 5, if 6 --> break"
   ]
  },
  {
   "cell_type": "markdown",
   "metadata": {},
   "source": [
    "    if True{\n",
    "        s1;\n",
    "        s2;\n",
    "    }\n",
    "    \n",
    "    {} --> Defines a block \n",
    "        The statements in these block executes if the condition evaluates to True\n",
    "        \n",
    "    In python block is represented by : --> indent\n",
    "    "
   ]
  },
  {
   "cell_type": "code",
   "execution_count": 39,
   "metadata": {},
   "outputs": [
    {
     "name": "stdout",
     "output_type": "stream",
     "text": [
      "hello world\n",
      "welcome\n"
     ]
    }
   ],
   "source": [
    "if True:\n",
    "    print('hello world')\n",
    "    print(\"welcome\")"
   ]
  },
  {
   "cell_type": "code",
   "execution_count": 41,
   "metadata": {},
   "outputs": [
    {
     "name": "stdout",
     "output_type": "stream",
     "text": [
      "This is my world of python\n"
     ]
    }
   ],
   "source": [
    "if False:\n",
    "    print('hello world')\n",
    "    print(\"welcome\")\n",
    "print(\"This is my world of python\")"
   ]
  },
  {
   "cell_type": "code",
   "execution_count": 42,
   "metadata": {},
   "outputs": [
    {
     "name": "stdout",
     "output_type": "stream",
     "text": [
      "hello world\n",
      "welcome\n",
      "This is my world of python\n"
     ]
    }
   ],
   "source": [
    "if True:\n",
    "    print('hello world')\n",
    "    print(\"welcome\")\n",
    "print(\"This is my world of python\")"
   ]
  },
  {
   "cell_type": "markdown",
   "metadata": {},
   "source": [
    "    indent give space equal to one tab\n",
    "    \n",
    "    1 tab = 4 spaces"
   ]
  },
  {
   "cell_type": "code",
   "execution_count": 43,
   "metadata": {},
   "outputs": [
    {
     "name": "stdout",
     "output_type": "stream",
     "text": [
      "FIRST BLOCK\n",
      "SECOND BLOCK\n",
      "OUT OF SECOND BLOCK\n",
      "OUT\n"
     ]
    }
   ],
   "source": [
    "if True:\n",
    "    print(\"FIRST BLOCK\")\n",
    "    if True:\n",
    "        print(\"SECOND BLOCK\")\n",
    "    print(\"OUT OF SECOND BLOCK\")\n",
    "print(\"OUT\")"
   ]
  },
  {
   "cell_type": "code",
   "execution_count": null,
   "metadata": {},
   "outputs": [],
   "source": []
  }
 ],
 "metadata": {
  "kernelspec": {
   "display_name": "Python 3",
   "language": "python",
   "name": "python3"
  },
  "language_info": {
   "codemirror_mode": {
    "name": "ipython",
    "version": 3
   },
   "file_extension": ".py",
   "mimetype": "text/x-python",
   "name": "python",
   "nbconvert_exporter": "python",
   "pygments_lexer": "ipython3",
   "version": "3.8.5"
  }
 },
 "nbformat": 4,
 "nbformat_minor": 4
}
