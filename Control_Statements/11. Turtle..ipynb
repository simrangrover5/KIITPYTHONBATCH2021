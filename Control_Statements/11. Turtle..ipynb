{
 "cells": [
  {
   "cell_type": "markdown",
   "metadata": {},
   "source": [
    "    1                        1**2\n",
    "    121                     11**2\n",
    "    12321                  111**2\n",
    "    1234321               1111**2\n",
    "    123454321            11111**2"
   ]
  },
  {
   "cell_type": "code",
   "execution_count": 2,
   "metadata": {},
   "outputs": [
    {
     "data": {
      "text/plain": [
       "12321"
      ]
     },
     "execution_count": 2,
     "metadata": {},
     "output_type": "execute_result"
    }
   ],
   "source": [
    "111**2"
   ]
  },
  {
   "cell_type": "code",
   "execution_count": 3,
   "metadata": {},
   "outputs": [
    {
     "data": {
      "text/plain": [
       "1234321"
      ]
     },
     "execution_count": 3,
     "metadata": {},
     "output_type": "execute_result"
    }
   ],
   "source": [
    "1111**2"
   ]
  },
  {
   "cell_type": "code",
   "execution_count": 4,
   "metadata": {},
   "outputs": [
    {
     "data": {
      "text/plain": [
       "123454321"
      ]
     },
     "execution_count": 4,
     "metadata": {},
     "output_type": "execute_result"
    }
   ],
   "source": [
    "11111**2"
   ]
  },
  {
   "cell_type": "code",
   "execution_count": 5,
   "metadata": {},
   "outputs": [
    {
     "name": "stdout",
     "output_type": "stream",
     "text": [
      "\n",
      " Enter number of rows : 5\n",
      "1\n",
      "121\n",
      "12321\n",
      "1234321\n",
      "123454321\n"
     ]
    }
   ],
   "source": [
    "n = int(input(\"\\n Enter number of rows : \"))\n",
    "for i in range(1, n+1):  # range(1, 6)\n",
    "    print(int(\"1\"*i)**2)"
   ]
  },
  {
   "cell_type": "code",
   "execution_count": 6,
   "metadata": {},
   "outputs": [
    {
     "data": {
      "text/plain": [
       "1"
      ]
     },
     "execution_count": 6,
     "metadata": {},
     "output_type": "execute_result"
    }
   ],
   "source": [
    "(10**1)//9"
   ]
  },
  {
   "cell_type": "code",
   "execution_count": 8,
   "metadata": {},
   "outputs": [
    {
     "data": {
      "text/plain": [
       "11"
      ]
     },
     "execution_count": 8,
     "metadata": {},
     "output_type": "execute_result"
    }
   ],
   "source": [
    "(10**2)//9"
   ]
  },
  {
   "cell_type": "code",
   "execution_count": 10,
   "metadata": {},
   "outputs": [
    {
     "data": {
      "text/plain": [
       "111"
      ]
     },
     "execution_count": 10,
     "metadata": {},
     "output_type": "execute_result"
    }
   ],
   "source": [
    "(10**3)//9"
   ]
  },
  {
   "cell_type": "code",
   "execution_count": 11,
   "metadata": {},
   "outputs": [
    {
     "data": {
      "text/plain": [
       "1111"
      ]
     },
     "execution_count": 11,
     "metadata": {},
     "output_type": "execute_result"
    }
   ],
   "source": [
    "(10**4)//9"
   ]
  },
  {
   "cell_type": "code",
   "execution_count": 12,
   "metadata": {},
   "outputs": [
    {
     "name": "stdout",
     "output_type": "stream",
     "text": [
      "\n",
      " Enter number of rows : 6\n",
      "1\n",
      "121\n",
      "12321\n",
      "1234321\n",
      "123454321\n",
      "12345654321\n"
     ]
    }
   ],
   "source": [
    "n = int(input(\"\\n Enter number of rows : \"))\n",
    "for i in range(1, n+1):  # range(1, 6)\n",
    "    print(((10**i)//9)**2)"
   ]
  },
  {
   "cell_type": "code",
   "execution_count": 13,
   "metadata": {},
   "outputs": [
    {
     "name": "stdout",
     "output_type": "stream",
     "text": [
      "Writing t2.py\n"
     ]
    }
   ],
   "source": [
    "%%writefile t2.py\n",
    "\n",
    "import turtle \n",
    "\n",
    "pen = turtle.Pen()\n",
    "pen.speed(0)\n",
    "\n",
    "for i in range(300):\n",
    "    pen.forward(400)\n",
    "    pen.left(225)\n",
    "    \n",
    "turtle.exitonclick()"
   ]
  },
  {
   "cell_type": "code",
   "execution_count": 14,
   "metadata": {},
   "outputs": [
    {
     "name": "stdout",
     "output_type": "stream",
     "text": [
      "Overwriting t2.py\n"
     ]
    }
   ],
   "source": [
    "%%writefile t2.py\n",
    "\n",
    "import turtle \n",
    "\n",
    "pen = turtle.Pen()\n",
    "pen.speed(0)\n",
    "\n",
    "for i in range(300):\n",
    "    pen.forward(i)\n",
    "    pen.left(225)\n",
    "    \n",
    "turtle.exitonclick()"
   ]
  },
  {
   "cell_type": "code",
   "execution_count": 17,
   "metadata": {},
   "outputs": [
    {
     "name": "stdout",
     "output_type": "stream",
     "text": [
      "Overwriting t2.py\n"
     ]
    }
   ],
   "source": [
    "%%writefile t2.py\n",
    "\n",
    "import turtle \n",
    "from random import choice\n",
    "\n",
    "turtle.bgcolor('black')\n",
    "color = ['coral', 'red', 'white', 'blue', '#123456', '#abcdef']\n",
    "pen = turtle.Pen()\n",
    "pen.speed(0)\n",
    "\n",
    "for i in range(300):\n",
    "    pen.pencolor(choice(color))\n",
    "    pen.forward(i)\n",
    "    pen.left(225)\n",
    "    \n",
    "turtle.exitonclick()"
   ]
  },
  {
   "cell_type": "code",
   "execution_count": 18,
   "metadata": {},
   "outputs": [
    {
     "name": "stdout",
     "output_type": "stream",
     "text": [
      "Overwriting t2.py\n"
     ]
    }
   ],
   "source": [
    "%%writefile t2.py\n",
    "\n",
    "import turtle \n",
    "from random import choice\n",
    "\n",
    "turtle.bgcolor('black')\n",
    "color = ['coral', 'red', 'white', 'blue', '#123456', '#abcdef']\n",
    "pen = turtle.Pen()\n",
    "pen.speed(0)\n",
    "\n",
    "for i in range(300):\n",
    "    pen.pencolor(choice(color))\n",
    "    pen.forward(i)\n",
    "    pen.left(301)\n",
    "    \n",
    "turtle.exitonclick()"
   ]
  },
  {
   "cell_type": "code",
   "execution_count": 19,
   "metadata": {},
   "outputs": [
    {
     "name": "stdout",
     "output_type": "stream",
     "text": [
      "Overwriting t2.py\n"
     ]
    }
   ],
   "source": [
    "%%writefile t2.py\n",
    "\n",
    "import turtle \n",
    "from random import choice\n",
    "\n",
    "turtle.bgcolor('black')\n",
    "color = ['coral', 'red', 'white', 'blue', '#123456', '#abcdef']\n",
    "pen = turtle.Pen()\n",
    "pen.speed(0)\n",
    "\n",
    "for i in range(300):\n",
    "    pen.pencolor(choice(color))\n",
    "    pen.forward(i)\n",
    "    pen.left(201)\n",
    "    \n",
    "turtle.exitonclick()"
   ]
  },
  {
   "cell_type": "code",
   "execution_count": null,
   "metadata": {},
   "outputs": [],
   "source": []
  }
 ],
 "metadata": {
  "kernelspec": {
   "display_name": "Python 3",
   "language": "python",
   "name": "python3"
  },
  "language_info": {
   "codemirror_mode": {
    "name": "ipython",
    "version": 3
   },
   "file_extension": ".py",
   "mimetype": "text/x-python",
   "name": "python",
   "nbconvert_exporter": "python",
   "pygments_lexer": "ipython3",
   "version": "3.8.5"
  }
 },
 "nbformat": 4,
 "nbformat_minor": 4
}
