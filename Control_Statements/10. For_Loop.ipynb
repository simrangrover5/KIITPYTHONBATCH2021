{
 "cells": [
  {
   "cell_type": "markdown",
   "metadata": {},
   "source": [
    "#### Program to find LCM"
   ]
  },
  {
   "cell_type": "markdown",
   "metadata": {},
   "source": [
    "    5, 10\n",
    "    10, 12"
   ]
  },
  {
   "cell_type": "code",
   "execution_count": 3,
   "metadata": {},
   "outputs": [
    {
     "name": "stdout",
     "output_type": "stream",
     "text": [
      "1 2 3 4\n"
     ]
    },
    {
     "data": {
      "text/plain": [
       "[1, 2, 3, 4]"
      ]
     },
     "execution_count": 3,
     "metadata": {},
     "output_type": "execute_result"
    }
   ],
   "source": [
    "[int(i) for i in input().split()]"
   ]
  },
  {
   "cell_type": "code",
   "execution_count": 4,
   "metadata": {},
   "outputs": [
    {
     "name": "stdout",
     "output_type": "stream",
     "text": [
      "\n",
      " Enter elements space separated : 1 2 3 4 5\n"
     ]
    }
   ],
   "source": [
    "ele = [int(i) for i in input(\"\\n Enter elements space separated : \").split()]"
   ]
  },
  {
   "cell_type": "code",
   "execution_count": 5,
   "metadata": {},
   "outputs": [
    {
     "data": {
      "text/plain": [
       "[1, 2, 3, 4, 5]"
      ]
     },
     "execution_count": 5,
     "metadata": {},
     "output_type": "execute_result"
    }
   ],
   "source": [
    "ele"
   ]
  },
  {
   "cell_type": "code",
   "execution_count": 8,
   "metadata": {},
   "outputs": [
    {
     "name": "stdout",
     "output_type": "stream",
     "text": [
      "\n",
      " Enter elements space separated : 5 10 20\n",
      "\n",
      " LCM of these elements is : 20\n"
     ]
    }
   ],
   "source": [
    "ele = [int(i) for i in input(\"\\n Enter elements space separated : \").split()]\n",
    "maxi = max(ele)\n",
    "while True:\n",
    "    s = 0\n",
    "    for i in ele:\n",
    "        if maxi % i == 0:\n",
    "            s += 1\n",
    "    if s == len(ele):\n",
    "        print(f\"\\n LCM of these elements is : {maxi}\")\n",
    "        break\n",
    "    maxi += 1"
   ]
  },
  {
   "cell_type": "markdown",
   "metadata": {},
   "source": [
    "##### Try to make matrix using list comprehension"
   ]
  },
  {
   "cell_type": "code",
   "execution_count": 10,
   "metadata": {},
   "outputs": [
    {
     "name": "stdout",
     "output_type": "stream",
     "text": [
      "Row : 2\n",
      "Col : 3\n",
      "\n",
      " Enter Value [0][0] --> 1\n",
      "\n",
      " Enter Value [0][1] --> 2\n",
      "\n",
      " Enter Value [0][2] --> 3\n",
      "\n",
      " Enter Value [1][0] --> 4\n",
      "\n",
      " Enter Value [1][1] --> 5\n",
      "\n",
      " Enter Value [1][2] --> 6\n",
      "[[1, 2, 3], [4, 5, 6]]\n"
     ]
    }
   ],
   "source": [
    "mat = []\n",
    "n, m = int(input(\"Row : \")), int(input(\"Col : \"))\n",
    "for i in range(n):\n",
    "    l = []\n",
    "    for j in range(m):\n",
    "        l.append(int(input(f\"\\n Enter Value [{i}][{j}] --> \")))\n",
    "    mat.append(l)\n",
    "print(mat)"
   ]
  },
  {
   "cell_type": "code",
   "execution_count": 11,
   "metadata": {},
   "outputs": [
    {
     "data": {
      "text/plain": [
       "[[1, 2], [1, 2]]"
      ]
     },
     "execution_count": 11,
     "metadata": {},
     "output_type": "execute_result"
    }
   ],
   "source": [
    "[[1, 2] for i in range(2)]"
   ]
  },
  {
   "cell_type": "code",
   "execution_count": 13,
   "metadata": {},
   "outputs": [
    {
     "name": "stdout",
     "output_type": "stream",
     "text": [
      "1\n",
      "2\n",
      "3\n",
      "4\n"
     ]
    },
    {
     "data": {
      "text/plain": [
       "[['1', '2'], ['3', '4']]"
      ]
     },
     "execution_count": 13,
     "metadata": {},
     "output_type": "execute_result"
    }
   ],
   "source": [
    "[[input(), input()] for i in range(2)]"
   ]
  },
  {
   "cell_type": "code",
   "execution_count": 12,
   "metadata": {},
   "outputs": [
    {
     "data": {
      "text/plain": [
       "[0, 1]"
      ]
     },
     "execution_count": 12,
     "metadata": {},
     "output_type": "execute_result"
    }
   ],
   "source": [
    "[i for i in range(2)]"
   ]
  },
  {
   "cell_type": "code",
   "execution_count": 14,
   "metadata": {},
   "outputs": [
    {
     "name": "stdout",
     "output_type": "stream",
     "text": [
      "Row : 2\n",
      "Col : 2\n",
      "\n",
      " Enter Value [0][0]1\n",
      "\n",
      " Enter Value [0][1]2\n",
      "\n",
      " Enter Value [1][0]1\n",
      "\n",
      " Enter Value [1][1]3\n"
     ]
    },
    {
     "data": {
      "text/plain": [
       "[[1, 2], [1, 3]]"
      ]
     },
     "execution_count": 14,
     "metadata": {},
     "output_type": "execute_result"
    }
   ],
   "source": [
    "n, m = int(input(\"Row : \")), int(input(\"Col : \"))\n",
    "[[eval(input(f\"\\n Enter Value [{row}][{col}]\")) for col in range(m)] for row in range(n)]\n",
    "# n = 2, m = 2"
   ]
  },
  {
   "cell_type": "code",
   "execution_count": 16,
   "metadata": {},
   "outputs": [
    {
     "data": {
      "text/plain": [
       "'0b1101111'"
      ]
     },
     "execution_count": 16,
     "metadata": {},
     "output_type": "execute_result"
    }
   ],
   "source": [
    "bin(111)"
   ]
  },
  {
   "cell_type": "code",
   "execution_count": 17,
   "metadata": {},
   "outputs": [
    {
     "data": {
      "text/plain": [
       "2"
      ]
     },
     "execution_count": 17,
     "metadata": {},
     "output_type": "execute_result"
    }
   ],
   "source": [
    "7//3"
   ]
  },
  {
   "cell_type": "markdown",
   "metadata": {},
   "source": [
    "    1\n",
    "    121\n",
    "    12321\n",
    "    1234321\n",
    "    123454321\n",
    "    \n",
    "    for i in range(n):\n",
    "        'single line of code to print above pattern'\n"
   ]
  },
  {
   "cell_type": "markdown",
   "metadata": {},
   "source": [
    "#### Variable Conversion\n",
    "     input --> var --> a_in_path --> aInPath\n",
    "                      aInPath --> a_in_path"
   ]
  },
  {
   "cell_type": "code",
   "execution_count": 26,
   "metadata": {},
   "outputs": [
    {
     "name": "stdout",
     "output_type": "stream",
     "text": [
      "\n",
      " Enter varible name --> aInPath\n",
      "a_in_path\n"
     ]
    }
   ],
   "source": [
    "var = input(\"\\n Enter varible name --> \")\n",
    "if \"_\" in var:\n",
    "    l = var.split(\"_\")\n",
    "    result = l[0]\n",
    "    for i in l[1:]:\n",
    "        result += i[0].upper() + i[1:]\n",
    "else:\n",
    "    result = \"\"\n",
    "    for i in var:\n",
    "        if not i.isupper():\n",
    "            result += i\n",
    "        elif i.isupper():\n",
    "            result += \"_\" + i.lower()\n",
    "print(result)"
   ]
  },
  {
   "cell_type": "markdown",
   "metadata": {},
   "source": [
    "#### Turtle"
   ]
  },
  {
   "cell_type": "code",
   "execution_count": 27,
   "metadata": {},
   "outputs": [],
   "source": [
    "import turtle\n",
    "\n",
    "pen = turtle.Pen()"
   ]
  },
  {
   "cell_type": "code",
   "execution_count": 2,
   "metadata": {},
   "outputs": [
    {
     "name": "stdout",
     "output_type": "stream",
     "text": [
      "Overwriting t1.py\n"
     ]
    }
   ],
   "source": [
    "%%writefile t1.py\n",
    "\n",
    "import turtle\n",
    "\n",
    "pen = turtle.Pen()\n",
    "\n",
    "pen.forward(100)\n",
    "pen.backward(200)\n",
    "\n"
   ]
  },
  {
   "cell_type": "code",
   "execution_count": 3,
   "metadata": {},
   "outputs": [
    {
     "name": "stdout",
     "output_type": "stream",
     "text": [
      "Overwriting t1.py\n"
     ]
    }
   ],
   "source": [
    "%%writefile t1.py\n",
    "\n",
    "import turtle\n",
    "\n",
    "pen = turtle.Pen()\n",
    "\n",
    "pen.forward(100)\n",
    "pen.backward(200)\n",
    "\n",
    "turtle.exitonclick()"
   ]
  },
  {
   "cell_type": "code",
   "execution_count": 4,
   "metadata": {},
   "outputs": [
    {
     "name": "stdout",
     "output_type": "stream",
     "text": [
      "Overwriting t1.py\n"
     ]
    }
   ],
   "source": [
    "%%writefile t1.py\n",
    "\n",
    "import turtle\n",
    "\n",
    "pen = turtle.Pen()\n",
    "\n",
    "pen.forward(100)\n",
    "pen.backward(200)\n",
    "pen.upward(100)  # not work\n",
    "\n",
    "turtle.exitonclick()"
   ]
  },
  {
   "cell_type": "code",
   "execution_count": 5,
   "metadata": {},
   "outputs": [
    {
     "name": "stdout",
     "output_type": "stream",
     "text": [
      "Overwriting t1.py\n"
     ]
    }
   ],
   "source": [
    "%%writefile t1.py\n",
    "\n",
    "import turtle\n",
    "\n",
    "pen = turtle.Pen()\n",
    "\n",
    "pen.forward(100)\n",
    "pen.left(45)\n",
    "pen.forward(100)\n",
    "#pen.left()\n",
    "\n",
    "turtle.exitonclick()"
   ]
  },
  {
   "cell_type": "code",
   "execution_count": 6,
   "metadata": {},
   "outputs": [
    {
     "name": "stdout",
     "output_type": "stream",
     "text": [
      "Overwriting t1.py\n"
     ]
    }
   ],
   "source": [
    "%%writefile t1.py\n",
    "\n",
    "import turtle\n",
    "\n",
    "pen = turtle.Pen()\n",
    "\n",
    "pen.forward(100)\n",
    "pen.right(45)\n",
    "pen.forward(100)\n",
    "#pen.left()\n",
    "\n",
    "turtle.exitonclick()"
   ]
  },
  {
   "cell_type": "code",
   "execution_count": 8,
   "metadata": {},
   "outputs": [
    {
     "name": "stdout",
     "output_type": "stream",
     "text": [
      "Overwriting t1.py\n"
     ]
    }
   ],
   "source": [
    "%%writefile t1.py\n",
    "\n",
    "import turtle\n",
    "\n",
    "pen = turtle.Pen()\n",
    "pen.pencolor(\"red\")\n",
    "for i in range(4):\n",
    "    pen.forward(100)\n",
    "    pen.left(90)\n",
    "\n",
    "turtle.exitonclick()"
   ]
  },
  {
   "cell_type": "code",
   "execution_count": 10,
   "metadata": {},
   "outputs": [
    {
     "name": "stdout",
     "output_type": "stream",
     "text": [
      "Overwriting t1.py\n"
     ]
    }
   ],
   "source": [
    "%%writefile t1.py\n",
    "\n",
    "import turtle\n",
    "\n",
    "pen = turtle.Pen()\n",
    "pen.color(\"red\")\n",
    "pen.begin_fill()\n",
    "\n",
    "for i in range(4):\n",
    "    pen.forward(100)\n",
    "    pen.left(90)\n",
    "pen.end_fill()\n",
    "\n",
    "turtle.exitonclick()"
   ]
  },
  {
   "cell_type": "code",
   "execution_count": 11,
   "metadata": {},
   "outputs": [
    {
     "name": "stdout",
     "output_type": "stream",
     "text": [
      "Overwriting t1.py\n"
     ]
    }
   ],
   "source": [
    "%%writefile t1.py\n",
    "\n",
    "import turtle\n",
    "\n",
    "pen = turtle.Pen()\n",
    "pen.color(\"red\", \"blue\")  # (fg, bg)\n",
    "pen.begin_fill()\n",
    "\n",
    "for i in range(4):\n",
    "    pen.forward(100)\n",
    "    pen.left(90)\n",
    "pen.end_fill()\n",
    "\n",
    "turtle.exitonclick()"
   ]
  },
  {
   "cell_type": "code",
   "execution_count": 13,
   "metadata": {},
   "outputs": [
    {
     "name": "stdout",
     "output_type": "stream",
     "text": [
      "Overwriting t1.py\n"
     ]
    }
   ],
   "source": [
    "%%writefile t1.py\n",
    "\n",
    "import turtle\n",
    "\n",
    "pen = turtle.Pen()\n",
    "pen.color(\"red\", \"blue\")  # (fg, bg)\n",
    "pen.begin_fill()\n",
    "pen.circle(20)\n",
    "pen.end_fill()\n",
    "\n",
    "turtle.exitonclick()"
   ]
  },
  {
   "cell_type": "code",
   "execution_count": 14,
   "metadata": {},
   "outputs": [
    {
     "name": "stdout",
     "output_type": "stream",
     "text": [
      "Overwriting t1.py\n"
     ]
    }
   ],
   "source": [
    "%%writefile t1.py\n",
    "\n",
    "import turtle\n",
    "\n",
    "pen = turtle.Pen()\n",
    "pen.color(\"red\", \"blue\")  # (fg, bg)\n",
    "#pen.begin_fill()\n",
    "rad = 50\n",
    "for i in range(7):\n",
    "    pen.circle(rad)\n",
    "    rad += 20\n",
    "#pen.end_fill()\n",
    "\n",
    "turtle.exitonclick()"
   ]
  },
  {
   "cell_type": "code",
   "execution_count": 15,
   "metadata": {},
   "outputs": [
    {
     "name": "stdout",
     "output_type": "stream",
     "text": [
      "Writing circle_.py\n"
     ]
    }
   ],
   "source": [
    "%%writefile circle_.py\n",
    "\n",
    "import turtle\n",
    "\n",
    "pen = turtle.Pen()\n",
    "pen.color(\"red\", \"blue\")  # (fg, bg)\n",
    "rad = 50\n",
    "for i in range(5):\n",
    "    pen.begin_fill()\n",
    "    pen.circle(rad)\n",
    "    rad += 20\n",
    "    pen.end_fill()\n",
    "\n",
    "turtle.exitonclick()"
   ]
  },
  {
   "cell_type": "code",
   "execution_count": 21,
   "metadata": {},
   "outputs": [
    {
     "name": "stdout",
     "output_type": "stream",
     "text": [
      "Overwriting circle_.py\n"
     ]
    }
   ],
   "source": [
    "%%writefile circle_.py\n",
    "\n",
    "import turtle\n",
    "\n",
    "pen = turtle.Pen()\n",
    "color = ['red', 'blue', '#123455', '#abcdef', 'green']\n",
    "rad = 150\n",
    "pen.speed(0.04)\n",
    "\n",
    "for i in range(5):\n",
    "    pen.color(color[i])  # (fg, bg)\n",
    "    pen.begin_fill()\n",
    "    pen.circle(rad)\n",
    "    rad -= 20\n",
    "    pen.end_fill()\n",
    "\n",
    "turtle.exitonclick()"
   ]
  },
  {
   "cell_type": "code",
   "execution_count": 24,
   "metadata": {},
   "outputs": [
    {
     "name": "stdout",
     "output_type": "stream",
     "text": [
      "Overwriting circle_.py\n"
     ]
    }
   ],
   "source": [
    "%%writefile circle_.py\n",
    "\n",
    "import turtle\n",
    "\n",
    "pen = turtle.Pen()\n",
    "color = ['red', 'blue', '#123455', '#abcdef', 'green']\n",
    "rad = 150\n",
    "#pen.speed(0.04)\n",
    "\n",
    "for i in range(5):\n",
    "    pen.color(\"black\", color[i])  # (fg, bg)\n",
    "    pen.begin_fill()\n",
    "    pen.circle(rad)\n",
    "    pen.end_fill()\n",
    "    pen.left(90)\n",
    "    pen.forward(20)\n",
    "    pen.right(90)\n",
    "    rad -= 20\n",
    "\n",
    "turtle.exitonclick()"
   ]
  },
  {
   "cell_type": "code",
   "execution_count": 28,
   "metadata": {},
   "outputs": [
    {
     "name": "stdout",
     "output_type": "stream",
     "text": [
      "Overwriting circle_.py\n"
     ]
    }
   ],
   "source": [
    "%%writefile circle_.py\n",
    "\n",
    "import turtle\n",
    "from random import choice\n",
    "\n",
    "pen = turtle.Pen()\n",
    "turtle.bgcolor(\"black\")\n",
    "\n",
    "color = ['red', 'blue', '#123455', '#abcdef', 'green', 'yellow', '#123456', '#abc123', '#123abc']\n",
    "rad = 150\n",
    "#pen.speed(0.04)\n",
    "\n",
    "for i in range(5):\n",
    "    c = choice(color)\n",
    "    pen.color('white', c)  # (fg, bg)\n",
    "    pen.begin_fill()\n",
    "    pen.circle(rad)\n",
    "    pen.end_fill()\n",
    "    pen.up()  # pen will be up and move without drawing\n",
    "    pen.left(90)\n",
    "    pen.forward(20)\n",
    "    pen.right(90)\n",
    "    pen.down()\n",
    "    rad -= 20\n",
    "\n",
    "turtle.exitonclick()"
   ]
  },
  {
   "cell_type": "code",
   "execution_count": null,
   "metadata": {},
   "outputs": [],
   "source": []
  }
 ],
 "metadata": {
  "kernelspec": {
   "display_name": "Python 3",
   "language": "python",
   "name": "python3"
  },
  "language_info": {
   "codemirror_mode": {
    "name": "ipython",
    "version": 3
   },
   "file_extension": ".py",
   "mimetype": "text/x-python",
   "name": "python",
   "nbconvert_exporter": "python",
   "pygments_lexer": "ipython3",
   "version": "3.8.5"
  }
 },
 "nbformat": 4,
 "nbformat_minor": 4
}
