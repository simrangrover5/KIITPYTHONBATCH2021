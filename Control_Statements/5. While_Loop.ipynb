{
 "cells": [
  {
   "cell_type": "markdown",
   "metadata": {},
   "source": [
    "    python3 --> input\n",
    "    python2 --> raw_input()\n",
    "    \n",
    "    python3 --> print()\n",
    "    python2 --> print \"\""
   ]
  },
  {
   "cell_type": "code",
   "execution_count": 1,
   "metadata": {},
   "outputs": [
    {
     "data": {
      "text/plain": [
       "True"
      ]
     },
     "execution_count": 1,
     "metadata": {},
     "output_type": "execute_result"
    }
   ],
   "source": [
    "'a' in \"abcde\""
   ]
  },
  {
   "cell_type": "code",
   "execution_count": 2,
   "metadata": {},
   "outputs": [],
   "source": [
    "i = 0\n",
    "while i<5:\n",
    "    i += 1\n",
    "    pass"
   ]
  },
  {
   "cell_type": "code",
   "execution_count": 5,
   "metadata": {},
   "outputs": [],
   "source": [
    "if \"hello\":\n",
    "    pass"
   ]
  },
  {
   "cell_type": "code",
   "execution_count": 6,
   "metadata": {},
   "outputs": [],
   "source": [
    "import sys"
   ]
  },
  {
   "cell_type": "code",
   "execution_count": 7,
   "metadata": {},
   "outputs": [
    {
     "name": "stdout",
     "output_type": "stream",
     "text": [
      "Help on built-in function exit in module sys:\n",
      "\n",
      "exit(status=None, /)\n",
      "    Exit the interpreter by raising SystemExit(status).\n",
      "    \n",
      "    If the status is omitted or None, it defaults to zero (i.e., success).\n",
      "    If the status is an integer, it will be used as the system exit status.\n",
      "    If it is another kind of object, it will be printed and the system\n",
      "    exit status will be one (i.e., failure).\n",
      "\n"
     ]
    }
   ],
   "source": [
    "help(sys.exit)"
   ]
  },
  {
   "cell_type": "markdown",
   "metadata": {},
   "source": [
    "##### program to count total number of notes in given amount"
   ]
  },
  {
   "cell_type": "code",
   "execution_count": 9,
   "metadata": {},
   "outputs": [],
   "source": [
    "# 2500 --> 2000(1) , 500(1)\n",
    "notes = dict.fromkeys([2000, 500, 100, 50, 20, 10, 5, 2, 1], 0)"
   ]
  },
  {
   "cell_type": "code",
   "execution_count": 10,
   "metadata": {},
   "outputs": [
    {
     "data": {
      "text/plain": [
       "{2000: 0, 500: 0, 100: 0, 50: 0, 20: 0, 10: 0, 5: 0, 2: 0, 1: 0}"
      ]
     },
     "execution_count": 10,
     "metadata": {},
     "output_type": "execute_result"
    }
   ],
   "source": [
    "notes"
   ]
  },
  {
   "cell_type": "code",
   "execution_count": 12,
   "metadata": {},
   "outputs": [
    {
     "name": "stdout",
     "output_type": "stream",
     "text": [
      "1\n",
      "2\n",
      "3\n",
      "4\n",
      "5\n"
     ]
    }
   ],
   "source": [
    "l = [1, 2, 3, 4, 5]\n",
    "i = 0\n",
    "while i<len(l):\n",
    "    #print(i)\n",
    "    print(l[i])\n",
    "    i += 1"
   ]
  },
  {
   "cell_type": "code",
   "execution_count": 18,
   "metadata": {},
   "outputs": [
    {
     "data": {
      "text/plain": [
       "500"
      ]
     },
     "execution_count": 18,
     "metadata": {},
     "output_type": "execute_result"
    }
   ],
   "source": [
    "list(notes.keys())[1]"
   ]
  },
  {
   "cell_type": "code",
   "execution_count": null,
   "metadata": {},
   "outputs": [],
   "source": [
    "# 2500 --> 2000(1) , 500(1)\n",
    "notes = dict.fromkeys([2000, 500, 200, 100, 50, 20, 10, 5, 2, 1], 0)\n",
    "keys = list(notes.keys())"
   ]
  },
  {
   "cell_type": "code",
   "execution_count": 19,
   "metadata": {},
   "outputs": [
    {
     "data": {
      "text/plain": [
       "1"
      ]
     },
     "execution_count": 19,
     "metadata": {},
     "output_type": "execute_result"
    }
   ],
   "source": [
    "2500//2000  # divide tells us the number of notes"
   ]
  },
  {
   "cell_type": "code",
   "execution_count": 22,
   "metadata": {},
   "outputs": [
    {
     "data": {
      "text/plain": [
       "2"
      ]
     },
     "execution_count": 22,
     "metadata": {},
     "output_type": "execute_result"
    }
   ],
   "source": [
    "400//200"
   ]
  },
  {
   "cell_type": "code",
   "execution_count": 23,
   "metadata": {},
   "outputs": [
    {
     "data": {
      "text/plain": [
       "500"
      ]
     },
     "execution_count": 23,
     "metadata": {},
     "output_type": "execute_result"
    }
   ],
   "source": [
    "2500%2000  # left over amount"
   ]
  },
  {
   "cell_type": "code",
   "execution_count": 28,
   "metadata": {},
   "outputs": [
    {
     "name": "stdout",
     "output_type": "stream",
     "text": [
      "\n",
      " Enter the amount : 2399\n",
      "                                   2000 --> 1                                   \n",
      "                                   500 --> 0                                    \n",
      "                                   200 --> 1                                    \n",
      "                                   100 --> 1                                    \n",
      "                                    50 --> 1                                    \n",
      "                                    20 --> 2                                    \n",
      "                                    10 --> 0                                    \n",
      "                                    5 --> 1                                     \n",
      "                                    2 --> 2                                     \n",
      "                                    1 --> 0                                     \n"
     ]
    }
   ],
   "source": [
    "amt = int(input(\"\\n Enter the amount : \"))\n",
    "notes = dict.fromkeys([2000, 500, 200, 100, 50, 20, 10, 5, 2, 1], 0)\n",
    "keys = list(notes.keys())\n",
    "i = 0\n",
    "# to count the number of rows and print\n",
    "while i<len(keys):\n",
    "    num = amt//keys[i]\n",
    "    notes[keys[i]] = num\n",
    "    amt = amt%keys[i]\n",
    "    print(f\"{keys[i]} --> {num}\".center(80))\n",
    "    i += 1"
   ]
  },
  {
   "cell_type": "code",
   "execution_count": 29,
   "metadata": {},
   "outputs": [],
   "source": [
    "d = {\"name\": \"python\", 1:\"two\", 2:\"three\"}"
   ]
  },
  {
   "cell_type": "code",
   "execution_count": 30,
   "metadata": {},
   "outputs": [
    {
     "data": {
      "text/plain": [
       "'three'"
      ]
     },
     "execution_count": 30,
     "metadata": {},
     "output_type": "execute_result"
    }
   ],
   "source": [
    "d[2]"
   ]
  },
  {
   "cell_type": "code",
   "execution_count": 40,
   "metadata": {},
   "outputs": [
    {
     "name": "stdout",
     "output_type": "stream",
     "text": [
      "*"
     ]
    }
   ],
   "source": [
    "print(end=\"*\")"
   ]
  },
  {
   "cell_type": "code",
   "execution_count": 46,
   "metadata": {},
   "outputs": [],
   "source": [
    "d.update({(1, 2, 3, 4): \"tuple\"})"
   ]
  },
  {
   "cell_type": "code",
   "execution_count": 47,
   "metadata": {},
   "outputs": [
    {
     "data": {
      "text/plain": [
       "{'name': 2, 1: 'four', 2: 'three', (1, 2, 3, 4): 'tuple'}"
      ]
     },
     "execution_count": 47,
     "metadata": {},
     "output_type": "execute_result"
    }
   ],
   "source": [
    "d"
   ]
  },
  {
   "cell_type": "code",
   "execution_count": 48,
   "metadata": {},
   "outputs": [
    {
     "ename": "SyntaxError",
     "evalue": "expression cannot contain assignment, perhaps you meant \"==\"? (<ipython-input-48-976096526940>, line 1)",
     "output_type": "error",
     "traceback": [
      "\u001b[1;36m  File \u001b[1;32m\"<ipython-input-48-976096526940>\"\u001b[1;36m, line \u001b[1;32m1\u001b[0m\n\u001b[1;33m    d.update((1, 2, 3, 4)=\"TUPLE\")\u001b[0m\n\u001b[1;37m             ^\u001b[0m\n\u001b[1;31mSyntaxError\u001b[0m\u001b[1;31m:\u001b[0m expression cannot contain assignment, perhaps you meant \"==\"?\n"
     ]
    }
   ],
   "source": [
    "d.update((1, 2, 3, 4)=\"TUPLE\")"
   ]
  },
  {
   "cell_type": "code",
   "execution_count": 42,
   "metadata": {},
   "outputs": [],
   "source": [
    "d.update({1:'four'})"
   ]
  },
  {
   "cell_type": "code",
   "execution_count": 45,
   "metadata": {},
   "outputs": [
    {
     "data": {
      "text/plain": [
       "{'name': 2, 1: 'four', 2: 'three'}"
      ]
     },
     "execution_count": 45,
     "metadata": {},
     "output_type": "execute_result"
    }
   ],
   "source": [
    "d"
   ]
  },
  {
   "cell_type": "code",
   "execution_count": 34,
   "metadata": {},
   "outputs": [],
   "source": [
    "s = \"hello\""
   ]
  },
  {
   "cell_type": "code",
   "execution_count": 39,
   "metadata": {},
   "outputs": [
    {
     "name": "stdout",
     "output_type": "stream",
     "text": [
      "\n",
      " A :  30\n",
      "\n",
      " B :  20\n"
     ]
    },
    {
     "data": {
      "text/plain": [
       "50"
      ]
     },
     "execution_count": 39,
     "metadata": {},
     "output_type": "execute_result"
    }
   ],
   "source": [
    "def func(a, b):\n",
    "    print(\"\\n A : \", a)\n",
    "    print(\"\\n B : \", b)\n",
    "    return a+b\n",
    "\n",
    "func(b=20, a=30)"
   ]
  },
  {
   "cell_type": "code",
   "execution_count": 52,
   "metadata": {},
   "outputs": [
    {
     "name": "stdout",
     "output_type": "stream",
     "text": [
      "\n",
      " Enter any value : 30\n",
      "\n",
      " Enter end value : 40\n",
      "|\tNUMBER\t\t|\t\tSQUARE\t\t|\t\tCUBE\t|\n",
      "________________________________________________________________________________\n",
      "|\t30\t\t|\t\t900\t\t|\t\t27000\t|\n",
      "________________________________________________________________________________\n",
      "|\t31\t\t|\t\t961\t\t|\t\t29791\t|\n",
      "________________________________________________________________________________\n",
      "|\t32\t\t|\t\t1024\t\t|\t\t32768\t|\n",
      "________________________________________________________________________________\n",
      "|\t33\t\t|\t\t1089\t\t|\t\t35937\t|\n",
      "________________________________________________________________________________\n",
      "|\t34\t\t|\t\t1156\t\t|\t\t39304\t|\n",
      "________________________________________________________________________________\n",
      "|\t35\t\t|\t\t1225\t\t|\t\t42875\t|\n",
      "________________________________________________________________________________\n",
      "|\t36\t\t|\t\t1296\t\t|\t\t46656\t|\n",
      "________________________________________________________________________________\n",
      "|\t37\t\t|\t\t1369\t\t|\t\t50653\t|\n",
      "________________________________________________________________________________\n",
      "|\t38\t\t|\t\t1444\t\t|\t\t54872\t|\n",
      "________________________________________________________________________________\n",
      "|\t39\t\t|\t\t1521\t\t|\t\t59319\t|\n",
      "________________________________________________________________________________\n",
      "|\t40\t\t|\t\t1600\t\t|\t\t64000\t|\n",
      "________________________________________________________________________________\n"
     ]
    }
   ],
   "source": [
    "start = int(input(\"\\n Enter any value : \"))\n",
    "end = int(input(\"\\n Enter end value : \"))\n",
    "print(\"|\\tNUMBER\\t\\t|\\t\\tSQUARE\\t\\t|\\t\\tCUBE\\t|\")\n",
    "print(\"_\"*80)\n",
    "while start<=end:\n",
    "    print(f\"|\\t{start}\\t\\t|\\t\\t{start**2}\\t\\t|\\t\\t{start**3}\\t|\")\n",
    "    print(\"_\"*80)\n",
    "    start += 1"
   ]
  },
  {
   "cell_type": "code",
   "execution_count": 66,
   "metadata": {},
   "outputs": [
    {
     "name": "stdout",
     "output_type": "stream",
     "text": [
      "\n",
      " Enter any value : 1\n",
      "\n",
      " Enter end value : 10\n",
      "__________________________________________________\n",
      "|       1       |       1       |       1       |\n",
      "__________________________________________________\n",
      "|       2       |       4       |       8       |\n",
      "__________________________________________________\n",
      "|       3       |       9       |      27       |\n",
      "__________________________________________________\n",
      "|       4       |      16       |      64       |\n",
      "__________________________________________________\n",
      "|       5       |      25       |      125      |\n",
      "__________________________________________________\n",
      "|       6       |      36       |      216      |\n",
      "__________________________________________________\n",
      "|       7       |      49       |      343      |\n",
      "__________________________________________________\n",
      "|       8       |      64       |      512      |\n",
      "__________________________________________________\n",
      "|       9       |      81       |      729      |\n",
      "__________________________________________________\n",
      "|      10       |      100      |     1000      |\n",
      "__________________________________________________\n"
     ]
    }
   ],
   "source": [
    "start = int(input(\"\\n Enter any value : \"))\n",
    "end = int(input(\"\\n Enter end value : \"))\n",
    "#print(\"|NUMBER|SQUARE\\t\\t|\\t\\tCUBE\\t|\")\n",
    "print(\"_\"*50)\n",
    "while start<=end:\n",
    "    print(f\"|{start:^15}|{start**2:^15}|{start**3:^15}|\")\n",
    "    print(\"_\"*50)\n",
    "    start += 1"
   ]
  },
  {
   "cell_type": "markdown",
   "metadata": {},
   "source": [
    "## Create Table or any number given as input"
   ]
  },
  {
   "cell_type": "markdown",
   "metadata": {},
   "source": [
    "    1. Continue\n",
    "    2. Break\n",
    "    3. While Else"
   ]
  },
  {
   "cell_type": "code",
   "execution_count": 67,
   "metadata": {},
   "outputs": [],
   "source": [
    "from IPython.display import Image"
   ]
  },
  {
   "cell_type": "code",
   "execution_count": 68,
   "metadata": {},
   "outputs": [
    {
     "data": {
      "image/png": "[encoded data removed]",
      "text/plain": [
       "<IPython.core.display.Image object>"
      ]
     },
     "execution_count": 68,
     "metadata": {},
     "output_type": "execute_result"
    }
   ],
   "source": [
    "Image(\"C:/batches/online_batch/batch_7pm/continue-statement-flowchart.png\")"
   ]
  },
  {
   "cell_type": "markdown",
   "metadata": {},
   "source": [
    "    while c1:\n",
    "        s1\n",
    "        s2\n",
    "        if c2:\n",
    "            continue\n",
    "        s3\n",
    "    \n",
    "    if c2 condition gets true then the loop will continue and it will not execute s3 statement and control\n",
    "    returns back to while loop or c1"
   ]
  },
  {
   "cell_type": "code",
   "execution_count": 69,
   "metadata": {},
   "outputs": [
    {
     "name": "stdout",
     "output_type": "stream",
     "text": [
      "1\n",
      "2\n",
      "3\n",
      "4\n",
      "6\n",
      "8\n",
      "10\n",
      "11\n"
     ]
    }
   ],
   "source": [
    "i = 0\n",
    "while i<=10:\n",
    "    i += 1\n",
    "    if i == 5 or i == 7 or i == 9:\n",
    "        continue\n",
    "    print(i)"
   ]
  },
  {
   "cell_type": "code",
   "execution_count": 70,
   "metadata": {},
   "outputs": [
    {
     "name": "stdout",
     "output_type": "stream",
     "text": [
      "0\n",
      "1\n",
      "2\n",
      "3\n",
      "4\n"
     ]
    },
    {
     "ename": "KeyboardInterrupt",
     "evalue": "",
     "output_type": "error",
     "traceback": [
      "\u001b[1;31m---------------------------------------------------------------------------\u001b[0m",
      "\u001b[1;31mKeyboardInterrupt\u001b[0m                         Traceback (most recent call last)",
      "\u001b[1;32m<ipython-input-70-e59dff828a55>\u001b[0m in \u001b[0;36m<module>\u001b[1;34m\u001b[0m\n\u001b[0;32m      1\u001b[0m \u001b[0mi\u001b[0m \u001b[1;33m=\u001b[0m \u001b[1;36m0\u001b[0m\u001b[1;33m\u001b[0m\u001b[1;33m\u001b[0m\u001b[0m\n\u001b[1;32m----> 2\u001b[1;33m \u001b[1;32mwhile\u001b[0m \u001b[0mi\u001b[0m\u001b[1;33m<=\u001b[0m\u001b[1;36m10\u001b[0m\u001b[1;33m:\u001b[0m\u001b[1;33m\u001b[0m\u001b[1;33m\u001b[0m\u001b[0m\n\u001b[0m\u001b[0;32m      3\u001b[0m     \u001b[1;32mif\u001b[0m \u001b[0mi\u001b[0m \u001b[1;33m==\u001b[0m \u001b[1;36m5\u001b[0m \u001b[1;32mor\u001b[0m \u001b[0mi\u001b[0m \u001b[1;33m==\u001b[0m \u001b[1;36m7\u001b[0m \u001b[1;32mor\u001b[0m \u001b[0mi\u001b[0m \u001b[1;33m==\u001b[0m \u001b[1;36m9\u001b[0m\u001b[1;33m:\u001b[0m\u001b[1;33m\u001b[0m\u001b[1;33m\u001b[0m\u001b[0m\n\u001b[0;32m      4\u001b[0m         \u001b[1;32mcontinue\u001b[0m\u001b[1;33m\u001b[0m\u001b[1;33m\u001b[0m\u001b[0m\n\u001b[0;32m      5\u001b[0m     \u001b[0mprint\u001b[0m\u001b[1;33m(\u001b[0m\u001b[0mi\u001b[0m\u001b[1;33m)\u001b[0m\u001b[1;33m\u001b[0m\u001b[1;33m\u001b[0m\u001b[0m\n",
      "\u001b[1;31mKeyboardInterrupt\u001b[0m: "
     ]
    }
   ],
   "source": [
    "i = 0\n",
    "while i<=10:\n",
    "    if i == 5 or i == 7 or i == 9:\n",
    "        continue\n",
    "    print(i)\n",
    "    i += 1\n",
    "# i = 0, 0<=10, print, i = 1\n",
    "# i = 1, 1<=10 , print, i = 2\n",
    "# i = 2, 2<=10, print, i = 3\n",
    "# i = 3, 3<=10, print, i = 4\n",
    "# i = 4, 4<=10, print, i = 5\n",
    "# i = 5, 5<=10"
   ]
  },
  {
   "cell_type": "code",
   "execution_count": 71,
   "metadata": {},
   "outputs": [
    {
     "data": {
      "image/png": "[encoded data removed]",
      "text/plain": [
       "<IPython.core.display.Image object>"
      ]
     },
     "execution_count": 71,
     "metadata": {},
     "output_type": "execute_result"
    }
   ],
   "source": [
    "Image(\"C:/batches/online_batch/batch_7pm/break_statement_flowchart.png\")"
   ]
  },
  {
   "cell_type": "markdown",
   "metadata": {},
   "source": [
    "    while condition1:\n",
    "        s1\n",
    "        s2\n",
    "        if condition2:\n",
    "            break\n",
    "        s3\n",
    "        \n",
    "        \n",
    "     if condition2 will get true then it will exit you from loop"
   ]
  },
  {
   "cell_type": "code",
   "execution_count": 73,
   "metadata": {},
   "outputs": [
    {
     "name": "stdout",
     "output_type": "stream",
     "text": [
      "\n",
      " Enter any value : 5\n",
      "\n",
      " Enter any value : 6\n",
      "\n",
      " Enter any value : 10\n",
      "\n",
      " Enter any value : 21\n",
      "\n",
      " Enter any value : 67\n",
      "\n",
      " Not allowed values greater than 50\n",
      "\n",
      " GETTING YOU OUT OF THE LOOP\n"
     ]
    }
   ],
   "source": [
    "while True:\n",
    "    user = int(input(\"\\n Enter any value : \"))\n",
    "    if user>50:\n",
    "        print(\"\\n Not allowed values greater than 50\")\n",
    "        print(\"\\n GETTING YOU OUT OF THE LOOP\")\n",
    "        break"
   ]
  },
  {
   "cell_type": "code",
   "execution_count": 87,
   "metadata": {},
   "outputs": [],
   "source": [
    "from random import randint\n",
    "import random"
   ]
  },
  {
   "cell_type": "code",
   "execution_count": 88,
   "metadata": {},
   "outputs": [
    {
     "name": "stdout",
     "output_type": "stream",
     "text": [
      "['BPF', 'LOG4', 'NV_MAGICCONST', 'RECIP_BPF', 'Random', 'SG_MAGICCONST', 'SystemRandom', 'TWOPI', '_Sequence', '_Set', '__all__', '__builtins__', '__cached__', '__doc__', '__file__', '__loader__', '__name__', '__package__', '__spec__', '_accumulate', '_acos', '_bisect', '_ceil', '_cos', '_e', '_exp', '_inst', '_log', '_os', '_pi', '_random', '_repeat', '_sha512', '_sin', '_sqrt', '_test', '_test_generator', '_urandom', '_warn', 'betavariate', 'choice', 'choices', 'expovariate', 'gammavariate', 'gauss', 'getrandbits', 'getstate', 'lognormvariate', 'normalvariate', 'paretovariate', 'randint', 'random', 'randrange', 'sample', 'seed', 'setstate', 'shuffle', 'triangular', 'uniform', 'vonmisesvariate', 'weibullvariate']\n"
     ]
    }
   ],
   "source": [
    "print(dir(random))"
   ]
  },
  {
   "cell_type": "code",
   "execution_count": 92,
   "metadata": {},
   "outputs": [
    {
     "data": {
      "text/plain": [
       "[45, 89, 40, 3, 77, 16, 57, 38, 5, 50]"
      ]
     },
     "execution_count": 92,
     "metadata": {},
     "output_type": "execute_result"
    }
   ],
   "source": [
    "l"
   ]
  },
  {
   "cell_type": "code",
   "execution_count": 93,
   "metadata": {},
   "outputs": [
    {
     "data": {
      "text/plain": [
       "[50, 16, 77, 5, 45]"
      ]
     },
     "execution_count": 93,
     "metadata": {},
     "output_type": "execute_result"
    }
   ],
   "source": [
    "random.sample(l, 5)"
   ]
  },
  {
   "cell_type": "code",
   "execution_count": 94,
   "metadata": {},
   "outputs": [
    {
     "data": {
      "text/plain": [
       "['h', 'p']"
      ]
     },
     "execution_count": 94,
     "metadata": {},
     "output_type": "execute_result"
    }
   ],
   "source": [
    "random.sample(\"python\", 2)"
   ]
  },
  {
   "cell_type": "code",
   "execution_count": 82,
   "metadata": {},
   "outputs": [
    {
     "data": {
      "text/plain": [
       "10"
      ]
     },
     "execution_count": 82,
     "metadata": {},
     "output_type": "execute_result"
    }
   ],
   "source": [
    "randint(1, 10)"
   ]
  },
  {
   "cell_type": "code",
   "execution_count": 83,
   "metadata": {},
   "outputs": [],
   "source": [
    "l = []\n",
    "i = 0\n",
    "while i<10:\n",
    "    l.append(randint(1, 100))\n",
    "    i += 1\n",
    "    "
   ]
  },
  {
   "cell_type": "code",
   "execution_count": 85,
   "metadata": {},
   "outputs": [
    {
     "data": {
      "text/plain": [
       "[45, 89, 40, 3, 77, 16, 57, 38, 5, 50]"
      ]
     },
     "execution_count": 85,
     "metadata": {},
     "output_type": "execute_result"
    }
   ],
   "source": [
    "l"
   ]
  },
  {
   "cell_type": "code",
   "execution_count": 96,
   "metadata": {},
   "outputs": [
    {
     "name": "stdout",
     "output_type": "stream",
     "text": [
      "\n",
      " 45\n",
      "\n",
      " 40\n",
      "\n",
      " 77\n",
      "\n",
      "DIVISIBLE BY 2\n",
      "\n",
      " 16\n",
      "\n",
      " 38\n",
      "\n",
      " Divisible by 5\n"
     ]
    }
   ],
   "source": [
    "i = 0\n",
    "while i<len(l):\n",
    "    if i<l[i]:\n",
    "        print(\"\\n\", l[i])\n",
    "        i += 1\n",
    "    if l[i]%2 == 0:\n",
    "        print(\"\\nDIVISIBLE BY 2\")\n",
    "        continue\n",
    "    if l[i]%7 == 0 and i<7:\n",
    "        print(\"\\n Divisible by 7\")\n",
    "        i += 1\n",
    "        continue\n",
    "    if l[i]%5 == 0:\n",
    "        print(\"\\n Divisible by 5\")\n",
    "        break\n",
    "    i += 1\n",
    "# i = 0, 0<l[0], 45, i += 1, i = 1, l[1] = 89, i = 2\n",
    "# i = 2, 2<l[2], 2<40, l[2], 40, i = 3, l[3] = 3(conditions false), i = 4\n",
    "# i = 4, 4<l[4], 4<77, 77, i = 5, l[5] = 16\n",
    "# i = 5, 5<l[5], 5<16, 16, i = 6, l[6] = 57, i = 7\n",
    "# i = 7, 7<l[7], 7<38, 38, i = 8, l[8] = 5"
   ]
  },
  {
   "cell_type": "markdown",
   "metadata": {},
   "source": [
    "##### while-else\n",
    "\n",
    "    while c1:\n",
    "        s1\n",
    "        s2\n",
    "    else:\n",
    "        s3\n",
    "        \n",
    "        \n",
    "    Else part will execute if while never breaks \n",
    "    But if while loop breaks else part will not execute"
   ]
  },
  {
   "cell_type": "code",
   "execution_count": 98,
   "metadata": {},
   "outputs": [
    {
     "name": "stdout",
     "output_type": "stream",
     "text": [
      "0\n",
      "1\n",
      "2\n",
      "3\n",
      "4\n",
      "5\n",
      "6\n",
      "7\n",
      "8\n",
      "9\n",
      "\n",
      " ELSE PART...\n"
     ]
    }
   ],
   "source": [
    "i = 0\n",
    "while i<10:  # 10<10\n",
    "    if i==10:\n",
    "        break\n",
    "    print(i)\n",
    "    i += 1\n",
    "else:\n",
    "    print(\"\\n ELSE PART...\")"
   ]
  },
  {
   "cell_type": "code",
   "execution_count": 99,
   "metadata": {},
   "outputs": [
    {
     "name": "stdout",
     "output_type": "stream",
     "text": [
      "0\n",
      "1\n",
      "2\n",
      "3\n",
      "4\n"
     ]
    }
   ],
   "source": [
    "i = 0\n",
    "while i<10:  # 10<10\n",
    "    if i==5:\n",
    "        break\n",
    "    print(i)\n",
    "    i += 1\n",
    "else:\n",
    "    print(\"\\n ELSE PART...\")  # in this case loop will break so else part will not execute"
   ]
  },
  {
   "cell_type": "markdown",
   "metadata": {},
   "source": [
    "#### You need to make guess game\n",
    "\n",
    "    comp = randint(1, 10)\n",
    "    \n",
    "    You need to take input from user till the number entered by user is not equals to comp"
   ]
  },
  {
   "cell_type": "code",
   "execution_count": null,
   "metadata": {},
   "outputs": [],
   "source": []
  }
 ],
 "metadata": {
  "kernelspec": {
   "display_name": "Python 3",
   "language": "python",
   "name": "python3"
  },
  "language_info": {
   "codemirror_mode": {
    "name": "ipython",
    "version": 3
   },
   "file_extension": ".py",
   "mimetype": "text/x-python",
   "name": "python",
   "nbconvert_exporter": "python",
   "pygments_lexer": "ipython3",
   "version": "3.8.5"
  }
 },
 "nbformat": 4,
 "nbformat_minor": 4
}
