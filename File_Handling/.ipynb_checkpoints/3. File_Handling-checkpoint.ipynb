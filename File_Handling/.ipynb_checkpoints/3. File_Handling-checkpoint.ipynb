{
 "cells": [
  {
   "cell_type": "markdown",
   "metadata": {},
   "source": [
    "###### csv --> comma seprated values\n",
    "\n",
    "    Name,Maths,Science,English\n",
    "    simran,70,80,70\n",
    "    suraj,50,60,80"
   ]
  },
  {
   "cell_type": "code",
   "execution_count": 2,
   "metadata": {},
   "outputs": [],
   "source": [
    "f = open(\"marks.txt\", \"w\")\n",
    "header = \"Name,Maths,Science,English\"\n",
    "f.write(header)\n",
    "f.close()"
   ]
  },
  {
   "cell_type": "code",
   "execution_count": 3,
   "metadata": {},
   "outputs": [
    {
     "name": "stdout",
     "output_type": "stream",
     "text": [
      "\n",
      " How many students entry you want to make : 3\n",
      "\n",
      " Name --> ritik\n",
      "\n",
      " Maths --> 80\n",
      "\n",
      " Science --> 70\n",
      "\n",
      " English --> 90\n",
      "\n",
      " Name --> manish\n",
      "\n",
      " Maths --> 60\n",
      "\n",
      " Science --> 70\n",
      "\n",
      " English --> 80\n",
      "\n",
      " Name --> vishal\n",
      "\n",
      " Maths --> 67\n",
      "\n",
      " Science --> 78\n",
      "\n",
      " English --> 89\n",
      "\n",
      "ritik,80,70,90\n",
      "manish,60,70,80\n",
      "vishal,67,78,89\n"
     ]
    }
   ],
   "source": [
    "f = open(\"marks.txt\", \"a\")\n",
    "data = \"\"\n",
    "num = int(input(\"\\n How many students entry you want to make : \"))\n",
    "for i in range(num):\n",
    "    name = input(\"\\n Name --> \")\n",
    "    maths = input(\"\\n Maths --> \")\n",
    "    sci = input(\"\\n Science --> \")\n",
    "    eng = input(\"\\n English --> \")\n",
    "    data += \"\\n\" + name + \",\" + maths + \",\" + sci + \",\" + eng\n",
    "print(data)"
   ]
  },
  {
   "cell_type": "code",
   "execution_count": 4,
   "metadata": {},
   "outputs": [],
   "source": [
    "f.write(data)\n",
    "f.close()"
   ]
  },
  {
   "cell_type": "code",
   "execution_count": 5,
   "metadata": {},
   "outputs": [
    {
     "name": "stdout",
     "output_type": "stream",
     "text": [
      "Name,Maths,Science,English\n",
      "ritik,80,70,90\n",
      "manish,60,70,80\n",
      "vishal,67,78,89\n"
     ]
    }
   ],
   "source": [
    "f = open(\"marks.txt\")\n",
    "print(f.read())"
   ]
  },
  {
   "cell_type": "code",
   "execution_count": 6,
   "metadata": {},
   "outputs": [
    {
     "name": "stdout",
     "output_type": "stream",
     "text": [
      "\n",
      " How many students entry you want to make : 3\n",
      "\n",
      " Name --> arjama\n",
      "\n",
      " Maths --> 67\n",
      "\n",
      " Science --> 78\n",
      "\n",
      " English --> 59\n",
      "\n",
      " Name --> subho\n",
      "\n",
      " Maths --> 78\n",
      "\n",
      " Science --> 89\n",
      "\n",
      " English --> 60\n",
      "\n",
      " Name --> surbhi\n",
      "\n",
      " Maths --> 34\n",
      "\n",
      " Science --> 45\n",
      "\n",
      " English --> 54\n"
     ]
    }
   ],
   "source": [
    "def store_details():\n",
    "    f = open(\"marks.txt\", \"a\")\n",
    "    data = \"\"\n",
    "    num = int(input(\"\\n How many students entry you want to make : \"))\n",
    "    for i in range(num):\n",
    "        name = input(\"\\n Name --> \")\n",
    "        maths = input(\"\\n Maths --> \")\n",
    "        sci = input(\"\\n Science --> \")\n",
    "        eng = input(\"\\n English --> \")\n",
    "        data += \"\\n\" + name + \",\" + maths + \",\" + sci + \",\" + eng\n",
    "    f.write(data)\n",
    "    f.close()\n",
    "\n",
    "store_details()"
   ]
  },
  {
   "cell_type": "code",
   "execution_count": 7,
   "metadata": {},
   "outputs": [
    {
     "name": "stdout",
     "output_type": "stream",
     "text": [
      "Name,Maths,Science,English\n",
      "ritik,80,70,90\n",
      "manish,60,70,80\n",
      "vishal,67,78,89\n",
      "arjama,67,78,59\n",
      "subho,78,89,60\n",
      "surbhi,34,45,54\n"
     ]
    }
   ],
   "source": [
    "f = open(\"marks.txt\")\n",
    "print(f.read())"
   ]
  },
  {
   "cell_type": "code",
   "execution_count": 8,
   "metadata": {},
   "outputs": [],
   "source": [
    "import pandas as pd"
   ]
  },
  {
   "cell_type": "code",
   "execution_count": 10,
   "metadata": {},
   "outputs": [],
   "source": [
    "data = pd.read_csv(\"marks.txt\")"
   ]
  },
  {
   "cell_type": "code",
   "execution_count": 11,
   "metadata": {},
   "outputs": [
    {
     "data": {
      "text/html": [
       "<div>\n",
       "<style scoped>\n",
       "    .dataframe tbody tr th:only-of-type {\n",
       "        vertical-align: middle;\n",
       "    }\n",
       "\n",
       "    .dataframe tbody tr th {\n",
       "        vertical-align: top;\n",
       "    }\n",
       "\n",
       "    .dataframe thead th {\n",
       "        text-align: right;\n",
       "    }\n",
       "</style>\n",
       "<table border=\"1\" class=\"dataframe\">\n",
       "  <thead>\n",
       "    <tr style=\"text-align: right;\">\n",
       "      <th></th>\n",
       "      <th>Name</th>\n",
       "      <th>Maths</th>\n",
       "      <th>Science</th>\n",
       "      <th>English</th>\n",
       "    </tr>\n",
       "  </thead>\n",
       "  <tbody>\n",
       "    <tr>\n",
       "      <th>0</th>\n",
       "      <td>ritik</td>\n",
       "      <td>80</td>\n",
       "      <td>70</td>\n",
       "      <td>90</td>\n",
       "    </tr>\n",
       "    <tr>\n",
       "      <th>1</th>\n",
       "      <td>manish</td>\n",
       "      <td>60</td>\n",
       "      <td>70</td>\n",
       "      <td>80</td>\n",
       "    </tr>\n",
       "    <tr>\n",
       "      <th>2</th>\n",
       "      <td>vishal</td>\n",
       "      <td>67</td>\n",
       "      <td>78</td>\n",
       "      <td>89</td>\n",
       "    </tr>\n",
       "    <tr>\n",
       "      <th>3</th>\n",
       "      <td>arjama</td>\n",
       "      <td>67</td>\n",
       "      <td>78</td>\n",
       "      <td>59</td>\n",
       "    </tr>\n",
       "    <tr>\n",
       "      <th>4</th>\n",
       "      <td>subho</td>\n",
       "      <td>78</td>\n",
       "      <td>89</td>\n",
       "      <td>60</td>\n",
       "    </tr>\n",
       "    <tr>\n",
       "      <th>5</th>\n",
       "      <td>surbhi</td>\n",
       "      <td>34</td>\n",
       "      <td>45</td>\n",
       "      <td>54</td>\n",
       "    </tr>\n",
       "  </tbody>\n",
       "</table>\n",
       "</div>"
      ],
      "text/plain": [
       "     Name  Maths  Science  English\n",
       "0   ritik     80       70       90\n",
       "1  manish     60       70       80\n",
       "2  vishal     67       78       89\n",
       "3  arjama     67       78       59\n",
       "4   subho     78       89       60\n",
       "5  surbhi     34       45       54"
      ]
     },
     "execution_count": 11,
     "metadata": {},
     "output_type": "execute_result"
    }
   ],
   "source": [
    "data"
   ]
  },
  {
   "cell_type": "code",
   "execution_count": 13,
   "metadata": {},
   "outputs": [
    {
     "data": {
      "text/plain": [
       "<AxesSubplot:>"
      ]
     },
     "execution_count": 13,
     "metadata": {},
     "output_type": "execute_result"
    },
    {
     "data": {
      "image/png": "[encoded data removed]",
      "text/plain": [
       "<Figure size 432x288 with 1 Axes>"
      ]
     },
     "metadata": {
      "needs_background": "light"
     },
     "output_type": "display_data"
    }
   ],
   "source": [
    "data['Maths'].plot(kind=\"bar\")"
   ]
  },
  {
   "cell_type": "code",
   "execution_count": 15,
   "metadata": {},
   "outputs": [],
   "source": [
    "data =data.set_index(\"Name\")"
   ]
  },
  {
   "cell_type": "code",
   "execution_count": 16,
   "metadata": {},
   "outputs": [
    {
     "data": {
      "text/plain": [
       "<AxesSubplot:xlabel='Name'>"
      ]
     },
     "execution_count": 16,
     "metadata": {},
     "output_type": "execute_result"
    },
    {
     "data": {
      "image/png": "[encoded data removed]",
      "text/plain": [
       "<Figure size 432x288 with 1 Axes>"
      ]
     },
     "metadata": {
      "needs_background": "light"
     },
     "output_type": "display_data"
    }
   ],
   "source": [
    "data['Maths'].plot(kind=\"bar\")"
   ]
  },
  {
   "cell_type": "code",
   "execution_count": 17,
   "metadata": {},
   "outputs": [
    {
     "data": {
      "text/plain": [
       "<AxesSubplot:xlabel='Name'>"
      ]
     },
     "execution_count": 17,
     "metadata": {},
     "output_type": "execute_result"
    },
    {
     "data": {
      "image/png": "[encoded data removed]",
      "text/plain": [
       "<Figure size 432x288 with 1 Axes>"
      ]
     },
     "metadata": {
      "needs_background": "light"
     },
     "output_type": "display_data"
    }
   ],
   "source": [
    "data['English'].plot(kind=\"bar\")"
   ]
  },
  {
   "cell_type": "code",
   "execution_count": 18,
   "metadata": {},
   "outputs": [
    {
     "data": {
      "text/plain": [
       "<AxesSubplot:xlabel='Name'>"
      ]
     },
     "execution_count": 18,
     "metadata": {},
     "output_type": "execute_result"
    },
    {
     "data": {
      "image/png": "[encoded data removed]",
      "text/plain": [
       "<Figure size 432x288 with 1 Axes>"
      ]
     },
     "metadata": {
      "needs_background": "light"
     },
     "output_type": "display_data"
    }
   ],
   "source": [
    "data['Science'].plot(kind=\"bar\")"
   ]
  },
  {
   "cell_type": "markdown",
   "metadata": {},
   "source": [
    "### Calculate the percentage of each student stored in marks.txt\n",
    "    and create a new file in which you will store students Name and percentage"
   ]
  },
  {
   "cell_type": "markdown",
   "metadata": {},
   "source": [
    "### Percentage \n",
    "\n",
    "     Date,Topic,Muskan,Surbhi,Suraj,Manish,Arjama,Ritik,Subhodeep,......\n",
    "     02-07-21,FileHandling,P,A,P,P,P,A,A"
   ]
  },
  {
   "cell_type": "markdown",
   "metadata": {},
   "source": [
    "    file = open(\"marks.txt\", 'w')\n",
    "    with --> context manager \n",
    "    with open(\"marks.txt\", \"w\") as file:\n",
    "        s1\n",
    "        s2\n",
    "        "
   ]
  },
  {
   "cell_type": "code",
   "execution_count": 21,
   "metadata": {},
   "outputs": [
    {
     "ename": "ValueError",
     "evalue": "I/O operation on closed file.",
     "output_type": "error",
     "traceback": [
      "\u001b[1;31m---------------------------------------------------------------------------\u001b[0m",
      "\u001b[1;31mValueError\u001b[0m                                Traceback (most recent call last)",
      "\u001b[1;32m<ipython-input-21-74a552864daa>\u001b[0m in \u001b[0;36m<module>\u001b[1;34m\u001b[0m\n\u001b[0;32m      2\u001b[0m     \u001b[0mheader\u001b[0m \u001b[1;33m=\u001b[0m \u001b[1;34m\"Date,Topic\"\u001b[0m\u001b[1;33m\u001b[0m\u001b[1;33m\u001b[0m\u001b[0m\n\u001b[0;32m      3\u001b[0m     \u001b[0mfile\u001b[0m\u001b[1;33m.\u001b[0m\u001b[0mwrite\u001b[0m\u001b[1;33m(\u001b[0m\u001b[0mheader\u001b[0m\u001b[1;33m)\u001b[0m\u001b[1;33m\u001b[0m\u001b[1;33m\u001b[0m\u001b[0m\n\u001b[1;32m----> 4\u001b[1;33m \u001b[0mfile\u001b[0m\u001b[1;33m.\u001b[0m\u001b[0mwrite\u001b[0m\u001b[1;33m(\u001b[0m\u001b[1;34m\"hello\"\u001b[0m\u001b[1;33m)\u001b[0m\u001b[1;33m\u001b[0m\u001b[1;33m\u001b[0m\u001b[0m\n\u001b[0m",
      "\u001b[1;31mValueError\u001b[0m: I/O operation on closed file."
     ]
    }
   ],
   "source": [
    "with open(\"att.csv\", \"w\") as file:\n",
    "    header = \"Date,Topic\"\n",
    "    file.write(header)\n",
    "file.write(\"hello\")"
   ]
  },
  {
   "cell_type": "code",
   "execution_count": 22,
   "metadata": {},
   "outputs": [
    {
     "name": "stdout",
     "output_type": "stream",
     "text": [
      "\n",
      " Enter number of students --> 10\n",
      "\n",
      " Name[1] --> Shreya\n",
      "\n",
      " Name[2] --> Aditi\n",
      "\n",
      " Name[3] --> Ayush\n",
      "\n",
      " Name[4] --> Ritik\n",
      "\n",
      " Name[5] --> Haresh\n",
      "\n",
      " Name[6] --> Arjama\n",
      "\n",
      " Name[7] --> Subhodeep\n",
      "\n",
      " Name[8] --> Manish\n",
      "\n",
      " Name[9] --> Muskan\n",
      "\n",
      " Name[10] --> Aryan\n",
      "Date,Topic,Shreya,Aditi,Ayush,Ritik,Haresh,Arjama,Subhodeep,Manish,Muskan,Aryan\n"
     ]
    }
   ],
   "source": [
    "with open(\"att.csv\", \"w\") as file:\n",
    "    header = \"Date,Topic\"\n",
    "    num = int(input(\"\\n Enter number of students --> \"))\n",
    "    for i in range(1, num+1):\n",
    "        name = input(f\"\\n Name[{i}] --> \")\n",
    "        header += \",\" + name\n",
    "    print(header)\n",
    "    file.write(header)"
   ]
  },
  {
   "cell_type": "code",
   "execution_count": 37,
   "metadata": {},
   "outputs": [],
   "source": [
    "from datetime import datetime"
   ]
  },
  {
   "cell_type": "code",
   "execution_count": 39,
   "metadata": {},
   "outputs": [],
   "source": [
    "now = datetime.now()"
   ]
  },
  {
   "cell_type": "code",
   "execution_count": 41,
   "metadata": {},
   "outputs": [
    {
     "data": {
      "text/plain": [
       "'21'"
      ]
     },
     "execution_count": 41,
     "metadata": {},
     "output_type": "execute_result"
    }
   ],
   "source": [
    "now.strftime(\"%y\")"
   ]
  },
  {
   "cell_type": "code",
   "execution_count": 42,
   "metadata": {},
   "outputs": [
    {
     "data": {
      "text/plain": [
       "'07'"
      ]
     },
     "execution_count": 42,
     "metadata": {},
     "output_type": "execute_result"
    }
   ],
   "source": [
    "now.strftime(\"%m\")"
   ]
  },
  {
   "cell_type": "code",
   "execution_count": 43,
   "metadata": {},
   "outputs": [
    {
     "data": {
      "text/plain": [
       "'02'"
      ]
     },
     "execution_count": 43,
     "metadata": {},
     "output_type": "execute_result"
    }
   ],
   "source": [
    "now.strftime(\"%d\")"
   ]
  },
  {
   "cell_type": "code",
   "execution_count": 44,
   "metadata": {},
   "outputs": [
    {
     "data": {
      "text/plain": [
       "'20:26:40'"
      ]
     },
     "execution_count": 44,
     "metadata": {},
     "output_type": "execute_result"
    }
   ],
   "source": [
    "now.strftime(\"%X\")"
   ]
  },
  {
   "cell_type": "code",
   "execution_count": 45,
   "metadata": {},
   "outputs": [
    {
     "data": {
      "text/plain": [
       "'07/02/21'"
      ]
     },
     "execution_count": 45,
     "metadata": {},
     "output_type": "execute_result"
    }
   ],
   "source": [
    "now.strftime(\"%x\")"
   ]
  },
  {
   "cell_type": "code",
   "execution_count": 47,
   "metadata": {},
   "outputs": [
    {
     "name": "stdout",
     "output_type": "stream",
     "text": [
      "\n",
      " Enter topic for day 07/02/21 --> oops\n",
      "\n",
      " Shreya (P/A) --> p\n",
      "\n",
      " Aditi (P/A) --> p\n",
      "\n",
      " Ayush (P/A) --> a\n",
      "\n",
      " Ritik (P/A) --> p\n",
      "\n",
      " Haresh (P/A) --> a\n",
      "\n",
      " Arjama (P/A) --> p\n",
      "\n",
      " Subhodeep (P/A) --> p\n",
      "\n",
      " Manish (P/A) --> a\n",
      "\n",
      " Muskan (P/A) --> p\n",
      "\n",
      " Aryan (P/A) --> a\n"
     ]
    }
   ],
   "source": [
    "with open('att.csv') as file:\n",
    "    data = file.readline()\n",
    "with open(\"att.csv\", \"a\") as file:\n",
    "    names = data.split(\"\\n\")[0].split(\",\")[2:]\n",
    "    value = \"\\n\"\n",
    "    date = datetime.now().strftime(\"%x\")\n",
    "    topic = input(f\"\\n Enter topic for day {date} --> \")\n",
    "    value += date + \",\" + topic\n",
    "    for i in names:\n",
    "        att = input(f\"\\n {i} (P/A) --> \").strip().upper()\n",
    "        value += \",\" + att\n",
    "    file.write(value)"
   ]
  },
  {
   "cell_type": "code",
   "execution_count": 24,
   "metadata": {},
   "outputs": [
    {
     "name": "stdout",
     "output_type": "stream",
     "text": [
      " Volume in drive C is Windows\n",
      " Volume Serial Number is E08D-DAD9\n",
      "\n",
      " Directory of C:\\batches\\online_batch\\KITBatch3pm\\File_Handling\n",
      "\n",
      "02-07-2021  20:12    <DIR>          .\n",
      "02-07-2021  20:12    <DIR>          ..\n",
      "02-07-2021  19:46    <DIR>          .ipynb_checkpoints\n",
      "30-06-2021  20:58             7,688 1. File_Handling.ipynb\n",
      "02-07-2021  19:48            37,287 2. File_Handling.ipynb\n",
      "02-07-2021  20:12            40,970 3. File_Handling.ipynb\n",
      "02-07-2021  20:11                79 att.csv\n",
      "02-07-2021  19:53               126 marks.txt\n",
      "01-07-2021  20:27                71 names.txt\n",
      "01-07-2021  20:15                 0 one.txt\n",
      "01-07-2021  20:09                 0 simran.txt\n",
      "01-07-2021  20:32                 0 two.txt\n",
      "               9 File(s)         86,221 bytes\n",
      "               3 Dir(s)  37,568,729,088 bytes free\n"
     ]
    }
   ],
   "source": [
    "ls"
   ]
  },
  {
   "cell_type": "code",
   "execution_count": 48,
   "metadata": {},
   "outputs": [
    {
     "name": "stdout",
     "output_type": "stream",
     "text": [
      "\n",
      " Enter topic for day 07/02/21 --> oops\n",
      "\n",
      " Shreya (P/A) --> P\n",
      "\n",
      " Aditi (P/A) --> P\n",
      "\n",
      " Ayush (P/A) --> A\n",
      "\n",
      " Ritik (P/A) --> A\n",
      "\n",
      " Haresh (P/A) --> P\n",
      "\n",
      " Arjama (P/A) --> A\n",
      "\n",
      " Subhodeep (P/A) --> P\n",
      "\n",
      " Manish (P/A) --> A\n",
      "\n",
      " Muskan (P/A) --> P\n",
      "\n",
      " Aryan (P/A) --> A\n"
     ]
    }
   ],
   "source": [
    "def take_att(filename):\n",
    "    with open(filename) as file:\n",
    "        data = file.readline()\n",
    "    with open(filename, \"a\") as file:\n",
    "        names = data.split(\"\\n\")[0].split(\",\")[2:]\n",
    "        value = \"\\n\"\n",
    "        date = datetime.now().strftime(\"%x\")\n",
    "        topic = input(f\"\\n Enter topic for day {date} --> \")\n",
    "        value += date + \",\" + topic\n",
    "        for i in names:\n",
    "            att = input(f\"\\n {i} (P/A) --> \").strip().upper()\n",
    "            value += \",\" + att\n",
    "        file.write(value)\n",
    "        \n",
    "take_att(\"att.csv\")"
   ]
  },
  {
   "cell_type": "code",
   "execution_count": 49,
   "metadata": {},
   "outputs": [],
   "source": [
    "att = pd.read_csv(\"att.csv\")"
   ]
  },
  {
   "cell_type": "code",
   "execution_count": 50,
   "metadata": {},
   "outputs": [
    {
     "data": {
      "text/html": [
       "<div>\n",
       "<style scoped>\n",
       "    .dataframe tbody tr th:only-of-type {\n",
       "        vertical-align: middle;\n",
       "    }\n",
       "\n",
       "    .dataframe tbody tr th {\n",
       "        vertical-align: top;\n",
       "    }\n",
       "\n",
       "    .dataframe thead th {\n",
       "        text-align: right;\n",
       "    }\n",
       "</style>\n",
       "<table border=\"1\" class=\"dataframe\">\n",
       "  <thead>\n",
       "    <tr style=\"text-align: right;\">\n",
       "      <th></th>\n",
       "      <th>Date</th>\n",
       "      <th>Topic</th>\n",
       "      <th>Shreya</th>\n",
       "      <th>Aditi</th>\n",
       "      <th>Ayush</th>\n",
       "      <th>Ritik</th>\n",
       "      <th>Haresh</th>\n",
       "      <th>Arjama</th>\n",
       "      <th>Subhodeep</th>\n",
       "      <th>Manish</th>\n",
       "      <th>Muskan</th>\n",
       "      <th>Aryan</th>\n",
       "    </tr>\n",
       "  </thead>\n",
       "  <tbody>\n",
       "    <tr>\n",
       "      <th>0</th>\n",
       "      <td>07/02/21</td>\n",
       "      <td>oops</td>\n",
       "      <td>P</td>\n",
       "      <td>P</td>\n",
       "      <td>A</td>\n",
       "      <td>P</td>\n",
       "      <td>A</td>\n",
       "      <td>P</td>\n",
       "      <td>P</td>\n",
       "      <td>A</td>\n",
       "      <td>P</td>\n",
       "      <td>A</td>\n",
       "    </tr>\n",
       "    <tr>\n",
       "      <th>1</th>\n",
       "      <td>07/02/21</td>\n",
       "      <td>oops</td>\n",
       "      <td>P</td>\n",
       "      <td>P</td>\n",
       "      <td>A</td>\n",
       "      <td>A</td>\n",
       "      <td>P</td>\n",
       "      <td>A</td>\n",
       "      <td>P</td>\n",
       "      <td>A</td>\n",
       "      <td>P</td>\n",
       "      <td>A</td>\n",
       "    </tr>\n",
       "  </tbody>\n",
       "</table>\n",
       "</div>"
      ],
      "text/plain": [
       "       Date Topic Shreya Aditi Ayush Ritik Haresh Arjama Subhodeep Manish  \\\n",
       "0  07/02/21  oops      P     P     A     P      A      P         P      A   \n",
       "1  07/02/21  oops      P     P     A     A      P      A         P      A   \n",
       "\n",
       "  Muskan Aryan  \n",
       "0      P     A  \n",
       "1      P     A  "
      ]
     },
     "execution_count": 50,
     "metadata": {},
     "output_type": "execute_result"
    }
   ],
   "source": [
    "att.head()"
   ]
  },
  {
   "cell_type": "code",
   "execution_count": 53,
   "metadata": {},
   "outputs": [
    {
     "data": {
      "text/plain": [
       "P    2\n",
       "Name: Shreya, dtype: int64"
      ]
     },
     "execution_count": 53,
     "metadata": {},
     "output_type": "execute_result"
    }
   ],
   "source": [
    "att['Shreya'].value_counts()"
   ]
  },
  {
   "cell_type": "code",
   "execution_count": 59,
   "metadata": {},
   "outputs": [
    {
     "data": {
      "text/plain": [
       "P    1\n",
       "A    1\n",
       "Name: Haresh, dtype: int64"
      ]
     },
     "execution_count": 59,
     "metadata": {},
     "output_type": "execute_result"
    }
   ],
   "source": [
    "att['Haresh'].value_counts()"
   ]
  },
  {
   "cell_type": "code",
   "execution_count": 57,
   "metadata": {},
   "outputs": [
    {
     "data": {
      "text/html": [
       "<div>\n",
       "<style scoped>\n",
       "    .dataframe tbody tr th:only-of-type {\n",
       "        vertical-align: middle;\n",
       "    }\n",
       "\n",
       "    .dataframe tbody tr th {\n",
       "        vertical-align: top;\n",
       "    }\n",
       "\n",
       "    .dataframe thead th {\n",
       "        text-align: right;\n",
       "    }\n",
       "</style>\n",
       "<table border=\"1\" class=\"dataframe\">\n",
       "  <thead>\n",
       "    <tr style=\"text-align: right;\">\n",
       "      <th></th>\n",
       "      <th>0</th>\n",
       "      <th>1</th>\n",
       "    </tr>\n",
       "  </thead>\n",
       "  <tbody>\n",
       "    <tr>\n",
       "      <th>Date</th>\n",
       "      <td>07/02/21</td>\n",
       "      <td>07/02/21</td>\n",
       "    </tr>\n",
       "    <tr>\n",
       "      <th>Topic</th>\n",
       "      <td>oops</td>\n",
       "      <td>oops</td>\n",
       "    </tr>\n",
       "    <tr>\n",
       "      <th>Shreya</th>\n",
       "      <td>P</td>\n",
       "      <td>P</td>\n",
       "    </tr>\n",
       "    <tr>\n",
       "      <th>Aditi</th>\n",
       "      <td>P</td>\n",
       "      <td>P</td>\n",
       "    </tr>\n",
       "    <tr>\n",
       "      <th>Ayush</th>\n",
       "      <td>A</td>\n",
       "      <td>A</td>\n",
       "    </tr>\n",
       "    <tr>\n",
       "      <th>Ritik</th>\n",
       "      <td>P</td>\n",
       "      <td>A</td>\n",
       "    </tr>\n",
       "    <tr>\n",
       "      <th>Haresh</th>\n",
       "      <td>A</td>\n",
       "      <td>P</td>\n",
       "    </tr>\n",
       "    <tr>\n",
       "      <th>Arjama</th>\n",
       "      <td>P</td>\n",
       "      <td>A</td>\n",
       "    </tr>\n",
       "    <tr>\n",
       "      <th>Subhodeep</th>\n",
       "      <td>P</td>\n",
       "      <td>P</td>\n",
       "    </tr>\n",
       "    <tr>\n",
       "      <th>Manish</th>\n",
       "      <td>A</td>\n",
       "      <td>A</td>\n",
       "    </tr>\n",
       "    <tr>\n",
       "      <th>Muskan</th>\n",
       "      <td>P</td>\n",
       "      <td>P</td>\n",
       "    </tr>\n",
       "    <tr>\n",
       "      <th>Aryan</th>\n",
       "      <td>A</td>\n",
       "      <td>A</td>\n",
       "    </tr>\n",
       "  </tbody>\n",
       "</table>\n",
       "</div>"
      ],
      "text/plain": [
       "                  0         1\n",
       "Date       07/02/21  07/02/21\n",
       "Topic          oops      oops\n",
       "Shreya            P         P\n",
       "Aditi             P         P\n",
       "Ayush             A         A\n",
       "Ritik             P         A\n",
       "Haresh            A         P\n",
       "Arjama            P         A\n",
       "Subhodeep         P         P\n",
       "Manish            A         A\n",
       "Muskan            P         P\n",
       "Aryan             A         A"
      ]
     },
     "execution_count": 57,
     "metadata": {},
     "output_type": "execute_result"
    }
   ],
   "source": [
    "att.T"
   ]
  },
  {
   "cell_type": "markdown",
   "metadata": {},
   "source": [
    "### Need to create a function which will take filename as an argument and you need to calculate % of present and absent of the students in file and write those % in another file"
   ]
  },
  {
   "cell_type": "code",
   "execution_count": 60,
   "metadata": {},
   "outputs": [],
   "source": [
    "import os"
   ]
  },
  {
   "cell_type": "code",
   "execution_count": 62,
   "metadata": {},
   "outputs": [
    {
     "data": {
      "text/plain": [
       "'C:\\\\batches\\\\online_batch\\\\KITBatch3pm\\\\File_Handling'"
      ]
     },
     "execution_count": 62,
     "metadata": {},
     "output_type": "execute_result"
    }
   ],
   "source": [
    "os.getcwd()"
   ]
  },
  {
   "cell_type": "code",
   "execution_count": 61,
   "metadata": {},
   "outputs": [
    {
     "data": {
      "text/plain": [
       "['.ipynb_checkpoints',\n",
       " '1. File_Handling.ipynb',\n",
       " '2. File_Handling.ipynb',\n",
       " '3. File_Handling.ipynb',\n",
       " 'att.csv',\n",
       " 'marks.txt',\n",
       " 'names.txt',\n",
       " 'one.txt',\n",
       " 'simran.txt',\n",
       " 'two.txt']"
      ]
     },
     "execution_count": 61,
     "metadata": {},
     "output_type": "execute_result"
    }
   ],
   "source": [
    "os.listdir()\n",
    "#pwd --> listing"
   ]
  },
  {
   "cell_type": "code",
   "execution_count": 63,
   "metadata": {},
   "outputs": [
    {
     "data": {
      "text/plain": [
       "['.ipynb_checkpoints',\n",
       " 'ags9.ipynb',\n",
       " 'Assignment (1).ipynb',\n",
       " 'Assignment (2).ipynb',\n",
       " 'batch1130',\n",
       " 'batch330',\n",
       " 'batch5pm',\n",
       " 'batch630',\n",
       " 'offline_batch',\n",
       " 'online_batch',\n",
       " 'world-schema.sql']"
      ]
     },
     "execution_count": 63,
     "metadata": {},
     "output_type": "execute_result"
    }
   ],
   "source": [
    "os.listdir(\"C:/batches\")"
   ]
  },
  {
   "cell_type": "code",
   "execution_count": 64,
   "metadata": {},
   "outputs": [
    {
     "name": "stdout",
     "output_type": "stream",
     "text": [
      " Volume in drive C is Windows\n",
      " Volume Serial Number is E08D-DAD9\n",
      "\n",
      " Directory of C:\\batches\\online_batch\\KITBatch3pm\\File_Handling\n",
      "\n",
      "02-07-2021  20:33    <DIR>          .\n",
      "02-07-2021  20:33    <DIR>          ..\n",
      "02-07-2021  19:46    <DIR>          .ipynb_checkpoints\n",
      "30-06-2021  20:58             7,688 1. File_Handling.ipynb\n",
      "02-07-2021  19:48            37,287 2. File_Handling.ipynb\n",
      "02-07-2021  20:21            42,717 3. File_Handling.ipynb\n",
      "02-07-2021  20:35               149 att.csv\n",
      "02-07-2021  19:53               126 marks.txt\n",
      "01-07-2021  20:27                71 names.txt\n",
      "01-07-2021  20:15                 0 one.txt\n",
      "01-07-2021  20:09                 0 simran.txt\n",
      "01-07-2021  20:32                 0 two.txt\n",
      "               9 File(s)         88,038 bytes\n",
      "               3 Dir(s)  37,575,143,424 bytes free\n"
     ]
    }
   ],
   "source": [
    "ls"
   ]
  },
  {
   "cell_type": "code",
   "execution_count": 65,
   "metadata": {},
   "outputs": [],
   "source": [
    "os.mkdir(\"one\") # mkdir --> make directory\n",
    "# by default create folder in PWD"
   ]
  },
  {
   "cell_type": "code",
   "execution_count": 66,
   "metadata": {},
   "outputs": [
    {
     "data": {
      "text/plain": [
       "['.ipynb_checkpoints',\n",
       " '1. File_Handling.ipynb',\n",
       " '2. File_Handling.ipynb',\n",
       " '3. File_Handling.ipynb',\n",
       " 'att.csv',\n",
       " 'marks.txt',\n",
       " 'names.txt',\n",
       " 'one',\n",
       " 'one.txt',\n",
       " 'simran.txt',\n",
       " 'two.txt']"
      ]
     },
     "execution_count": 66,
     "metadata": {},
     "output_type": "execute_result"
    }
   ],
   "source": [
    "os.listdir()"
   ]
  },
  {
   "cell_type": "code",
   "execution_count": 67,
   "metadata": {},
   "outputs": [],
   "source": [
    "os.mkdir(\"C:/batches/one\")"
   ]
  },
  {
   "cell_type": "code",
   "execution_count": 68,
   "metadata": {},
   "outputs": [
    {
     "data": {
      "text/plain": [
       "['.ipynb_checkpoints',\n",
       " 'ags9.ipynb',\n",
       " 'Assignment (1).ipynb',\n",
       " 'Assignment (2).ipynb',\n",
       " 'batch1130',\n",
       " 'batch330',\n",
       " 'batch5pm',\n",
       " 'batch630',\n",
       " 'offline_batch',\n",
       " 'one',\n",
       " 'online_batch',\n",
       " 'world-schema.sql']"
      ]
     },
     "execution_count": 68,
     "metadata": {},
     "output_type": "execute_result"
    }
   ],
   "source": [
    "os.listdir(\"C:/batches\")"
   ]
  },
  {
   "cell_type": "code",
   "execution_count": 69,
   "metadata": {},
   "outputs": [],
   "source": [
    "os.rmdir(\"C:/batches/one\") # rmdir --> remove directory"
   ]
  },
  {
   "cell_type": "code",
   "execution_count": 70,
   "metadata": {},
   "outputs": [
    {
     "data": {
      "text/plain": [
       "'C:\\\\batches\\\\online_batch\\\\KITBatch3pm\\\\File_Handling'"
      ]
     },
     "execution_count": 70,
     "metadata": {},
     "output_type": "execute_result"
    }
   ],
   "source": [
    "os.getcwd()"
   ]
  },
  {
   "cell_type": "code",
   "execution_count": 71,
   "metadata": {},
   "outputs": [],
   "source": [
    "os.chdir(\"G:\")"
   ]
  },
  {
   "cell_type": "code",
   "execution_count": 72,
   "metadata": {},
   "outputs": [],
   "source": [
    "os.mkdir(\"folder\")"
   ]
  },
  {
   "cell_type": "code",
   "execution_count": 74,
   "metadata": {},
   "outputs": [
    {
     "data": {
      "text/plain": [
       "'G:\\\\'"
      ]
     },
     "execution_count": 74,
     "metadata": {},
     "output_type": "execute_result"
    }
   ],
   "source": [
    "os.getcwd()"
   ]
  },
  {
   "cell_type": "markdown",
   "metadata": {},
   "source": [
    "    jupyter --> 'C:\\\\batches\\\\online_batch\\\\KITBatch3pm\\\\File_Handling'\n",
    "    working --> G drive"
   ]
  },
  {
   "cell_type": "code",
   "execution_count": 75,
   "metadata": {},
   "outputs": [],
   "source": [
    "os.chdir('C:\\\\batches\\\\online_batch\\\\KITBatch3pm\\\\File_Handling')"
   ]
  },
  {
   "cell_type": "code",
   "execution_count": 76,
   "metadata": {},
   "outputs": [
    {
     "data": {
      "text/plain": [
       "'C:\\\\batches\\\\online_batch\\\\KITBatch3pm\\\\File_Handling'"
      ]
     },
     "execution_count": 76,
     "metadata": {},
     "output_type": "execute_result"
    }
   ],
   "source": [
    "os.getcwd()"
   ]
  },
  {
   "cell_type": "code",
   "execution_count": 77,
   "metadata": {},
   "outputs": [
    {
     "data": {
      "text/plain": [
       "['.ipynb_checkpoints',\n",
       " '1. File_Handling.ipynb',\n",
       " '2. File_Handling.ipynb',\n",
       " '3. File_Handling.ipynb',\n",
       " 'att.csv',\n",
       " 'marks.txt',\n",
       " 'names.txt',\n",
       " 'one',\n",
       " 'one.txt',\n",
       " 'simran.txt',\n",
       " 'two.txt']"
      ]
     },
     "execution_count": 77,
     "metadata": {},
     "output_type": "execute_result"
    }
   ],
   "source": [
    "os.listdir()"
   ]
  },
  {
   "cell_type": "code",
   "execution_count": 78,
   "metadata": {},
   "outputs": [],
   "source": [
    "os.chdir(\"one\")"
   ]
  },
  {
   "cell_type": "code",
   "execution_count": 79,
   "metadata": {},
   "outputs": [
    {
     "name": "stdout",
     "output_type": "stream",
     "text": [
      "Writing file.py\n"
     ]
    }
   ],
   "source": [
    "%%writefile file.py\n",
    "\n",
    "print(\"hello world\")"
   ]
  },
  {
   "cell_type": "code",
   "execution_count": 80,
   "metadata": {},
   "outputs": [
    {
     "data": {
      "text/plain": [
       "'C:\\\\batches\\\\online_batch\\\\KITBatch3pm\\\\File_Handling\\\\one'"
      ]
     },
     "execution_count": 80,
     "metadata": {},
     "output_type": "execute_result"
    }
   ],
   "source": [
    "os.getcwd()"
   ]
  },
  {
   "cell_type": "code",
   "execution_count": 81,
   "metadata": {},
   "outputs": [
    {
     "data": {
      "text/plain": [
       "['file.py']"
      ]
     },
     "execution_count": 81,
     "metadata": {},
     "output_type": "execute_result"
    }
   ],
   "source": [
    "os.listdir()"
   ]
  },
  {
   "cell_type": "markdown",
   "metadata": {},
   "source": [
    "    path --> C:/batches/online_batch"
   ]
  },
  {
   "cell_type": "code",
   "execution_count": 83,
   "metadata": {},
   "outputs": [
    {
     "data": {
      "text/plain": [
       "True"
      ]
     },
     "execution_count": 83,
     "metadata": {},
     "output_type": "execute_result"
    }
   ],
   "source": [
    "os.path.isdir(\"C:/batches\")"
   ]
  },
  {
   "cell_type": "code",
   "execution_count": 84,
   "metadata": {},
   "outputs": [
    {
     "data": {
      "text/plain": [
       "False"
      ]
     },
     "execution_count": 84,
     "metadata": {},
     "output_type": "execute_result"
    }
   ],
   "source": [
    "os.path.isdir(\"C:/batches/online_batch/log.py\")"
   ]
  },
  {
   "cell_type": "code",
   "execution_count": 85,
   "metadata": {},
   "outputs": [
    {
     "data": {
      "text/plain": [
       "True"
      ]
     },
     "execution_count": 85,
     "metadata": {},
     "output_type": "execute_result"
    }
   ],
   "source": [
    "os.path.isfile(\"C:/batches/online_batch/log.py\")"
   ]
  },
  {
   "cell_type": "code",
   "execution_count": 87,
   "metadata": {},
   "outputs": [
    {
     "data": {
      "text/plain": [
       "False"
      ]
     },
     "execution_count": 87,
     "metadata": {},
     "output_type": "execute_result"
    }
   ],
   "source": [
    "os.path.isfile(\"C:/batches\")"
   ]
  },
  {
   "cell_type": "code",
   "execution_count": 88,
   "metadata": {},
   "outputs": [
    {
     "data": {
      "text/plain": [
       "False"
      ]
     },
     "execution_count": 88,
     "metadata": {},
     "output_type": "execute_result"
    }
   ],
   "source": [
    "os.path.isfile(\"C:/batches/simrangrover.txt\")\n",
    "# path is existing or not \n",
    "# if path is existing and it is a file then it will true"
   ]
  },
  {
   "cell_type": "code",
   "execution_count": 90,
   "metadata": {},
   "outputs": [
    {
     "data": {
      "text/plain": [
       "False"
      ]
     },
     "execution_count": 90,
     "metadata": {},
     "output_type": "execute_result"
    }
   ],
   "source": [
    "os.path.isdir(\"C:/batches/dirdir\")"
   ]
  },
  {
   "cell_type": "code",
   "execution_count": 91,
   "metadata": {},
   "outputs": [
    {
     "data": {
      "text/plain": [
       "True"
      ]
     },
     "execution_count": 91,
     "metadata": {},
     "output_type": "execute_result"
    }
   ],
   "source": [
    "os.path.exists(\"C:/batches\")"
   ]
  },
  {
   "cell_type": "code",
   "execution_count": 92,
   "metadata": {},
   "outputs": [
    {
     "data": {
      "text/plain": [
       "False"
      ]
     },
     "execution_count": 92,
     "metadata": {},
     "output_type": "execute_result"
    }
   ],
   "source": [
    "os.path.exists(\"C:/batches/simran.txt\")"
   ]
  },
  {
   "cell_type": "code",
   "execution_count": null,
   "metadata": {},
   "outputs": [],
   "source": []
  }
 ],
 "metadata": {
  "kernelspec": {
   "display_name": "Python 3",
   "language": "python",
   "name": "python3"
  },
  "language_info": {
   "codemirror_mode": {
    "name": "ipython",
    "version": 3
   },
   "file_extension": ".py",
   "mimetype": "text/x-python",
   "name": "python",
   "nbconvert_exporter": "python",
   "pygments_lexer": "ipython3",
   "version": "3.8.5"
  }
 },
 "nbformat": 4,
 "nbformat_minor": 4
}
