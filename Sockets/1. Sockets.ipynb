{
 "cells": [
  {
   "cell_type": "markdown",
   "metadata": {},
   "source": [
    "    Sockets --> interface (connecting 2 things)\n",
    "    \n",
    "        Sockets --> Transport layer (OSI model)\n",
    "        \n",
    "        \n",
    "        Network --> Multiple Devices connected to each other then a form network\n",
    "        \n",
    "        \n",
    "            Intranet \n",
    "                Private network --> The systems connected are in same network \n",
    "            Internet\n",
    "                Public Network --> Which connects the system in different network\n",
    "                \n",
    "                \n",
    "        ISP --> Internet Service Provider \n",
    "            Airtel, Jio, Idea etc \n",
    "            \n",
    "            IP --> Internet Protocol\n",
    "            \n",
    "                Every system is idetified by its unique IP\n",
    "                \n",
    "                \n",
    "                google.com --> domain --> only for humans\n",
    "                facebook.com\n",
    "                \n",
    "                Actually these domains have specific public IPs of their server \n",
    "                DNS --> Domain Name Server --> Domains --> IP\n",
    "                DNS --> 8.8.8.8"
   ]
  },
  {
   "cell_type": "code",
   "execution_count": 1,
   "metadata": {},
   "outputs": [
    {
     "name": "stdout",
     "output_type": "stream",
     "text": [
      "\n",
      "Windows IP Configuration\n",
      "\n",
      "\n",
      "Ethernet adapter Ethernet 2:\n",
      "\n",
      "   Media State . . . . . . . . . . . : Media disconnected\n",
      "   Connection-specific DNS Suffix  . : \n",
      "\n",
      "Ethernet adapter Npcap Loopback Adapter:\n",
      "\n",
      "   Connection-specific DNS Suffix  . : \n",
      "   Link-local IPv6 Address . . . . . : fe80::10f8:f6c5:c6b3:1ddf%9\n",
      "   Autoconfiguration IPv4 Address. . : 169.254.29.223\n",
      "   Subnet Mask . . . . . . . . . . . : 255.255.0.0\n",
      "   Default Gateway . . . . . . . . . : \n",
      "\n",
      "Wireless LAN adapter Local Area Connection* 1:\n",
      "\n",
      "   Media State . . . . . . . . . . . : Media disconnected\n",
      "   Connection-specific DNS Suffix  . : \n",
      "\n",
      "Wireless LAN adapter Local Area Connection* 11:\n",
      "\n",
      "   Media State . . . . . . . . . . . : Media disconnected\n",
      "   Connection-specific DNS Suffix  . : \n",
      "\n",
      "Ethernet adapter VMware Network Adapter VMnet1:\n",
      "\n",
      "   Connection-specific DNS Suffix  . : \n",
      "   Link-local IPv6 Address . . . . . : fe80::34b9:61ee:aa27:4ae6%14\n",
      "   IPv4 Address. . . . . . . . . . . : 192.168.226.1\n",
      "   Subnet Mask . . . . . . . . . . . : 255.255.255.0\n",
      "   Default Gateway . . . . . . . . . : \n",
      "\n",
      "Ethernet adapter VMware Network Adapter VMnet8:\n",
      "\n",
      "   Connection-specific DNS Suffix  . : \n",
      "   Link-local IPv6 Address . . . . . : fe80::d77:b06d:dcb4:49db%5\n",
      "   IPv4 Address. . . . . . . . . . . : 192.168.116.1\n",
      "   Subnet Mask . . . . . . . . . . . : 255.255.255.0\n",
      "   Default Gateway . . . . . . . . . : \n",
      "\n",
      "Wireless LAN adapter Wi-Fi:\n",
      "\n",
      "   Connection-specific DNS Suffix  . : \n",
      "   IPv6 Address. . . . . . . . . . . : 2402:e280:2307:37e:b538:c1a0:3b6c:d403\n",
      "   Temporary IPv6 Address. . . . . . : 2402:e280:2307:37e:6818:5a22:add6:7e43\n",
      "   Link-local IPv6 Address . . . . . : fe80::b538:c1a0:3b6c:d403%10\n",
      "   IPv4 Address. . . . . . . . . . . : 192.168.1.7\n",
      "   Subnet Mask . . . . . . . . . . . : 255.255.255.0\n",
      "   Default Gateway . . . . . . . . . : fe80::1%10\n",
      "                                       192.168.1.254\n",
      "\n",
      "Ethernet adapter Bluetooth Network Connection:\n",
      "\n",
      "   Media State . . . . . . . . . . . : Media disconnected\n",
      "   Connection-specific DNS Suffix  . : \n"
     ]
    }
   ],
   "source": [
    "!ipconfig"
   ]
  },
  {
   "cell_type": "markdown",
   "metadata": {},
   "source": [
    "    Public IP\n",
    "    Private IP\n",
    "    TCP\n",
    "    UDP\n",
    "    OSI\n",
    "    Different IPS"
   ]
  },
  {
   "cell_type": "markdown",
   "metadata": {},
   "source": [
    " "
   ]
  }
 ],
 "metadata": {
  "kernelspec": {
   "display_name": "Python 3",
   "language": "python",
   "name": "python3"
  },
  "language_info": {
   "codemirror_mode": {
    "name": "ipython",
    "version": 3
   },
   "file_extension": ".py",
   "mimetype": "text/x-python",
   "name": "python",
   "nbconvert_exporter": "python",
   "pygments_lexer": "ipython3",
   "version": "3.8.5"
  }
 },
 "nbformat": 4,
 "nbformat_minor": 4
}
