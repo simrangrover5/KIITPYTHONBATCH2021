{
 "cells": [
  {
   "cell_type": "code",
   "execution_count": 9,
   "metadata": {},
   "outputs": [
    {
     "name": "stdout",
     "output_type": "stream",
     "text": [
      "Overwriting server.py\n"
     ]
    }
   ],
   "source": [
    "%%writefile server.py\n",
    "\n",
    "\n",
    "import socket\n",
    "\n",
    "server = socket.socket(socket.AF_INET, socket.SOCK_STREAM)  # AF_INET --> IPv4, sock_stream --> TCP\n",
    "\n",
    "host = \"192.168.1.7\"\n",
    "port = 12345\n",
    "\n",
    "server.bind((host, port))\n",
    "server.listen()\n",
    "\n",
    "print(f\"\\n Server is ready to listen at host {host} and port {port}\")\n",
    "\n",
    "client_socket, client_addr = server.accept()\n",
    "print(f\"\\n The client is running IP --> {client_addr[0]} and PORT --> {client_addr[1]}\")\n",
    "\n",
    "client_socket.send(\"YOU REQUEST IS ACCEPTED\".encode())\n",
    "\n",
    "msg = client_socket.recv(1024).decode()\n",
    "print(f\"\\n MESSAGE --> {msg}\")"
   ]
  },
  {
   "cell_type": "code",
   "execution_count": 8,
   "metadata": {},
   "outputs": [
    {
     "name": "stdout",
     "output_type": "stream",
     "text": [
      "Overwriting client.py\n"
     ]
    }
   ],
   "source": [
    "%%writefile client.py\n",
    "\n",
    "import socket\n",
    "\n",
    "client = socket.socket(socket.AF_INET, socket.SOCK_STREAM)  # AF_INET --> IPv4, sock_stream --> TCP\n",
    "\n",
    "host = input(\"\\n Enter Server Ip --> \") # server IP and port\n",
    "port = int(input(\"\\n Enter Server Port --> \"))\n",
    "\n",
    "client.connect((host, port))\n",
    "\n",
    "msg = client.recv(1024).decode()\n",
    "print(\"\\n MESSAGE --> \", msg)\n",
    "\n",
    "client.send(\"THANKYOUR FOR ACCEPTING MY REQUEST\".encode())"
   ]
  },
  {
   "cell_type": "code",
   "execution_count": 6,
   "metadata": {},
   "outputs": [
    {
     "data": {
      "text/plain": [
       "b'hello'"
      ]
     },
     "execution_count": 6,
     "metadata": {},
     "output_type": "execute_result"
    }
   ],
   "source": [
    "\"hello\".encode()"
   ]
  },
  {
   "cell_type": "code",
   "execution_count": 7,
   "metadata": {},
   "outputs": [
    {
     "data": {
      "text/plain": [
       "'hello'"
      ]
     },
     "execution_count": 7,
     "metadata": {},
     "output_type": "execute_result"
    }
   ],
   "source": [
    "b'hello'.decode()"
   ]
  },
  {
   "cell_type": "code",
   "execution_count": 25,
   "metadata": {},
   "outputs": [
    {
     "name": "stdout",
     "output_type": "stream",
     "text": [
      "Overwriting server_chat.py\n"
     ]
    }
   ],
   "source": [
    "%%writefile server_chat.py\n",
    "\n",
    "import socket\n",
    "\n",
    "server = socket.socket(socket.AF_INET, socket.SOCK_STREAM)  # AF_INET --> IPv4, sock_stream --> TCP\n",
    "\n",
    "host = \"192.168.1.7\"\n",
    "port = 12345\n",
    "\n",
    "server.bind((host, port))\n",
    "server.listen()\n",
    "\n",
    "print(f\"\\n Server is ready to listen at host {host} and port {port}\")\n",
    "\n",
    "client_socket, client_addr = server.accept()\n",
    "print(f\"\\n The client is running IP --> {client_addr[0]} and PORT --> {client_addr[1]}\")\n",
    "\n",
    "client_socket.send(\"YOU REQUEST IS ACCEPTED\".encode())\n",
    "\n",
    "msg = client_socket.recv(1024).decode()\n",
    "print(f\"\\n CLIENT --> {msg}\")\n",
    "\n",
    "bye_cond = ['bye', 'byebye', 'bubye', 'tata', 'see you', 'talk to you later']\n",
    "flag = False\n",
    "while True:\n",
    "    # this code is to send msg from server to client\n",
    "    smsg = input(\"\\n SERVER --> \".ljust(50))\n",
    "    client_socket.send(smsg.encode())\n",
    "    for i in bye_cond: # i = \"bye\"\n",
    "        if i in smsg.strip().lower():  # 'bye' in 'okay bye'\n",
    "            print(\"\\n SERVER DISCONNECTED...\")\n",
    "            flag = True\n",
    "            break\n",
    "\n",
    "    if flag:\n",
    "        break\n",
    "    # this code is to receive msg from client\n",
    "    cmsg = client_socket.recv(1024).decode()\n",
    "    print(f\"\\n CLIENT --> {cmsg}\")\n",
    "    for i in bye_cond: # i = \"bye\"\n",
    "        if i in cmsg.strip().lower():  # 'bye' in 'okay bye'\n",
    "            print(\"\\n CLIENT DISCONNECTED...\")\n",
    "            flag = True\n",
    "            break\n",
    "    if flag:\n",
    "        break"
   ]
  },
  {
   "cell_type": "code",
   "execution_count": 24,
   "metadata": {},
   "outputs": [
    {
     "name": "stdout",
     "output_type": "stream",
     "text": [
      "Overwriting client_chat.py\n"
     ]
    }
   ],
   "source": [
    "%%writefile client_chat.py\n",
    "\n",
    "import socket\n",
    "\n",
    "client = socket.socket(socket.AF_INET, socket.SOCK_STREAM)  # AF_INET --> IPv4, sock_stream --> TCP\n",
    "\n",
    "host = input(\"\\n Enter Server Ip --> \") # server IP and port\n",
    "port = int(input(\"\\n Enter Server Port --> \"))\n",
    "\n",
    "client.connect((host, port))\n",
    "\n",
    "msg = client.recv(1024).decode()\n",
    "print(f\"\\n SERVER --> {msg}\")\n",
    "\n",
    "client.send(\"THANKYOU FOR ACCEPTING MY REQUEST\".encode())\n",
    "bye_cond = ['bye', 'byebye', 'bubye', 'tata', 'see you', 'talk to you later']\n",
    "flag = False\n",
    "while True:\n",
    "    # code to receive message from server\n",
    "    smsg = client.recv(1024).decode()\n",
    "    print(f\"\\n SERVER --> {smsg}\")\n",
    "    for i in bye_cond:\n",
    "        if i in smsg.strip().lower():\n",
    "            print(\"\\n SERVER DISCONNECTED...\")\n",
    "            flag = True\n",
    "            break\n",
    "    if flag:\n",
    "        break\n",
    "    # code to send message to server\n",
    "    cmsg = input(\"\\n CLIENT --> \".ljust(50))\n",
    "    client.send(cmsg.encode())\n",
    "    for i in bye_cond:\n",
    "        if i in cmsg.strip().lower():\n",
    "            print(\"\\n CLIENT DISCONNECTED...\")\n",
    "            flag = True\n",
    "            break\n",
    "    if flag:\n",
    "        break"
   ]
  },
  {
   "cell_type": "markdown",
   "metadata": {},
   "source": [
    "    hi bye\n",
    "    okay bye\n",
    "    okay see you later\n",
    "    "
   ]
  },
  {
   "cell_type": "markdown",
   "metadata": {},
   "source": [
    "#### WORK FROM HOME \n",
    "\n",
    "    FILE SHARING \n",
    "    \n",
    "        SERVER                     CLIENT\n",
    "        \n",
    "        request for file <-------\n",
    "        \n",
    "                        -------> Send the file to the client"
   ]
  },
  {
   "cell_type": "code",
   "execution_count": 27,
   "metadata": {},
   "outputs": [
    {
     "data": {
      "text/plain": [
       "b'\\xff\\xfeh\\x00e\\x00l\\x00l\\x00o\\x00'"
      ]
     },
     "execution_count": 27,
     "metadata": {},
     "output_type": "execute_result"
    }
   ],
   "source": [
    "\"hello\".encode(\"UTF-16\")"
   ]
  },
  {
   "cell_type": "code",
   "execution_count": 28,
   "metadata": {},
   "outputs": [],
   "source": [
    "### passlib and cryptography"
   ]
  },
  {
   "cell_type": "code",
   "execution_count": 31,
   "metadata": {},
   "outputs": [],
   "source": [
    "import passlib.hash"
   ]
  },
  {
   "cell_type": "code",
   "execution_count": 32,
   "metadata": {},
   "outputs": [
    {
     "name": "stdout",
     "output_type": "stream",
     "text": [
      "['__class__', '__delattr__', '__dict__', '__dir__', '__doc__', '__eq__', '__format__', '__ge__', '__getattr__', '__getattribute__', '__gt__', '__hash__', '__init__', '__init_subclass__', '__le__', '__lt__', '__module__', '__name__', '__ne__', '__new__', '__package__', '__reduce__', '__reduce_ex__', '__repr__', '__setattr__', '__sizeof__', '__str__', '__subclasshook__', '__weakref__', 'apr_md5_crypt', 'argon2', 'atlassian_pbkdf2_sha1', 'bcrypt', 'bcrypt_sha256', 'bigcrypt', 'bsd_nthash', 'bsdi_crypt', 'cisco_asa', 'cisco_pix', 'cisco_type7', 'crypt16', 'cta_pbkdf2_sha1', 'des_crypt', 'django_argon2', 'django_bcrypt', 'django_bcrypt_sha256', 'django_des_crypt', 'django_disabled', 'django_pbkdf2_sha1', 'django_pbkdf2_sha256', 'django_salted_md5', 'django_salted_sha1', 'dlitz_pbkdf2_sha1', 'fshp', 'grub_pbkdf2_sha512', 'hex_md4', 'hex_md5', 'hex_sha1', 'hex_sha256', 'hex_sha512', 'htdigest', 'ldap_bcrypt', 'ldap_bsdi_crypt', 'ldap_des_crypt', 'ldap_hex_md5', 'ldap_hex_sha1', 'ldap_md5', 'ldap_md5_crypt', 'ldap_pbkdf2_sha1', 'ldap_pbkdf2_sha256', 'ldap_pbkdf2_sha512', 'ldap_plaintext', 'ldap_salted_md5', 'ldap_salted_sha1', 'ldap_salted_sha256', 'ldap_salted_sha512', 'ldap_sha1', 'ldap_sha1_crypt', 'ldap_sha256_crypt', 'ldap_sha512_crypt', 'lmhash', 'md5_crypt', 'msdcc', 'msdcc2', 'mssql2000', 'mssql2005', 'mysql323', 'mysql41', 'nthash', 'oracle10', 'oracle11', 'pbkdf2_sha1', 'pbkdf2_sha256', 'pbkdf2_sha512', 'phpass', 'plaintext', 'postgres_md5', 'roundup_plaintext', 'scram', 'scrypt', 'sha1_crypt', 'sha256_crypt', 'sha512_crypt', 'sun_md5_crypt', 'unix_disabled', 'unix_fallback']\n"
     ]
    }
   ],
   "source": [
    "print(dir(passlib.hash))"
   ]
  },
  {
   "cell_type": "code",
   "execution_count": 34,
   "metadata": {},
   "outputs": [],
   "source": [
    "from passlib.hash import pbkdf2_sha256 as sha"
   ]
  },
  {
   "cell_type": "code",
   "execution_count": 37,
   "metadata": {},
   "outputs": [
    {
     "data": {
      "text/plain": [
       "'$pbkdf2-sha256$29000$O2dsjdG69x4jZAxhTEnpnQ$rEzKUAdwDwsGG5SLKk3XVMw13dFB.gRhqP.X/PDd7bs'"
      ]
     },
     "execution_count": 37,
     "metadata": {},
     "output_type": "execute_result"
    }
   ],
   "source": [
    "sha.hash(\"hello\")"
   ]
  },
  {
   "cell_type": "code",
   "execution_count": 39,
   "metadata": {},
   "outputs": [
    {
     "name": "stderr",
     "output_type": "stream",
     "text": [
      "<ipython-input-39-71f2666c820f>:1: DeprecationWarning: the method passlib.handlers.pbkdf2.pbkdf2_sha256.encrypt() is deprecated as of Passlib 1.7, and will be removed in Passlib 2.0, use .hash() instead.\n",
      "  sha.encrypt(\"hello\")\n"
     ]
    },
    {
     "data": {
      "text/plain": [
       "'$pbkdf2-sha256$29000$XQsh5BxjzJkTAiAkRKjV2g$vS89d0fWrg.bMGjFp8Tyh/kCRp.MrCWAB0.45r1ITxs'"
      ]
     },
     "execution_count": 39,
     "metadata": {},
     "output_type": "execute_result"
    }
   ],
   "source": [
    "sha.encrypt(\"hello\")"
   ]
  },
  {
   "cell_type": "code",
   "execution_count": 40,
   "metadata": {},
   "outputs": [
    {
     "data": {
      "text/plain": [
       "True"
      ]
     },
     "execution_count": 40,
     "metadata": {},
     "output_type": "execute_result"
    }
   ],
   "source": [
    "sha.verify(\"hello\", '$pbkdf2-sha256$29000$XQsh5BxjzJkTAiAkRKjV2g$vS89d0fWrg.bMGjFp8Tyh/kCRp.MrCWAB0.45r1ITxs')"
   ]
  },
  {
   "cell_type": "code",
   "execution_count": 38,
   "metadata": {},
   "outputs": [],
   "source": [
    "# cryptography"
   ]
  },
  {
   "cell_type": "code",
   "execution_count": 41,
   "metadata": {},
   "outputs": [],
   "source": [
    "from cryptography import fernet"
   ]
  },
  {
   "cell_type": "code",
   "execution_count": 42,
   "metadata": {},
   "outputs": [
    {
     "name": "stdout",
     "output_type": "stream",
     "text": [
      "['Cipher', 'Fernet', 'HMAC', 'InvalidSignature', 'InvalidToken', 'MultiFernet', '_MAX_CLOCK_SKEW', '__builtins__', '__cached__', '__doc__', '__file__', '__loader__', '__name__', '__package__', '__spec__', '_get_backend', 'absolute_import', 'algorithms', 'base64', 'binascii', 'division', 'hashes', 'modes', 'os', 'padding', 'print_function', 'six', 'struct', 'time', 'utils']\n"
     ]
    }
   ],
   "source": [
    "print(dir(fernet))"
   ]
  },
  {
   "cell_type": "code",
   "execution_count": 43,
   "metadata": {},
   "outputs": [],
   "source": [
    "from cryptography.fernet import Fernet"
   ]
  },
  {
   "cell_type": "code",
   "execution_count": 44,
   "metadata": {},
   "outputs": [
    {
     "name": "stdout",
     "output_type": "stream",
     "text": [
      "['__class__', '__delattr__', '__dict__', '__dir__', '__doc__', '__eq__', '__format__', '__ge__', '__getattribute__', '__gt__', '__hash__', '__init__', '__init_subclass__', '__le__', '__lt__', '__module__', '__ne__', '__new__', '__reduce__', '__reduce_ex__', '__repr__', '__setattr__', '__sizeof__', '__str__', '__subclasshook__', '__weakref__', '_decrypt_data', '_encrypt_from_parts', '_get_unverified_token_data', '_verify_signature', 'decrypt', 'decrypt_at_time', 'encrypt', 'encrypt_at_time', 'extract_timestamp', 'generate_key']\n"
     ]
    }
   ],
   "source": [
    "print(dir(Fernet))"
   ]
  },
  {
   "cell_type": "code",
   "execution_count": 51,
   "metadata": {},
   "outputs": [
    {
     "data": {
      "text/plain": [
       "b'hello'"
      ]
     },
     "execution_count": 51,
     "metadata": {},
     "output_type": "execute_result"
    }
   ],
   "source": [
    "key = Fernet.generate_key()\n",
    "enc = Fernet(key)\n",
    "cipher = enc.encrypt(b\"hello\")\n",
    "enc.decrypt(cipher)"
   ]
  },
  {
   "cell_type": "code",
   "execution_count": null,
   "metadata": {},
   "outputs": [],
   "source": []
  }
 ],
 "metadata": {
  "kernelspec": {
   "display_name": "Python 3",
   "language": "python",
   "name": "python3"
  },
  "language_info": {
   "codemirror_mode": {
    "name": "ipython",
    "version": 3
   },
   "file_extension": ".py",
   "mimetype": "text/x-python",
   "name": "python",
   "nbconvert_exporter": "python",
   "pygments_lexer": "ipython3",
   "version": "3.8.5"
  }
 },
 "nbformat": 4,
 "nbformat_minor": 4
}
