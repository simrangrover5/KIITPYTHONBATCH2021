{
 "cells": [
  {
   "cell_type": "markdown",
   "metadata": {},
   "source": [
    "    SMTP --> Simple Mail Transfer Protocol\n",
    "             Send mail using this as intermediater \n",
    "             \n",
    "             \n",
    "             We need to send mail safe and secure \n",
    "             \n",
    "             Host --> smtp.gmail.com\n",
    "             SSL --> Secure Socket Layer --> 465\n",
    "             TLS --> Transport Layer Security --> 587\n",
    "             \n",
    "             \n",
    "             https --> http + s(ssl)\n",
    "             \n",
    "             \n",
    "         Steps to send mail \n",
    "         \n",
    "             1. Connect to host and port\n",
    "                 host depends on the mail server you are using and port depends on the layer\n",
    "             2. Login into your account (mail, password)\n",
    "             3. Send Mail"
   ]
  },
  {
   "cell_type": "code",
   "execution_count": 1,
   "metadata": {},
   "outputs": [],
   "source": [
    "import smtplib"
   ]
  },
  {
   "cell_type": "code",
   "execution_count": 2,
   "metadata": {},
   "outputs": [
    {
     "name": "stdout",
     "output_type": "stream",
     "text": [
      "['CRLF', 'LMTP', 'LMTP_PORT', 'OLDSTYLE_AUTH', 'SMTP', 'SMTPAuthenticationError', 'SMTPConnectError', 'SMTPDataError', 'SMTPException', 'SMTPHeloError', 'SMTPNotSupportedError', 'SMTPRecipientsRefused', 'SMTPResponseException', 'SMTPSenderRefused', 'SMTPServerDisconnected', 'SMTP_PORT', 'SMTP_SSL', 'SMTP_SSL_PORT', '_MAXLINE', '__all__', '__builtins__', '__cached__', '__doc__', '__file__', '__loader__', '__name__', '__package__', '__spec__', '_addr_only', '_fix_eols', '_have_ssl', '_quote_periods', 'bCRLF', 'base64', 'copy', 'datetime', 'email', 'encode_base64', 'hmac', 'io', 'quoteaddr', 'quotedata', 're', 'socket', 'ssl', 'sys']\n"
     ]
    }
   ],
   "source": [
    "print(dir(smtplib))"
   ]
  },
  {
   "cell_type": "code",
   "execution_count": 3,
   "metadata": {},
   "outputs": [],
   "source": [
    "import ssl # optional "
   ]
  },
  {
   "cell_type": "code",
   "execution_count": 4,
   "metadata": {},
   "outputs": [
    {
     "name": "stdout",
     "output_type": "stream",
     "text": [
      "['AF_INET', 'ALERT_DESCRIPTION_ACCESS_DENIED', 'ALERT_DESCRIPTION_BAD_CERTIFICATE', 'ALERT_DESCRIPTION_BAD_CERTIFICATE_HASH_VALUE', 'ALERT_DESCRIPTION_BAD_CERTIFICATE_STATUS_RESPONSE', 'ALERT_DESCRIPTION_BAD_RECORD_MAC', 'ALERT_DESCRIPTION_CERTIFICATE_EXPIRED', 'ALERT_DESCRIPTION_CERTIFICATE_REVOKED', 'ALERT_DESCRIPTION_CERTIFICATE_UNKNOWN', 'ALERT_DESCRIPTION_CERTIFICATE_UNOBTAINABLE', 'ALERT_DESCRIPTION_CLOSE_NOTIFY', 'ALERT_DESCRIPTION_DECODE_ERROR', 'ALERT_DESCRIPTION_DECOMPRESSION_FAILURE', 'ALERT_DESCRIPTION_DECRYPT_ERROR', 'ALERT_DESCRIPTION_HANDSHAKE_FAILURE', 'ALERT_DESCRIPTION_ILLEGAL_PARAMETER', 'ALERT_DESCRIPTION_INSUFFICIENT_SECURITY', 'ALERT_DESCRIPTION_INTERNAL_ERROR', 'ALERT_DESCRIPTION_NO_RENEGOTIATION', 'ALERT_DESCRIPTION_PROTOCOL_VERSION', 'ALERT_DESCRIPTION_RECORD_OVERFLOW', 'ALERT_DESCRIPTION_UNEXPECTED_MESSAGE', 'ALERT_DESCRIPTION_UNKNOWN_CA', 'ALERT_DESCRIPTION_UNKNOWN_PSK_IDENTITY', 'ALERT_DESCRIPTION_UNRECOGNIZED_NAME', 'ALERT_DESCRIPTION_UNSUPPORTED_CERTIFICATE', 'ALERT_DESCRIPTION_UNSUPPORTED_EXTENSION', 'ALERT_DESCRIPTION_USER_CANCELLED', 'AlertDescription', 'CERT_NONE', 'CERT_OPTIONAL', 'CERT_REQUIRED', 'CHANNEL_BINDING_TYPES', 'CertificateError', 'DER_cert_to_PEM_cert', 'DefaultVerifyPaths', 'HAS_ALPN', 'HAS_ECDH', 'HAS_NEVER_CHECK_COMMON_NAME', 'HAS_NPN', 'HAS_SNI', 'HAS_SSLv2', 'HAS_SSLv3', 'HAS_TLSv1', 'HAS_TLSv1_1', 'HAS_TLSv1_2', 'HAS_TLSv1_3', 'MemoryBIO', 'OPENSSL_VERSION', 'OPENSSL_VERSION_INFO', 'OPENSSL_VERSION_NUMBER', 'OP_ALL', 'OP_CIPHER_SERVER_PREFERENCE', 'OP_ENABLE_MIDDLEBOX_COMPAT', 'OP_NO_COMPRESSION', 'OP_NO_RENEGOTIATION', 'OP_NO_SSLv2', 'OP_NO_SSLv3', 'OP_NO_TICKET', 'OP_NO_TLSv1', 'OP_NO_TLSv1_1', 'OP_NO_TLSv1_2', 'OP_NO_TLSv1_3', 'OP_SINGLE_DH_USE', 'OP_SINGLE_ECDH_USE', 'Options', 'PEM_FOOTER', 'PEM_HEADER', 'PEM_cert_to_DER_cert', 'PROTOCOL_SSLv23', 'PROTOCOL_TLS', 'PROTOCOL_TLS_CLIENT', 'PROTOCOL_TLS_SERVER', 'PROTOCOL_TLSv1', 'PROTOCOL_TLSv1_1', 'PROTOCOL_TLSv1_2', 'Purpose', 'RAND_add', 'RAND_bytes', 'RAND_pseudo_bytes', 'RAND_status', 'SOCK_STREAM', 'SOL_SOCKET', 'SO_TYPE', 'SSLCertVerificationError', 'SSLContext', 'SSLEOFError', 'SSLError', 'SSLErrorNumber', 'SSLObject', 'SSLSession', 'SSLSocket', 'SSLSyscallError', 'SSLWantReadError', 'SSLWantWriteError', 'SSLZeroReturnError', 'SSL_ERROR_EOF', 'SSL_ERROR_INVALID_ERROR_CODE', 'SSL_ERROR_SSL', 'SSL_ERROR_SYSCALL', 'SSL_ERROR_WANT_CONNECT', 'SSL_ERROR_WANT_READ', 'SSL_ERROR_WANT_WRITE', 'SSL_ERROR_WANT_X509_LOOKUP', 'SSL_ERROR_ZERO_RETURN', 'TLSVersion', 'VERIFY_CRL_CHECK_CHAIN', 'VERIFY_CRL_CHECK_LEAF', 'VERIFY_DEFAULT', 'VERIFY_X509_STRICT', 'VERIFY_X509_TRUSTED_FIRST', 'VerifyFlags', 'VerifyMode', '_ASN1Object', '_DEFAULT_CIPHERS', '_Enum', '_IntEnum', '_IntFlag', '_OPENSSL_API_VERSION', '_PROTOCOL_NAMES', '_RESTRICTED_SERVER_CIPHERS', '_SSLContext', '_SSLMethod', '_SSLv2_IF_EXISTS', '_TLSAlertType', '_TLSContentType', '_TLSMessageType', '__builtins__', '__cached__', '__doc__', '__file__', '__loader__', '__name__', '__package__', '__spec__', '_create_default_https_context', '_create_stdlib_context', '_create_unverified_context', '_dnsname_match', '_inet_paton', '_ipaddress_match', '_nid2obj', '_socket', '_ssl', '_sslcopydoc', '_txt2obj', 'base64', 'cert_time_to_seconds', 'create_connection', 'create_default_context', 'enum_certificates', 'enum_crls', 'errno', 'get_default_verify_paths', 'get_protocol_name', 'get_server_certificate', 'match_hostname', 'namedtuple', 'os', 'socket', 'socket_error', 'sys', 'warnings', 'wrap_socket']\n"
     ]
    }
   ],
   "source": [
    "print(dir(ssl))"
   ]
  },
  {
   "cell_type": "code",
   "execution_count": 5,
   "metadata": {},
   "outputs": [
    {
     "name": "stdout",
     "output_type": "stream",
     "text": [
      "\n",
      " Enter your password : ········\n"
     ]
    }
   ],
   "source": [
    "import smtplib\n",
    "import ssl\n",
    "from getpass import getpass\n",
    "\n",
    "from_email = \"simrangrover5@gmail.com\"\n",
    "to_email = \"simrangrover5@gmail.com\"\n",
    "password = getpass(\"\\n Enter your password : \")\n",
    "\n",
    "host = \"smtp.gmail.com\"\n",
    "port = 587\n",
    "\n",
    "message = \"\"\"\n",
    "    This is Mail using python script\n",
    "\"\"\"\n",
    "\n",
    "context = ssl.create_default_context() # higher security "
   ]
  },
  {
   "cell_type": "code",
   "execution_count": 6,
   "metadata": {},
   "outputs": [
    {
     "data": {
      "text/plain": [
       "<ssl.SSLContext at 0x1df612355c0>"
      ]
     },
     "execution_count": 6,
     "metadata": {},
     "output_type": "execute_result"
    }
   ],
   "source": [
    "context"
   ]
  },
  {
   "cell_type": "code",
   "execution_count": 7,
   "metadata": {},
   "outputs": [
    {
     "name": "stdout",
     "output_type": "stream",
     "text": [
      "['__class__', '__delattr__', '__dict__', '__dir__', '__doc__', '__eq__', '__format__', '__ge__', '__getattribute__', '__gt__', '__hash__', '__init__', '__init_subclass__', '__le__', '__lt__', '__module__', '__ne__', '__new__', '__reduce__', '__reduce_ex__', '__repr__', '__setattr__', '__sizeof__', '__str__', '__subclasshook__', '__weakref__', '_encode_hostname', '_host_flags', '_load_windows_store_certs', '_msg_callback', '_set_alpn_protocols', '_set_npn_protocols', '_windows_cert_stores', '_wrap_bio', '_wrap_socket', 'cert_store_stats', 'check_hostname', 'get_ca_certs', 'get_ciphers', 'hostname_checks_common_name', 'keylog_filename', 'load_cert_chain', 'load_default_certs', 'load_dh_params', 'load_verify_locations', 'maximum_version', 'minimum_version', 'num_tickets', 'options', 'post_handshake_auth', 'protocol', 'session_stats', 'set_alpn_protocols', 'set_ciphers', 'set_default_verify_paths', 'set_ecdh_curve', 'set_npn_protocols', 'set_servername_callback', 'sni_callback', 'sslobject_class', 'sslsocket_class', 'verify_flags', 'verify_mode', 'wrap_bio', 'wrap_socket']\n"
     ]
    }
   ],
   "source": [
    "print(dir(context))"
   ]
  },
  {
   "cell_type": "code",
   "execution_count": 10,
   "metadata": {},
   "outputs": [
    {
     "name": "stdout",
     "output_type": "stream",
     "text": [
      "\n",
      " Enter your password : ········\n"
     ]
    }
   ],
   "source": [
    "import smtplib\n",
    "import ssl\n",
    "from getpass import getpass\n",
    "\n",
    "from_email = \"simrangrover5@gmail.com\"\n",
    "to_email = \"simrangrover5@gmail.com\"\n",
    "password = getpass(\"\\n Enter your password : \")\n",
    "\n",
    "host = \"smtp.gmail.com\"\n",
    "port = 587\n",
    "\n",
    "message = \"\"\"\n",
    "    This is Mail using python script\n",
    "\"\"\"\n",
    "\n",
    "context = ssl.create_default_context() # higher security \n",
    "\n",
    "with smtplib.SMTP(host, port) as sock:\n",
    "    sock.starttls(context=context)\n",
    "    sock.login(from_email, password)\n",
    "    sock.sendmail(from_email, to_email, message)"
   ]
  },
  {
   "cell_type": "markdown",
   "metadata": {},
   "source": [
    "https://myaccount.google.com/security\n",
    "\n",
    "\n",
    "This less secure app access is on"
   ]
  },
  {
   "cell_type": "code",
   "execution_count": 12,
   "metadata": {},
   "outputs": [
    {
     "name": "stdout",
     "output_type": "stream",
     "text": [
      "\n",
      " Enter your password : ········\n"
     ]
    }
   ],
   "source": [
    "import smtplib\n",
    "import ssl\n",
    "from getpass import getpass\n",
    "\n",
    "from_email = \"simrangrover5@gmail.com\"\n",
    "to_email = \"simrangrover5@gmail.com\"\n",
    "password = getpass(\"\\n Enter your password : \")\n",
    "\n",
    "host = \"smtp.gmail.com\"\n",
    "port = 587\n",
    "\n",
    "message = \"\"\"\n",
    "    This is Mail using python script\n",
    "\"\"\"\n",
    "\n",
    "context = ssl.create_default_context() # higher security \n",
    "\n",
    "try:\n",
    "    with smtplib.SMTP(host, port) as sock:\n",
    "        sock.starttls(context=context)\n",
    "        sock.login(from_email, password)\n",
    "        sock.sendmail(from_email, to_email, message)\n",
    "except Exception as error:\n",
    "    print(\"\\n ERROR --> \", error)"
   ]
  },
  {
   "cell_type": "markdown",
   "metadata": {},
   "source": [
    "## MIME\n",
    "\n",
    "    Multipurpose Internet Mail Extension\n",
    "    \n",
    "    We use this as a medium to send decorative mails or different types of content \n",
    "    in the mail \n",
    "    \n",
    "        plain text\n",
    "        html text\n",
    "        attachments "
   ]
  },
  {
   "cell_type": "code",
   "execution_count": 14,
   "metadata": {},
   "outputs": [
    {
     "name": "stdout",
     "output_type": "stream",
     "text": [
      "Content-Type: multipart/mixed; boundary=\"===============0265785303965957385==\"\n",
      "MIME-Version: 1.0\n",
      "\n",
      "--===============0265785303965957385==\n",
      "\n",
      "--===============0265785303965957385==--\n",
      "\n"
     ]
    }
   ],
   "source": [
    "from email.mime.text import MIMEText\n",
    "from email.mime.multipart import MIMEMultipart\n",
    "\n",
    "msg = MIMEMultipart()\n",
    "print(msg)"
   ]
  },
  {
   "cell_type": "code",
   "execution_count": 16,
   "metadata": {},
   "outputs": [
    {
     "name": "stdout",
     "output_type": "stream",
     "text": [
      "Content-Type: multipart/mixed; boundary=\"===============4006098720263666611==\"\n",
      "MIME-Version: 1.0\n",
      "From: simrangrover5@gmail.com\n",
      "To: simran.grover@grras.com\n",
      "Subject: PYTHON SCRIPT MAIL\n",
      "\n",
      "--===============4006098720263666611==\n",
      "Content-Type: text/plain; charset=\"us-ascii\"\n",
      "MIME-Version: 1.0\n",
      "Content-Transfer-Encoding: 7bit\n",
      "\n",
      "This is Simran Grover.... Good Morning.... Hope Your Day End Well....\n",
      "--===============4006098720263666611==--\n",
      "\n"
     ]
    }
   ],
   "source": [
    "from email.mime.text import MIMEText\n",
    "from email.mime.multipart import MIMEMultipart\n",
    "\n",
    "msg = MIMEMultipart()\n",
    "msg['From'] = \"simrangrover5@gmail.com\"\n",
    "msg['To'] = \"simran.grover@grras.com\"\n",
    "msg['Subject'] = \"PYTHON SCRIPT MAIL\"\n",
    "\n",
    "plain = \"This is Simran Grover.... Good Morning.... Hope Your Day End Well....\"\n",
    "\n",
    "p = MIMEText(plain, \"plain\") # (msg, content_type_msg)\n",
    "msg.attach(p)\n",
    "print(msg)\n"
   ]
  },
  {
   "cell_type": "code",
   "execution_count": 20,
   "metadata": {},
   "outputs": [
    {
     "name": "stdout",
     "output_type": "stream",
     "text": [
      "\n",
      " MESSAGE SEND SUCCESSFULLY\n"
     ]
    }
   ],
   "source": [
    "from email.mime.text import MIMEText\n",
    "from email.mime.multipart import MIMEMultipart\n",
    "\n",
    "msg = MIMEMultipart()\n",
    "msg['From'] = \"simrangrover5@gmail.com\"\n",
    "msg['To'] = \"simran.grover@grras.com\"\n",
    "msg['Subject'] = \"PYTHON SCRIPT MAIL\"\n",
    "\n",
    "plain = \"This is Simran Grover.... Good Morning.... Hope Your Day End Well....\"\n",
    "\n",
    "p = MIMEText(plain, \"plain\") # (msg, content_type_msg)\n",
    "msg.attach(p)\n",
    "\n",
    "host = \"smtp.gmail.com\"\n",
    "port = 465\n",
    "try:\n",
    "    with smtplib.SMTP_SSL(host, port, context=ssl.create_default_context()) as server:\n",
    "        server.login(msg['From'], password)\n",
    "        server.sendmail(msg['From'], msg['To'], msg.as_string())\n",
    "except Exception as error:\n",
    "    print(\"ERROR --> \", error)\n",
    "else:\n",
    "    print(\"\\n MESSAGE SEND SUCCESSFULLY\")"
   ]
  },
  {
   "cell_type": "code",
   "execution_count": 17,
   "metadata": {},
   "outputs": [
    {
     "data": {
      "text/plain": [
       "'simrangrover5@gmail.com'"
      ]
     },
     "execution_count": 17,
     "metadata": {},
     "output_type": "execute_result"
    }
   ],
   "source": [
    "msg['From']"
   ]
  },
  {
   "cell_type": "code",
   "execution_count": 21,
   "metadata": {},
   "outputs": [
    {
     "name": "stdout",
     "output_type": "stream",
     "text": [
      "\n",
      " MESSAGE SEND SUCCESSFULLY\n"
     ]
    }
   ],
   "source": [
    "from email.mime.text import MIMEText\n",
    "from email.mime.multipart import MIMEMultipart\n",
    "\n",
    "msg = MIMEMultipart()\n",
    "msg['From'] = \"simrangrover5@gmail.com\"\n",
    "msg['To'] = \"simran.grover@grras.com\"\n",
    "msg['Subject'] = \"PYTHON SCRIPT MAIL\"\n",
    "\n",
    "html = \"\"\"\n",
    "<html>\n",
    "<body>\n",
    "<h1 style='color: coral'>This is mail from python script</h1>\n",
    "<label style='color: red; font-size:25px'>GOOD MORNING... HAVE A GOOD DAY</label>\n",
    "</body>\n",
    "</html>\n",
    "\"\"\"\n",
    "\n",
    "p = MIMEText(html, \"html\") # (msg, content_type_msg)\n",
    "msg.attach(p)\n",
    "\n",
    "host = \"smtp.gmail.com\"\n",
    "port = 465\n",
    "try:\n",
    "    with smtplib.SMTP_SSL(host, port, context=ssl.create_default_context()) as server:\n",
    "        server.login(msg['From'], password)\n",
    "        server.sendmail(msg['From'], msg['To'], msg.as_string())\n",
    "except Exception as error:\n",
    "    print(\"ERROR --> \", error)\n",
    "else:\n",
    "    print(\"\\n MESSAGE SEND SUCCESSFULLY\")"
   ]
  },
  {
   "cell_type": "code",
   "execution_count": 22,
   "metadata": {},
   "outputs": [
    {
     "name": "stdout",
     "output_type": "stream",
     "text": [
      "\n",
      " MESSAGE SEND SUCCESSFULLY\n"
     ]
    }
   ],
   "source": [
    "from email.mime.text import MIMEText\n",
    "from email.mime.multipart import MIMEMultipart\n",
    "\n",
    "msg = MIMEMultipart()\n",
    "msg['From'] = \"simrangrover5@gmail.com\"\n",
    "msg['To'] = \"simran.grover@grras.com\"\n",
    "msg['Subject'] = \"PYTHON SCRIPT MAIL\"\n",
    "\n",
    "html = \"\"\"\n",
    "<html>\n",
    "<body>\n",
    "<h1 style='color: coral'>This is mail from python script</h1>\n",
    "<label style='color: red; font-size:25px'>GOOD MORNING... HAVE A GOOD DAY</label>\n",
    "<img src='https://goodmorning-images.org/wp-content/uploads/2021/06/good-morning.jpg'>\n",
    "</body>\n",
    "</html>\n",
    "\"\"\"\n",
    "\n",
    "p = MIMEText(html, \"html\") # (msg, content_type_msg)\n",
    "msg.attach(p)\n",
    "\n",
    "host = \"smtp.gmail.com\"\n",
    "port = 465\n",
    "try:\n",
    "    with smtplib.SMTP_SSL(host, port, context=ssl.create_default_context()) as server:\n",
    "        server.login(msg['From'], password)\n",
    "        server.sendmail(msg['From'], msg['To'], msg.as_string())\n",
    "except Exception as error:\n",
    "    print(\"ERROR --> \", error)\n",
    "else:\n",
    "    print(\"\\n MESSAGE SEND SUCCESSFULLY\")"
   ]
  },
  {
   "cell_type": "code",
   "execution_count": 25,
   "metadata": {},
   "outputs": [
    {
     "name": "stdout",
     "output_type": "stream",
     "text": [
      "\n",
      " MESSAGE SEND SUCCESSFULLY\n"
     ]
    }
   ],
   "source": [
    "from email.mime.text import MIMEText\n",
    "from email.mime.multipart import MIMEMultipart\n",
    "\n",
    "msg = MIMEMultipart()\n",
    "msg['From'] = \"simrangrover5@gmail.com\"\n",
    "msg['To'] = \"ajaybaaba156@gmail.com\"\n",
    "msg['Subject'] = \"PYTHON SCRIPT MAIL\"\n",
    "\n",
    "html = \"\"\"\n",
    "<html>\n",
    "<body>\n",
    "<h1 style='color: coral'>This is mail from python script</h1>\n",
    "<label style='color: red; font-size:25px'>GOOD MORNING... HAVE A GOOD DAY</label><br>\n",
    "<img src='https://goodmorning-images.org/wp-content/uploads/2021/06/good-morning.jpg'>\n",
    "</body>\n",
    "</html>\n",
    "\"\"\"\n",
    "\n",
    "p = MIMEText(html, \"html\") # (msg, content_type_msg)\n",
    "msg.attach(p)\n",
    "\n",
    "host = \"smtp.gmail.com\"\n",
    "port = 465\n",
    "try:\n",
    "    with smtplib.SMTP_SSL(host, port, context=ssl.create_default_context()) as server:\n",
    "        server.login(msg['From'], password)\n",
    "        server.sendmail(msg['From'], msg['To'], msg.as_string())\n",
    "except Exception as error:\n",
    "    print(\"ERROR --> \", error)\n",
    "else:\n",
    "    print(\"\\n MESSAGE SEND SUCCESSFULLY\")"
   ]
  },
  {
   "cell_type": "markdown",
   "metadata": {},
   "source": [
    "### Send OTP to user using flask \n",
    "\n",
    "    signup --> email verification --> otp \n",
    "    \n",
    "    send mail with attachments"
   ]
  },
  {
   "cell_type": "code",
   "execution_count": null,
   "metadata": {},
   "outputs": [],
   "source": []
  }
 ],
 "metadata": {
  "kernelspec": {
   "display_name": "Python 3",
   "language": "python",
   "name": "python3"
  },
  "language_info": {
   "codemirror_mode": {
    "name": "ipython",
    "version": 3
   },
   "file_extension": ".py",
   "mimetype": "text/x-python",
   "name": "python",
   "nbconvert_exporter": "python",
   "pygments_lexer": "ipython3",
   "version": "3.8.5"
  }
 },
 "nbformat": 4,
 "nbformat_minor": 4
}
