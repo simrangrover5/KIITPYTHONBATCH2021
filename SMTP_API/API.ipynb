{
 "cells": [
  {
   "cell_type": "markdown",
   "metadata": {},
   "source": [
    "### API \n",
    "        \n",
    "        Application Programming Interface\n",
    "        \n",
    "            Interface --> Medium \n",
    "            Application and Program \n",
    "            \n",
    "            data exchange \n",
    "            \n",
    "        API --> url\n",
    "                method --> GET, POST, PUT, PATCH, DELETE etc\n",
    "                key(token) --> authorize \n",
    "                app --> key\n",
    "           \n",
    "        1. SSO api (Single Sign On)\n",
    "        2. Login with google/ login with facebook\n",
    "        3. Payment Gateways\n",
    "        4. Ola, uber etc are using maps api\n",
    "        5. Fb apis\n",
    "        6. Google Ads API\n",
    "        7. SMS API\n",
    "        8. Book my show\n",
    "        9. Flights tickets\n",
    "        10. Railway\n",
    "        11. Youtube API\n",
    "        etc"
   ]
  },
  {
   "cell_type": "markdown",
   "metadata": {},
   "source": [
    "#### REST API AND SOAP API"
   ]
  },
  {
   "cell_type": "markdown",
   "metadata": {},
   "source": [
    "    ? --> after this the query string starts"
   ]
  },
  {
   "cell_type": "code",
   "execution_count": 1,
   "metadata": {},
   "outputs": [],
   "source": [
    "import requests"
   ]
  },
  {
   "cell_type": "code",
   "execution_count": 3,
   "metadata": {},
   "outputs": [
    {
     "data": {
      "text/plain": [
       "200"
      ]
     },
     "execution_count": 3,
     "metadata": {},
     "output_type": "execute_result"
    }
   ],
   "source": [
    "key = \"EAAEEjVFv3UABADhWK79KrZAU6lZAIVJdFHHi9CrNI6ThKcfeiXTJ4Qe0GMFm2VTllBymCeY15U4WJR3DIlTKj46Q5kq2WcR16IZCbVvDZA2BKCDZCNVHPtdZAdpMRgFJg6Q4vrWL4TJ7gS41dL4gWqqDt1CtZAuZBee96d6nfluaCBPgFscvQ5yk1W0I4yjoBSzwofOTVjR8kZB16C3lZAgS62ZBUrio7uE3iM6coei0gG2LO0xEcEPmTK5\"\n",
    "url = f\"https://graph.facebook.com/v11.0/me?fields=id,name,email&access_token={key}\"\n",
    "resp = requests.get(url)\n",
    "resp.status_code"
   ]
  },
  {
   "cell_type": "code",
   "execution_count": 4,
   "metadata": {},
   "outputs": [
    {
     "data": {
      "text/plain": [
       "b'{\"id\":\"4204011173045632\",\"name\":\"Simran Grover\",\"email\":\"simrangrover5\\\\u0040gmail.com\"}'"
      ]
     },
     "execution_count": 4,
     "metadata": {},
     "output_type": "execute_result"
    }
   ],
   "source": [
    "resp.content"
   ]
  },
  {
   "cell_type": "code",
   "execution_count": 5,
   "metadata": {},
   "outputs": [
    {
     "data": {
      "text/plain": [
       "'{\"id\":\"4204011173045632\",\"name\":\"Simran Grover\",\"email\":\"simrangrover5\\\\u0040gmail.com\"}'"
      ]
     },
     "execution_count": 5,
     "metadata": {},
     "output_type": "execute_result"
    }
   ],
   "source": [
    "resp.text"
   ]
  },
  {
   "cell_type": "code",
   "execution_count": 7,
   "metadata": {},
   "outputs": [],
   "source": [
    "data = resp.json()"
   ]
  },
  {
   "cell_type": "code",
   "execution_count": 8,
   "metadata": {},
   "outputs": [
    {
     "data": {
      "text/plain": [
       "'4204011173045632'"
      ]
     },
     "execution_count": 8,
     "metadata": {},
     "output_type": "execute_result"
    }
   ],
   "source": [
    "data['id']"
   ]
  },
  {
   "cell_type": "code",
   "execution_count": 9,
   "metadata": {},
   "outputs": [
    {
     "data": {
      "text/plain": [
       "'Simran Grover'"
      ]
     },
     "execution_count": 9,
     "metadata": {},
     "output_type": "execute_result"
    }
   ],
   "source": [
    "data['name']"
   ]
  },
  {
   "cell_type": "code",
   "execution_count": 10,
   "metadata": {},
   "outputs": [
    {
     "data": {
      "text/plain": [
       "'simrangrover5@gmail.com'"
      ]
     },
     "execution_count": 10,
     "metadata": {},
     "output_type": "execute_result"
    }
   ],
   "source": [
    "data['email']"
   ]
  },
  {
   "cell_type": "code",
   "execution_count": 11,
   "metadata": {},
   "outputs": [
    {
     "data": {
      "text/plain": [
       "{'id': '4204011173045632',\n",
       " 'name': 'Simran Grover',\n",
       " 'email': 'simrangrover5@gmail.com'}"
      ]
     },
     "execution_count": 11,
     "metadata": {},
     "output_type": "execute_result"
    }
   ],
   "source": [
    "data"
   ]
  },
  {
   "cell_type": "code",
   "execution_count": 12,
   "metadata": {},
   "outputs": [],
   "source": [
    "from pprint import pprint"
   ]
  },
  {
   "cell_type": "code",
   "execution_count": 14,
   "metadata": {},
   "outputs": [
    {
     "name": "stdout",
     "output_type": "stream",
     "text": [
      "\n",
      " Enter Fields , separated --> posts\n",
      "{'id': '4204011173045632',\n",
      " 'posts': {'data': [{'created_time': '2020-10-29T15:34:40+0000',\n",
      "                     'id': '4204011173045632_2106467652800005'},\n",
      "                    {'created_time': '2020-06-06T13:26:13+0000',\n",
      "                     'id': '4204011173045632_3050666135046814'},\n",
      "                    {'created_time': '2020-06-01T17:52:28+0000',\n",
      "                     'id': '4204011173045632_3038494352930659',\n",
      "                     'message': 'Omg 6 years back Prateek Pasricha Sonam '\n",
      "                                'Grover🤣🤣'},\n",
      "                    {'created_time': '2020-05-12T07:47:58+0000',\n",
      "                     'id': '4204011173045632_2987979897982105',\n",
      "                     'message': 'Proud❤️😇'},\n",
      "                    {'created_time': '2020-05-07T10:03:04+0000',\n",
      "                     'id': '4204011173045632_2976948349085260'},\n",
      "                    {'created_time': '2020-05-04T04:20:27+0000',\n",
      "                     'id': '4204011173045632_2969687816477980'},\n",
      "                    {'created_time': '2020-03-19T12:42:16+0000',\n",
      "                     'id': '4204011173045632_2868820909898005'},\n",
      "                    {'created_time': '2020-02-25T14:17:58+0000',\n",
      "                     'id': '4204011173045632_2821500974629999',\n",
      "                     'message': 'Too hard to carry😪'},\n",
      "                    {'created_time': '2019-10-13T02:32:53+0000',\n",
      "                     'id': '4204011173045632_2536022416511191'},\n",
      "                    {'created_time': '2019-09-20T06:27:15+0000',\n",
      "                     'id': '4204011173045632_2485729834873783'},\n",
      "                    {'created_time': '2019-08-19T17:06:58+0000',\n",
      "                     'id': '4204011173045632_2428307400616027',\n",
      "                     'message': 'Hey babe ♥️ Muskan Batra birthday soon🤩'},\n",
      "                    {'created_time': '2019-08-18T19:33:54+0000',\n",
      "                     'id': '4204011173045632_2426749554105145'},\n",
      "                    {'created_time': '2019-07-28T02:57:25+0000',\n",
      "                     'id': '4204011173045632_2390061257773975'},\n",
      "                    {'created_time': '2019-07-15T05:36:27+0000',\n",
      "                     'id': '4204011173045632_2367914416655326'},\n",
      "                    {'created_time': '2019-05-28T15:40:57+0000',\n",
      "                     'id': '4204011173045632_2285031841610251',\n",
      "                     'message': 'Now only this picture is left Sonam Grover🤣'},\n",
      "                    {'created_time': '2019-05-26T10:14:05+0000',\n",
      "                     'id': '4204011173045632_2281341411979294'},\n",
      "                    {'created_time': '2019-05-25T09:55:35+0000',\n",
      "                     'id': '4204011173045632_2279649135481855'},\n",
      "                    {'created_time': '2019-05-03T13:56:42+0000',\n",
      "                     'id': '4204011173045632_2244574925655943'},\n",
      "                    {'created_time': '2019-04-23T18:22:52+0000',\n",
      "                     'id': '4204011173045632_2229682317145204'},\n",
      "                    {'created_time': '2019-03-31T08:02:22+0000',\n",
      "                     'id': '4204011173045632_2194347604012009'},\n",
      "                    {'created_time': '2019-03-07T18:42:12+0000',\n",
      "                     'id': '4204011173045632_2161371100642993'},\n",
      "                    {'created_time': '2019-02-21T17:12:29+0000',\n",
      "                     'id': '4204011173045632_2140903952689708'},\n",
      "                    {'created_time': '2019-02-12T14:58:08+0000',\n",
      "                     'id': '4204011173045632_2126090164171087'},\n",
      "                    {'created_time': '2019-01-30T13:35:44+0000',\n",
      "                     'id': '4204011173045632_2106467709466666'},\n",
      "                    {'created_time': '2019-01-11T15:17:11+0000',\n",
      "                     'id': '4204011173045632_2077900658990038',\n",
      "                     'message': 'Nobody really has its \"all\"  whatever you do '\n",
      "                                'have thats the \"all\" you need'}],\n",
      "           'paging': {'next': 'https://graph.facebook.com/v11.0/4204011173045632/posts?access_token=EAAEEjVFv3UABADhWK79KrZAU6lZAIVJdFHHi9CrNI6ThKcfeiXTJ4Qe0GMFm2VTllBymCeY15U4WJR3DIlTKj46Q5kq2WcR16IZCbVvDZA2BKCDZCNVHPtdZAdpMRgFJg6Q4vrWL4TJ7gS41dL4gWqqDt1CtZAuZBee96d6nfluaCBPgFscvQ5yk1W0I4yjoBSzwofOTVjR8kZB16C3lZAgS62ZBUrio7uE3iM6coei0gG2LO0xEcEPmTK5&until=1547219831&since&__paging_token=enc_AdCu0cZCxH0IqWfUeIlu8BTpb1dXtDZAFaNfUpq9YZBneK1ZAyWiNSayslNRjpbC6RHEZCyHZARLaZB651rFTZA7ozbZASl3zEHeKEIwbOynkKpGlmmaukUiHL0ZBsZBliZCTTQ6PgsDRKHT6uOuDpuucXF8DhI1oqPz&__previous',\n",
      "                      'previous': 'https://graph.facebook.com/v11.0/4204011173045632/posts?access_token=EAAEEjVFv3UABADhWK79KrZAU6lZAIVJdFHHi9CrNI6ThKcfeiXTJ4Qe0GMFm2VTllBymCeY15U4WJR3DIlTKj46Q5kq2WcR16IZCbVvDZA2BKCDZCNVHPtdZAdpMRgFJg6Q4vrWL4TJ7gS41dL4gWqqDt1CtZAuZBee96d6nfluaCBPgFscvQ5yk1W0I4yjoBSzwofOTVjR8kZB16C3lZAgS62ZBUrio7uE3iM6coei0gG2LO0xEcEPmTK5&__previous=1&since=1603985680&until&__paging_token=enc_AdDBSO914w0dgjmqAKp1Y8eMsyWT8cX9945QrZBAd9qcyfIOdCJO2OolnudoAGeR3HtyyZBaIoVN8mGNGxdPpi5nqjQqHmFlCYDATM0WOu0h8yZC9WTy3Be2XHpheAXTnD27W9KexOn39of1ZCaXEum6jJIz'}}}\n"
     ]
    }
   ],
   "source": [
    "key = \"EAAEEjVFv3UABADhWK79KrZAU6lZAIVJdFHHi9CrNI6ThKcfeiXTJ4Qe0GMFm2VTllBymCeY15U4WJR3DIlTKj46Q5kq2WcR16IZCbVvDZA2BKCDZCNVHPtdZAdpMRgFJg6Q4vrWL4TJ7gS41dL4gWqqDt1CtZAuZBee96d6nfluaCBPgFscvQ5yk1W0I4yjoBSzwofOTVjR8kZB16C3lZAgS62ZBUrio7uE3iM6coei0gG2LO0xEcEPmTK5\"\n",
    "fields = input(\"\\n Enter Fields , separated --> \")\n",
    "url = f\"https://graph.facebook.com/v11.0/me?fields={fields}&access_token={key}\"\n",
    "resp = requests.get(url)\n",
    "if resp.status_code == 200:\n",
    "    data = resp.json()\n",
    "    pprint(data)\n",
    "else:\n",
    "    print(\"\\n INVALID URL\")"
   ]
  },
  {
   "cell_type": "code",
   "execution_count": 19,
   "metadata": {},
   "outputs": [
    {
     "data": {
      "text/plain": [
       "'Proud❤️😇'"
      ]
     },
     "execution_count": 19,
     "metadata": {},
     "output_type": "execute_result"
    }
   ],
   "source": [
    "data['posts']['data'][3]['message']"
   ]
  },
  {
   "cell_type": "code",
   "execution_count": 20,
   "metadata": {},
   "outputs": [],
   "source": [
    "key = \"e9034b1eee3034977886c9f275b27127\"\n",
    "url = \"https://api.openweathermap.org/data/2.5/weather?q={city_name}&appid={key}\""
   ]
  },
  {
   "cell_type": "code",
   "execution_count": null,
   "metadata": {},
   "outputs": [],
   "source": []
  }
 ],
 "metadata": {
  "kernelspec": {
   "display_name": "Python 3",
   "language": "python",
   "name": "python3"
  },
  "language_info": {
   "codemirror_mode": {
    "name": "ipython",
    "version": 3
   },
   "file_extension": ".py",
   "mimetype": "text/x-python",
   "name": "python",
   "nbconvert_exporter": "python",
   "pygments_lexer": "ipython3",
   "version": "3.8.5"
  }
 },
 "nbformat": 4,
 "nbformat_minor": 4
}
